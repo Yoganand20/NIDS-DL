{
 "cells": [
  {
   "cell_type": "code",
   "execution_count": 1,
   "id": "257d8a51",
   "metadata": {
    "_cell_guid": "b1076dfc-b9ad-4769-8c92-a6c4dae69d19",
    "_uuid": "8f2839f25d086af736a60e9eeb907d3b93b6e0e5",
    "execution": {
     "iopub.execute_input": "2024-11-15T16:17:03.649078Z",
     "iopub.status.busy": "2024-11-15T16:17:03.648220Z",
     "iopub.status.idle": "2024-11-15T16:17:04.521201Z",
     "shell.execute_reply": "2024-11-15T16:17:04.519637Z"
    },
    "papermill": {
     "duration": 0.883174,
     "end_time": "2024-11-15T16:17:04.524328",
     "exception": false,
     "start_time": "2024-11-15T16:17:03.641154",
     "status": "completed"
    },
    "tags": []
   },
   "outputs": [
    {
     "name": "stdout",
     "output_type": "stream",
     "text": [
      "/kaggle/input/NF-UQ-NIDS-V2-Sample.csv\n",
      "/kaggle/input/NF-UQ-NIDS-V2_Sample-2.csv\n"
     ]
    }
   ],
   "source": [
    "import numpy as np # linear algebra\n",
    "import pandas as pd # data processing, CSV file I/O (e.g. pd.read_csv)\n",
    "\n",
    "import os\n",
    "for dirname, _, filenames in os.walk('/kaggle/input'):\n",
    "    for filename in filenames:\n",
    "        print(os.path.join(dirname, filename))\n",
    "\n"
   ]
  },
  {
   "cell_type": "code",
   "execution_count": 2,
   "id": "3e051cb7",
   "metadata": {
    "execution": {
     "iopub.execute_input": "2024-11-15T16:17:04.537384Z",
     "iopub.status.busy": "2024-11-15T16:17:04.536817Z",
     "iopub.status.idle": "2024-11-15T16:17:32.154156Z",
     "shell.execute_reply": "2024-11-15T16:17:32.152970Z"
    },
    "papermill": {
     "duration": 27.626353,
     "end_time": "2024-11-15T16:17:32.156720",
     "exception": false,
     "start_time": "2024-11-15T16:17:04.530367",
     "status": "completed"
    },
    "tags": []
   },
   "outputs": [],
   "source": [
    "df = pd.read_csv('/kaggle/input/NF-UQ-NIDS-V2_Sample-2.csv')"
   ]
  },
  {
   "cell_type": "code",
   "execution_count": 3,
   "id": "7543cd44",
   "metadata": {
    "execution": {
     "iopub.execute_input": "2024-11-15T16:17:32.168372Z",
     "iopub.status.busy": "2024-11-15T16:17:32.167496Z",
     "iopub.status.idle": "2024-11-15T16:17:32.174992Z",
     "shell.execute_reply": "2024-11-15T16:17:32.173979Z"
    },
    "papermill": {
     "duration": 0.015582,
     "end_time": "2024-11-15T16:17:32.177188",
     "exception": false,
     "start_time": "2024-11-15T16:17:32.161606",
     "status": "completed"
    },
    "tags": []
   },
   "outputs": [
    {
     "data": {
      "text/plain": [
       "3799399"
      ]
     },
     "execution_count": 3,
     "metadata": {},
     "output_type": "execute_result"
    }
   ],
   "source": [
    "df.shape[0]"
   ]
  },
  {
   "cell_type": "code",
   "execution_count": 4,
   "id": "29040382",
   "metadata": {
    "execution": {
     "iopub.execute_input": "2024-11-15T16:17:32.189120Z",
     "iopub.status.busy": "2024-11-15T16:17:32.188339Z",
     "iopub.status.idle": "2024-11-15T16:17:36.155196Z",
     "shell.execute_reply": "2024-11-15T16:17:36.154218Z"
    },
    "papermill": {
     "duration": 3.97533,
     "end_time": "2024-11-15T16:17:36.157466",
     "exception": false,
     "start_time": "2024-11-15T16:17:32.182136",
     "status": "completed"
    },
    "tags": []
   },
   "outputs": [
    {
     "data": {
      "text/plain": [
       "array(['Analysis', 'Backdoor', 'Benign', 'Bot', 'Brute Force', 'DDoS',\n",
       "       'DoS', 'Exploits', 'Fuzzers', 'Generic', 'Infilteration',\n",
       "       'Reconnaissance', 'Shellcode', 'Theft', 'Worms', 'injection',\n",
       "       'mitm', 'password', 'ransomware', 'scanning', 'xss'], dtype=object)"
      ]
     },
     "execution_count": 4,
     "metadata": {},
     "output_type": "execute_result"
    }
   ],
   "source": [
    "np.unique(df['Attack'])"
   ]
  },
  {
   "cell_type": "code",
   "execution_count": 5,
   "id": "f31a99af",
   "metadata": {
    "execution": {
     "iopub.execute_input": "2024-11-15T16:17:36.169246Z",
     "iopub.status.busy": "2024-11-15T16:17:36.168822Z",
     "iopub.status.idle": "2024-11-15T16:17:37.349116Z",
     "shell.execute_reply": "2024-11-15T16:17:37.348171Z"
    },
    "papermill": {
     "duration": 1.189134,
     "end_time": "2024-11-15T16:17:37.351679",
     "exception": false,
     "start_time": "2024-11-15T16:17:36.162545",
     "status": "completed"
    },
    "tags": []
   },
   "outputs": [],
   "source": [
    "from sklearn.preprocessing import LabelEncoder\n",
    "LE1 = LabelEncoder()"
   ]
  },
  {
   "cell_type": "code",
   "execution_count": 6,
   "id": "f9fcc432",
   "metadata": {
    "execution": {
     "iopub.execute_input": "2024-11-15T16:17:37.364558Z",
     "iopub.status.busy": "2024-11-15T16:17:37.363993Z",
     "iopub.status.idle": "2024-11-15T16:17:37.372148Z",
     "shell.execute_reply": "2024-11-15T16:17:37.371120Z"
    },
    "papermill": {
     "duration": 0.01706,
     "end_time": "2024-11-15T16:17:37.374269",
     "exception": false,
     "start_time": "2024-11-15T16:17:37.357209",
     "status": "completed"
    },
    "tags": []
   },
   "outputs": [],
   "source": [
    "def processX(X):\n",
    "    #ip addresses are in format xxx.xxx.xxx.xxx which is not compatible with the models\n",
    "    srcaddr= LE1.fit_transform(X['IPV4_SRC_ADDR'])\n",
    "    X['IPV4_SRC_ADDR'] = pd.Series(srcaddr)\n",
    "    dstaddr= LE1.fit_transform(X['IPV4_DST_ADDR'])\n",
    "    X['IPV4_DST_ADDR'] = pd.Series(dstaddr)\n",
    "    \n",
    "\n",
    "    from sklearn.impute import SimpleImputer \n",
    "    imputer = SimpleImputer(missing_values = np.nan, strategy = 'mean')\n",
    "    \n",
    "    X_object = X.select_dtypes(\"object\")\n",
    "    X_int = X.select_dtypes(exclude = \"object\")\n",
    "    X_columns = X_int.columns #this stores column names \n",
    "\n",
    "    imputer.fit(X_int)\n",
    "    X_int = imputer.transform(X_int)\n",
    "    X_int = pd.DataFrame(X_int)\n",
    "    \n",
    "    X_int.columns = X_columns #corrects column name\n",
    "    \n",
    "    X_object = X_object.fillna(\"unknown\")\n",
    "    X = X_object.join(X_int)\n",
    "    from sklearn.preprocessing import StandardScaler, MinMaxScaler\n",
    "    scaler = MinMaxScaler()\n",
    "    # store the columns\n",
    "    cols = X.columns\n",
    "    \n",
    "    # transform the data\n",
    "    X_scaled = scaler.fit_transform(X)\n",
    "    \n",
    "    X_scaled = pd.DataFrame(X_scaled, columns = cols)\n",
    "     \n",
    "    \n",
    "    return X_scaled"
   ]
  },
  {
   "cell_type": "code",
   "execution_count": 7,
   "id": "cf85991e",
   "metadata": {
    "execution": {
     "iopub.execute_input": "2024-11-15T16:17:37.385876Z",
     "iopub.status.busy": "2024-11-15T16:17:37.385430Z",
     "iopub.status.idle": "2024-11-15T16:17:37.390571Z",
     "shell.execute_reply": "2024-11-15T16:17:37.389428Z"
    },
    "papermill": {
     "duration": 0.013515,
     "end_time": "2024-11-15T16:17:37.392747",
     "exception": false,
     "start_time": "2024-11-15T16:17:37.379232",
     "status": "completed"
    },
    "tags": []
   },
   "outputs": [],
   "source": [
    "from sklearn.preprocessing import LabelEncoder\n",
    "LE = LabelEncoder()"
   ]
  },
  {
   "cell_type": "code",
   "execution_count": 8,
   "id": "76d16f5c",
   "metadata": {
    "execution": {
     "iopub.execute_input": "2024-11-15T16:17:37.405867Z",
     "iopub.status.busy": "2024-11-15T16:17:37.405466Z",
     "iopub.status.idle": "2024-11-15T16:17:46.282343Z",
     "shell.execute_reply": "2024-11-15T16:17:46.281318Z"
    },
    "papermill": {
     "duration": 8.885936,
     "end_time": "2024-11-15T16:17:46.284956",
     "exception": false,
     "start_time": "2024-11-15T16:17:37.399020",
     "status": "completed"
    },
    "tags": []
   },
   "outputs": [],
   "source": [
    "X=df.drop(['Attack','Dataset','Label','Attack_Class'],axis=1)\n",
    "y=df['Attack']\n",
    "X=processX(X)"
   ]
  },
  {
   "cell_type": "code",
   "execution_count": 9,
   "id": "a6b872ea",
   "metadata": {
    "execution": {
     "iopub.execute_input": "2024-11-15T16:17:46.297611Z",
     "iopub.status.busy": "2024-11-15T16:17:46.296543Z",
     "iopub.status.idle": "2024-11-15T16:17:47.556466Z",
     "shell.execute_reply": "2024-11-15T16:17:47.555402Z"
    },
    "papermill": {
     "duration": 1.268848,
     "end_time": "2024-11-15T16:17:47.559093",
     "exception": false,
     "start_time": "2024-11-15T16:17:46.290245",
     "status": "completed"
    },
    "tags": []
   },
   "outputs": [],
   "source": [
    "\n",
    "# Assuming 'y_train' and 'y_test' are your original target labels\n",
    "target_classes = ['Benign', 'DDoS', 'DoS', 'Brute Force','injection'] \n",
    "\n",
    "# Filter the data\n",
    "X = X[np.isin(y, target_classes)]\n",
    "y = y[np.isin(y, target_classes)]\n"
   ]
  },
  {
   "cell_type": "code",
   "execution_count": 10,
   "id": "d87e6955",
   "metadata": {
    "execution": {
     "iopub.execute_input": "2024-11-15T16:17:47.571423Z",
     "iopub.status.busy": "2024-11-15T16:17:47.570429Z",
     "iopub.status.idle": "2024-11-15T16:17:48.247384Z",
     "shell.execute_reply": "2024-11-15T16:17:48.246039Z"
    },
    "papermill": {
     "duration": 0.685489,
     "end_time": "2024-11-15T16:17:48.249767",
     "exception": false,
     "start_time": "2024-11-15T16:17:47.564278",
     "status": "completed"
    },
    "tags": []
   },
   "outputs": [
    {
     "name": "stdout",
     "output_type": "stream",
     "text": [
      "0: Benign\n",
      "1: Brute Force\n",
      "2: DDoS\n",
      "3: DoS\n",
      "4: injection\n"
     ]
    }
   ],
   "source": [
    "multilbl = LE.fit_transform(y)\n",
    "y = pd.Series(multilbl)\n",
    "# Access the original classes\n",
    "classes = LE.classes_\n",
    "# Print the mapping\n",
    "for i, cls in enumerate(classes):\n",
    "    print(f\"{i}: {cls}\")"
   ]
  },
  {
   "cell_type": "code",
   "execution_count": 11,
   "id": "7d98049f",
   "metadata": {
    "execution": {
     "iopub.execute_input": "2024-11-15T16:17:48.261621Z",
     "iopub.status.busy": "2024-11-15T16:17:48.261191Z",
     "iopub.status.idle": "2024-11-15T16:18:01.453427Z",
     "shell.execute_reply": "2024-11-15T16:18:01.452258Z"
    },
    "papermill": {
     "duration": 13.201174,
     "end_time": "2024-11-15T16:18:01.456040",
     "exception": false,
     "start_time": "2024-11-15T16:17:48.254866",
     "status": "completed"
    },
    "tags": []
   },
   "outputs": [],
   "source": [
    "from tensorflow.keras.utils import to_categorical\n",
    "y_cat = to_categorical(y)"
   ]
  },
  {
   "cell_type": "code",
   "execution_count": 12,
   "id": "c9462e38",
   "metadata": {
    "execution": {
     "iopub.execute_input": "2024-11-15T16:18:01.468372Z",
     "iopub.status.busy": "2024-11-15T16:18:01.467717Z",
     "iopub.status.idle": "2024-11-15T16:18:05.511384Z",
     "shell.execute_reply": "2024-11-15T16:18:05.510344Z"
    },
    "papermill": {
     "duration": 4.052484,
     "end_time": "2024-11-15T16:18:05.513759",
     "exception": false,
     "start_time": "2024-11-15T16:18:01.461275",
     "status": "completed"
    },
    "tags": []
   },
   "outputs": [],
   "source": [
    "from sklearn.model_selection import train_test_split\n",
    "x_train_dl, x_test_dl, y_train_dl, y_test_dl = train_test_split(X, y, test_size=0.2,random_state=55)\n",
    "x_train_dl, x_val_dl, y_train_dl, y_val_dl = train_test_split(x_train_dl, y_train_dl, test_size=0.25,random_state=55)"
   ]
  },
  {
   "cell_type": "code",
   "execution_count": 13,
   "id": "f822cf28",
   "metadata": {
    "execution": {
     "iopub.execute_input": "2024-11-15T16:18:05.525598Z",
     "iopub.status.busy": "2024-11-15T16:18:05.525172Z",
     "iopub.status.idle": "2024-11-15T16:18:05.811283Z",
     "shell.execute_reply": "2024-11-15T16:18:05.810252Z"
    },
    "papermill": {
     "duration": 0.29456,
     "end_time": "2024-11-15T16:18:05.813398",
     "exception": false,
     "start_time": "2024-11-15T16:18:05.518838",
     "status": "completed"
    },
    "tags": []
   },
   "outputs": [],
   "source": [
    "# Assuming you've identified unique attack types\n",
    "unique_attacks = sorted(list(set(y)))"
   ]
  },
  {
   "cell_type": "code",
   "execution_count": 14,
   "id": "fac67ad6",
   "metadata": {
    "execution": {
     "iopub.execute_input": "2024-11-15T16:18:05.825122Z",
     "iopub.status.busy": "2024-11-15T16:18:05.824738Z",
     "iopub.status.idle": "2024-11-15T16:18:05.930360Z",
     "shell.execute_reply": "2024-11-15T16:18:05.929352Z"
    },
    "papermill": {
     "duration": 0.114501,
     "end_time": "2024-11-15T16:18:05.932927",
     "exception": false,
     "start_time": "2024-11-15T16:18:05.818426",
     "status": "completed"
    },
    "tags": []
   },
   "outputs": [],
   "source": [
    "from sklearn.ensemble import RandomForestClassifier\n",
    "from sklearn.feature_selection import SelectFromModel"
   ]
  },
  {
   "cell_type": "code",
   "execution_count": 15,
   "id": "2692f5f2",
   "metadata": {
    "execution": {
     "iopub.execute_input": "2024-11-15T16:18:05.944904Z",
     "iopub.status.busy": "2024-11-15T16:18:05.944472Z",
     "iopub.status.idle": "2024-11-15T16:18:05.949544Z",
     "shell.execute_reply": "2024-11-15T16:18:05.948531Z"
    },
    "papermill": {
     "duration": 0.013527,
     "end_time": "2024-11-15T16:18:05.951706",
     "exception": false,
     "start_time": "2024-11-15T16:18:05.938179",
     "status": "completed"
    },
    "tags": []
   },
   "outputs": [],
   "source": [
    "from sklearn.feature_selection import RFE"
   ]
  },
  {
   "cell_type": "code",
   "execution_count": 16,
   "id": "05268cfc",
   "metadata": {
    "execution": {
     "iopub.execute_input": "2024-11-15T16:18:05.963515Z",
     "iopub.status.busy": "2024-11-15T16:18:05.963088Z",
     "iopub.status.idle": "2024-11-15T16:18:05.968133Z",
     "shell.execute_reply": "2024-11-15T16:18:05.967186Z"
    },
    "papermill": {
     "duration": 0.013533,
     "end_time": "2024-11-15T16:18:05.970308",
     "exception": false,
     "start_time": "2024-11-15T16:18:05.956775",
     "status": "completed"
    },
    "tags": []
   },
   "outputs": [],
   "source": [
    "# # Feature Selection for each attack type (OvR)\n",
    "# for i in range(0,3):\n",
    "    \n",
    "#     # Create OvR target variable\n",
    "#     y_train_ovr = (y_train_dl == i).astype(int)\n",
    "#     y_test_ovr = (y_test_dl == i).astype(int)\n",
    "#     y_val_ovr = (y_val_dl == i).astype(int)\n",
    "    \n",
    "#     # Create and train the OvR model\n",
    "#     print(\"Feature Importance for\",i)\n",
    "#     estimator = RandomForestClassifier()\n",
    "#     selector = RFE(estimator,n_features_to_select=15,verbose=1)\n",
    "#     selector.fit(x_train_dl, y_train_ovr)\n",
    "    \n",
    "#     print(\"Selcting features\")\n",
    "#     X_train_selected = selector.transform(x_train_dl)\n",
    "#     X_test_selected = selector.transform(x_test_dl)\n",
    "#     X_val_selected = selector.transform(x_val_dl)\n",
    "\n",
    "#     print(\"Seletected Features: \",selector.get_feature_names_out(input_features=None))\n",
    "#     print(X_train_selected)"
   ]
  },
  {
   "cell_type": "code",
   "execution_count": 17,
   "id": "98ffe466",
   "metadata": {
    "execution": {
     "iopub.execute_input": "2024-11-15T16:18:05.982013Z",
     "iopub.status.busy": "2024-11-15T16:18:05.981626Z",
     "iopub.status.idle": "2024-11-15T16:18:06.004587Z",
     "shell.execute_reply": "2024-11-15T16:18:06.003509Z"
    },
    "papermill": {
     "duration": 0.031591,
     "end_time": "2024-11-15T16:18:06.006975",
     "exception": false,
     "start_time": "2024-11-15T16:18:05.975384",
     "status": "completed"
    },
    "tags": []
   },
   "outputs": [],
   "source": [
    "from mlxtend.feature_selection import SequentialFeatureSelector as SFS\n",
    "\n",
    "from sklearn.linear_model import LinearRegression"
   ]
  },
  {
   "cell_type": "code",
   "execution_count": 18,
   "id": "8a0e89ae",
   "metadata": {
    "execution": {
     "iopub.execute_input": "2024-11-15T16:18:06.019665Z",
     "iopub.status.busy": "2024-11-15T16:18:06.018704Z",
     "iopub.status.idle": "2024-11-15T19:26:22.139895Z",
     "shell.execute_reply": "2024-11-15T19:26:22.135707Z"
    },
    "papermill": {
     "duration": 11296.132356,
     "end_time": "2024-11-15T19:26:22.144658",
     "exception": false,
     "start_time": "2024-11-15T16:18:06.012302",
     "status": "completed"
    },
    "tags": []
   },
   "outputs": [
    {
     "name": "stdout",
     "output_type": "stream",
     "text": [
      "Feature Importance for Benign\n"
     ]
    },
    {
     "name": "stderr",
     "output_type": "stream",
     "text": [
      "Features: 15/15"
     ]
    },
    {
     "name": "stdout",
     "output_type": "stream",
     "text": [
      "Selcting features\n",
      "Seletected Features:  ['IPV4_SRC_ADDR', 'L4_DST_PORT', 'L7_PROTO', 'TCP_FLAGS', 'CLIENT_TCP_FLAGS', 'FLOW_DURATION_MILLISECONDS', 'DURATION_IN', 'MAX_TTL', 'SHORTEST_FLOW_PKT', 'MIN_IP_PKT_LEN', 'RETRANSMITTED_OUT_PKTS', 'TCP_WIN_MAX_IN', 'TCP_WIN_MAX_OUT', 'ICMP_TYPE', 'FTP_COMMAND_RET_CODE']\n",
      "         IPV4_SRC_ADDR  L4_DST_PORT  L7_PROTO  TCP_FLAGS  CLIENT_TCP_FLAGS  \\\n",
      "179087        0.538815     0.001221  0.028226   0.008969          0.008969   \n",
      "285799        0.538860     0.001221  0.758065   0.000000          0.000000   \n",
      "3016282       0.538815     0.001221  0.758065   0.000000          0.000000   \n",
      "2875841       0.538838     0.001221  0.028226   0.008969          0.008969   \n",
      "615171        0.538472     0.030671  0.000000   0.098655          0.008969   \n",
      "...                ...          ...       ...        ...               ...   \n",
      "3356501       0.285891     0.000809  0.000000   0.000000          0.000000   \n",
      "912430        0.538838     0.001221  0.758065   0.000000          0.000000   \n",
      "3619840       0.538792     0.001221  0.028226   0.098655          0.026906   \n",
      "3603017       0.289066     0.007813  0.000000   0.008969          0.008969   \n",
      "2171821       0.538495     0.123583  0.000000   0.008969          0.008969   \n",
      "\n",
      "         FLOW_DURATION_MILLISECONDS  DURATION_IN  MAX_TTL  SHORTEST_FLOW_PKT  \\\n",
      "179087                     0.999603     0.014640  0.25098           0.075932   \n",
      "285799                     0.999811     0.006980  0.25098           0.000000   \n",
      "3016282                    0.999686     0.011605  0.25098           0.000000   \n",
      "2875841                    0.000000     0.000000  0.00000           0.075932   \n",
      "615171                     0.000000     0.000000  0.00000           0.008136   \n",
      "...                             ...          ...      ...                ...   \n",
      "3356501                    0.000000     0.000000  0.00000           0.029831   \n",
      "912430                     0.999658     0.012628  0.25098           0.000000   \n",
      "3619840                    0.999491     0.018800  0.25098           0.008136   \n",
      "3603017                    0.000000     0.000000  0.00000           0.010847   \n",
      "2171821                    0.000000     0.000000  0.00000           0.010847   \n",
      "\n",
      "         MIN_IP_PKT_LEN  RETRANSMITTED_OUT_PKTS  TCP_WIN_MAX_IN  \\\n",
      "179087         0.000000                     0.0        0.007813   \n",
      "285799         0.000000                     0.0        0.000000   \n",
      "3016282        0.000000                     0.0        0.000000   \n",
      "2875841        0.000000                     0.0        0.007813   \n",
      "615171         0.060514                     0.0        0.015625   \n",
      "...                 ...                     ...             ...   \n",
      "3356501        0.108926                     0.0        0.000000   \n",
      "912430         0.000000                     0.0        0.000000   \n",
      "3619840        0.060514                     0.0        0.007813   \n",
      "3603017        0.000000                     0.0        0.015625   \n",
      "2171821        0.000000                     0.0        0.015625   \n",
      "\n",
      "         TCP_WIN_MAX_OUT  ICMP_TYPE  FTP_COMMAND_RET_CODE  \n",
      "179087          0.000000        0.0                   0.0  \n",
      "285799          0.000000        0.0                   0.0  \n",
      "3016282         0.000000        0.0                   0.0  \n",
      "2875841         0.000000        0.0                   0.0  \n",
      "615171          0.000000        0.0                   0.0  \n",
      "...                  ...        ...                   ...  \n",
      "3356501         0.000000        0.0                   0.0  \n",
      "912430          0.000000        0.0                   0.0  \n",
      "3619840         0.445563        0.0                   0.0  \n",
      "3603017         0.000000        0.0                   0.0  \n",
      "2171821         0.000000        0.0                   0.0  \n",
      "\n",
      "[1967961 rows x 15 columns]\n",
      "Feature Importance for Brute Force\n"
     ]
    },
    {
     "name": "stderr",
     "output_type": "stream",
     "text": [
      "Features: 15/15"
     ]
    },
    {
     "name": "stdout",
     "output_type": "stream",
     "text": [
      "Selcting features\n",
      "Seletected Features:  ['IPV4_SRC_ADDR', 'IPV4_DST_ADDR', 'L4_DST_PORT', 'PROTOCOL', 'L7_PROTO', 'CLIENT_TCP_FLAGS', 'SERVER_TCP_FLAGS', 'FLOW_DURATION_MILLISECONDS', 'MAX_TTL', 'LONGEST_FLOW_PKT', 'SHORTEST_FLOW_PKT', 'MIN_IP_PKT_LEN', 'NUM_PKTS_128_TO_256_BYTES', 'TCP_WIN_MAX_IN', 'DNS_QUERY_ID']\n",
      "         IPV4_SRC_ADDR  IPV4_DST_ADDR  L4_DST_PORT  PROTOCOL  L7_PROTO  \\\n",
      "179087        0.538815       0.274445     0.001221  0.023529  0.028226   \n",
      "285799        0.538860       0.274445     0.001221  0.066667  0.758065   \n",
      "3016282       0.538815       0.274746     0.001221  0.066667  0.758065   \n",
      "2875841       0.538838       0.274746     0.001221  0.023529  0.028226   \n",
      "615171        0.538472       0.272036     0.030671  0.023529  0.000000   \n",
      "...                ...            ...          ...       ...       ...   \n",
      "3356501       0.285891       0.199925     0.000809  0.066667  0.000000   \n",
      "912430        0.538838       0.274445     0.001221  0.066667  0.758065   \n",
      "3619840       0.538792       0.274445     0.001221  0.023529  0.028226   \n",
      "3603017       0.289066       0.234776     0.007813  0.023529  0.000000   \n",
      "2171821       0.538495       0.272337     0.123583  0.023529  0.000000   \n",
      "\n",
      "         CLIENT_TCP_FLAGS  SERVER_TCP_FLAGS  FLOW_DURATION_MILLISECONDS  \\\n",
      "179087           0.008969          0.000000                    0.999603   \n",
      "285799           0.000000          0.000000                    0.999811   \n",
      "3016282          0.000000          0.000000                    0.999686   \n",
      "2875841          0.008969          0.000000                    0.000000   \n",
      "615171           0.008969          0.089686                    0.000000   \n",
      "...                   ...               ...                         ...   \n",
      "3356501          0.000000          0.000000                    0.000000   \n",
      "912430           0.000000          0.000000                    0.999658   \n",
      "3619840          0.026906          0.080717                    0.999491   \n",
      "3603017          0.008969          0.000000                    0.000000   \n",
      "2171821          0.008969          0.000000                    0.000000   \n",
      "\n",
      "         MAX_TTL  LONGEST_FLOW_PKT  SHORTEST_FLOW_PKT  MIN_IP_PKT_LEN  \\\n",
      "179087   0.25098          0.001743           0.075932        0.000000   \n",
      "285799   0.25098          0.000000           0.000000        0.000000   \n",
      "3016282  0.25098          0.000000           0.000000        0.000000   \n",
      "2875841  0.00000          0.001743           0.075932        0.000000   \n",
      "615171   0.00000          0.000249           0.008136        0.060514   \n",
      "...          ...               ...                ...             ...   \n",
      "3356501  0.00000          0.000934           0.029831        0.108926   \n",
      "912430   0.25098          0.000000           0.000000        0.000000   \n",
      "3619840  0.25098          0.001743           0.008136        0.060514   \n",
      "3603017  0.00000          0.000249           0.010847        0.000000   \n",
      "2171821  0.00000          0.000249           0.010847        0.000000   \n",
      "\n",
      "         NUM_PKTS_128_TO_256_BYTES  TCP_WIN_MAX_IN  DNS_QUERY_ID  \n",
      "179087                    0.000355        0.007813      0.000000  \n",
      "285799                    0.000000        0.000000      0.000000  \n",
      "3016282                   0.000000        0.000000      0.000000  \n",
      "2875841                   0.000178        0.007813      0.000000  \n",
      "615171                    0.000000        0.015625      0.000000  \n",
      "...                            ...             ...           ...  \n",
      "3356501                   0.000000        0.000000      0.139376  \n",
      "912430                    0.000000        0.000000      0.000000  \n",
      "3619840                   0.000355        0.007813      0.000000  \n",
      "3603017                   0.000000        0.015625      0.000000  \n",
      "2171821                   0.000000        0.015625      0.000000  \n",
      "\n",
      "[1967961 rows x 15 columns]\n",
      "Feature Importance for DDoS\n"
     ]
    },
    {
     "name": "stderr",
     "output_type": "stream",
     "text": [
      "Features: 15/15"
     ]
    },
    {
     "name": "stdout",
     "output_type": "stream",
     "text": [
      "Selcting features\n",
      "Seletected Features:  ['IPV4_SRC_ADDR', 'L4_SRC_PORT', 'L4_DST_PORT', 'PROTOCOL', 'L7_PROTO', 'TCP_FLAGS', 'CLIENT_TCP_FLAGS', 'FLOW_DURATION_MILLISECONDS', 'MAX_TTL', 'LONGEST_FLOW_PKT', 'SHORTEST_FLOW_PKT', 'RETRANSMITTED_OUT_BYTES', 'TCP_WIN_MAX_IN', 'ICMP_IPV4_TYPE', 'DNS_QUERY_ID']\n",
      "         IPV4_SRC_ADDR  L4_SRC_PORT  L4_DST_PORT  PROTOCOL  L7_PROTO  \\\n",
      "179087        0.538815     0.744564     0.001221  0.023529  0.028226   \n",
      "285799        0.538860     0.290349     0.001221  0.066667  0.758065   \n",
      "3016282       0.538815     0.948531     0.001221  0.066667  0.758065   \n",
      "2875841       0.538838     0.457389     0.001221  0.023529  0.028226   \n",
      "615171        0.538472     0.794827     0.030671  0.023529  0.000000   \n",
      "...                ...          ...          ...       ...       ...   \n",
      "3356501       0.285891     0.796612     0.000809  0.066667  0.000000   \n",
      "912430        0.538838     0.019806     0.001221  0.066667  0.758065   \n",
      "3619840       0.538792     0.019928     0.001221  0.023529  0.028226   \n",
      "3603017       0.289066     0.846586     0.007813  0.023529  0.000000   \n",
      "2171821       0.538495     0.849714     0.123583  0.023529  0.000000   \n",
      "\n",
      "         TCP_FLAGS  CLIENT_TCP_FLAGS  FLOW_DURATION_MILLISECONDS  MAX_TTL  \\\n",
      "179087    0.008969          0.008969                    0.999603  0.25098   \n",
      "285799    0.000000          0.000000                    0.999811  0.25098   \n",
      "3016282   0.000000          0.000000                    0.999686  0.25098   \n",
      "2875841   0.008969          0.008969                    0.000000  0.00000   \n",
      "615171    0.098655          0.008969                    0.000000  0.00000   \n",
      "...            ...               ...                         ...      ...   \n",
      "3356501   0.000000          0.000000                    0.000000  0.00000   \n",
      "912430    0.000000          0.000000                    0.999658  0.25098   \n",
      "3619840   0.098655          0.026906                    0.999491  0.25098   \n",
      "3603017   0.008969          0.008969                    0.000000  0.00000   \n",
      "2171821   0.008969          0.008969                    0.000000  0.00000   \n",
      "\n",
      "         LONGEST_FLOW_PKT  SHORTEST_FLOW_PKT  RETRANSMITTED_OUT_BYTES  \\\n",
      "179087           0.001743           0.075932                      0.0   \n",
      "285799           0.000000           0.000000                      0.0   \n",
      "3016282          0.000000           0.000000                      0.0   \n",
      "2875841          0.001743           0.075932                      0.0   \n",
      "615171           0.000249           0.008136                      0.0   \n",
      "...                   ...                ...                      ...   \n",
      "3356501          0.000934           0.029831                      0.0   \n",
      "912430           0.000000           0.000000                      0.0   \n",
      "3619840          0.001743           0.008136                      0.0   \n",
      "3603017          0.000249           0.010847                      0.0   \n",
      "2171821          0.000249           0.010847                      0.0   \n",
      "\n",
      "         TCP_WIN_MAX_IN  ICMP_IPV4_TYPE  DNS_QUERY_ID  \n",
      "179087         0.007813             0.0      0.000000  \n",
      "285799         0.000000             0.0      0.000000  \n",
      "3016282        0.000000             0.0      0.000000  \n",
      "2875841        0.007813             0.0      0.000000  \n",
      "615171         0.015625             0.0      0.000000  \n",
      "...                 ...             ...           ...  \n",
      "3356501        0.000000             0.0      0.139376  \n",
      "912430         0.000000             0.0      0.000000  \n",
      "3619840        0.007813             0.0      0.000000  \n",
      "3603017        0.015625             0.0      0.000000  \n",
      "2171821        0.015625             0.0      0.000000  \n",
      "\n",
      "[1967961 rows x 15 columns]\n",
      "Feature Importance for DoS\n"
     ]
    },
    {
     "name": "stderr",
     "output_type": "stream",
     "text": [
      "Features: 15/15"
     ]
    },
    {
     "name": "stdout",
     "output_type": "stream",
     "text": [
      "Selcting features\n",
      "Seletected Features:  ['L4_SRC_PORT', 'L4_DST_PORT', 'PROTOCOL', 'L7_PROTO', 'IN_PKTS', 'TCP_FLAGS', 'CLIENT_TCP_FLAGS', 'FLOW_DURATION_MILLISECONDS', 'DURATION_IN', 'SHORTEST_FLOW_PKT', 'MIN_IP_PKT_LEN', 'TCP_WIN_MAX_IN', 'ICMP_IPV4_TYPE', 'DNS_QUERY_ID', 'FTP_COMMAND_RET_CODE']\n",
      "         L4_SRC_PORT  L4_DST_PORT  PROTOCOL  L7_PROTO   IN_PKTS  TCP_FLAGS  \\\n",
      "179087      0.744564     0.001221  0.023529  0.028226  0.000003   0.008969   \n",
      "285799      0.290349     0.001221  0.066667  0.758065  0.000003   0.000000   \n",
      "3016282     0.948531     0.001221  0.066667  0.758065  0.000003   0.000000   \n",
      "2875841     0.457389     0.001221  0.023529  0.028226  0.000000   0.008969   \n",
      "615171      0.794827     0.030671  0.023529  0.000000  0.000000   0.098655   \n",
      "...              ...          ...       ...       ...       ...        ...   \n",
      "3356501     0.796612     0.000809  0.066667  0.000000  0.000000   0.000000   \n",
      "912430      0.019806     0.001221  0.066667  0.758065  0.000005   0.000000   \n",
      "3619840     0.019928     0.001221  0.023529  0.028226  0.000008   0.098655   \n",
      "3603017     0.846586     0.007813  0.023529  0.000000  0.000000   0.008969   \n",
      "2171821     0.849714     0.123583  0.023529  0.000000  0.000000   0.008969   \n",
      "\n",
      "         CLIENT_TCP_FLAGS  FLOW_DURATION_MILLISECONDS  DURATION_IN  \\\n",
      "179087           0.008969                    0.999603     0.014640   \n",
      "285799           0.000000                    0.999811     0.006980   \n",
      "3016282          0.000000                    0.999686     0.011605   \n",
      "2875841          0.008969                    0.000000     0.000000   \n",
      "615171           0.008969                    0.000000     0.000000   \n",
      "...                   ...                         ...          ...   \n",
      "3356501          0.000000                    0.000000     0.000000   \n",
      "912430           0.000000                    0.999658     0.012628   \n",
      "3619840          0.026906                    0.999491     0.018800   \n",
      "3603017          0.008969                    0.000000     0.000000   \n",
      "2171821          0.008969                    0.000000     0.000000   \n",
      "\n",
      "         SHORTEST_FLOW_PKT  MIN_IP_PKT_LEN  TCP_WIN_MAX_IN  ICMP_IPV4_TYPE  \\\n",
      "179087            0.075932        0.000000        0.007813             0.0   \n",
      "285799            0.000000        0.000000        0.000000             0.0   \n",
      "3016282           0.000000        0.000000        0.000000             0.0   \n",
      "2875841           0.075932        0.000000        0.007813             0.0   \n",
      "615171            0.008136        0.060514        0.015625             0.0   \n",
      "...                    ...             ...             ...             ...   \n",
      "3356501           0.029831        0.108926        0.000000             0.0   \n",
      "912430            0.000000        0.000000        0.000000             0.0   \n",
      "3619840           0.008136        0.060514        0.007813             0.0   \n",
      "3603017           0.010847        0.000000        0.015625             0.0   \n",
      "2171821           0.010847        0.000000        0.015625             0.0   \n",
      "\n",
      "         DNS_QUERY_ID  FTP_COMMAND_RET_CODE  \n",
      "179087       0.000000                   0.0  \n",
      "285799       0.000000                   0.0  \n",
      "3016282      0.000000                   0.0  \n",
      "2875841      0.000000                   0.0  \n",
      "615171       0.000000                   0.0  \n",
      "...               ...                   ...  \n",
      "3356501      0.139376                   0.0  \n",
      "912430       0.000000                   0.0  \n",
      "3619840      0.000000                   0.0  \n",
      "3603017      0.000000                   0.0  \n",
      "2171821      0.000000                   0.0  \n",
      "\n",
      "[1967961 rows x 15 columns]\n",
      "Feature Importance for injection\n"
     ]
    },
    {
     "name": "stderr",
     "output_type": "stream",
     "text": [
      "Features: 15/15"
     ]
    },
    {
     "name": "stdout",
     "output_type": "stream",
     "text": [
      "Selcting features\n",
      "Seletected Features:  ['IPV4_SRC_ADDR', 'IPV4_DST_ADDR', 'L4_DST_PORT', 'TCP_FLAGS', 'CLIENT_TCP_FLAGS', 'MAX_TTL', 'LONGEST_FLOW_PKT', 'MIN_IP_PKT_LEN', 'RETRANSMITTED_OUT_BYTES', 'RETRANSMITTED_OUT_PKTS', 'SRC_TO_DST_AVG_THROUGHPUT', 'TCP_WIN_MAX_IN', 'TCP_WIN_MAX_OUT', 'ICMP_TYPE', 'DNS_QUERY_ID']\n",
      "         IPV4_SRC_ADDR  IPV4_DST_ADDR  L4_DST_PORT  TCP_FLAGS  \\\n",
      "179087        0.538815       0.274445     0.001221   0.008969   \n",
      "285799        0.538860       0.274445     0.001221   0.000000   \n",
      "3016282       0.538815       0.274746     0.001221   0.000000   \n",
      "2875841       0.538838       0.274746     0.001221   0.008969   \n",
      "615171        0.538472       0.272036     0.030671   0.098655   \n",
      "...                ...            ...          ...        ...   \n",
      "3356501       0.285891       0.199925     0.000809   0.000000   \n",
      "912430        0.538838       0.274445     0.001221   0.000000   \n",
      "3619840       0.538792       0.274445     0.001221   0.098655   \n",
      "3603017       0.289066       0.234776     0.007813   0.008969   \n",
      "2171821       0.538495       0.272337     0.123583   0.008969   \n",
      "\n",
      "         CLIENT_TCP_FLAGS  MAX_TTL  LONGEST_FLOW_PKT  MIN_IP_PKT_LEN  \\\n",
      "179087           0.008969  0.25098          0.001743        0.000000   \n",
      "285799           0.000000  0.25098          0.000000        0.000000   \n",
      "3016282          0.000000  0.25098          0.000000        0.000000   \n",
      "2875841          0.008969  0.00000          0.001743        0.000000   \n",
      "615171           0.008969  0.00000          0.000249        0.060514   \n",
      "...                   ...      ...               ...             ...   \n",
      "3356501          0.000000  0.00000          0.000934        0.108926   \n",
      "912430           0.000000  0.25098          0.000000        0.000000   \n",
      "3619840          0.026906  0.25098          0.001743        0.060514   \n",
      "3603017          0.008969  0.00000          0.000249        0.000000   \n",
      "2171821          0.008969  0.00000          0.000249        0.000000   \n",
      "\n",
      "         RETRANSMITTED_OUT_BYTES  RETRANSMITTED_OUT_PKTS  \\\n",
      "179087                       0.0                     0.0   \n",
      "285799                       0.0                     0.0   \n",
      "3016282                      0.0                     0.0   \n",
      "2875841                      0.0                     0.0   \n",
      "615171                       0.0                     0.0   \n",
      "...                          ...                     ...   \n",
      "3356501                      0.0                     0.0   \n",
      "912430                       0.0                     0.0   \n",
      "3619840                      0.0                     0.0   \n",
      "3603017                      0.0                     0.0   \n",
      "2171821                      0.0                     0.0   \n",
      "\n",
      "         SRC_TO_DST_AVG_THROUGHPUT  TCP_WIN_MAX_IN  TCP_WIN_MAX_OUT  \\\n",
      "179087                    0.000280        0.007813         0.000000   \n",
      "285799                    0.000056        0.000000         0.000000   \n",
      "3016282                   0.000056        0.000000         0.000000   \n",
      "2875841                   0.000280        0.007813         0.000000   \n",
      "615171                    0.000088        0.015625         0.000000   \n",
      "...                            ...             ...              ...   \n",
      "3356501                   0.000144        0.000000         0.000000   \n",
      "912430                    0.000056        0.000000         0.000000   \n",
      "3619840                   0.000220        0.007813         0.445563   \n",
      "3603017                   0.000088        0.015625         0.000000   \n",
      "2171821                   0.000088        0.015625         0.000000   \n",
      "\n",
      "         ICMP_TYPE  DNS_QUERY_ID  \n",
      "179087         0.0      0.000000  \n",
      "285799         0.0      0.000000  \n",
      "3016282        0.0      0.000000  \n",
      "2875841        0.0      0.000000  \n",
      "615171         0.0      0.000000  \n",
      "...            ...           ...  \n",
      "3356501        0.0      0.139376  \n",
      "912430         0.0      0.000000  \n",
      "3619840        0.0      0.000000  \n",
      "3603017        0.0      0.000000  \n",
      "2171821        0.0      0.000000  \n",
      "\n",
      "[1967961 rows x 15 columns]\n"
     ]
    }
   ],
   "source": [
    "# Feature Selection for each attack type (OvR)\n",
    "for i in range(0,5):\n",
    "    \n",
    "    # Create OvR target variable\n",
    "    y_train_ovr = (y_train_dl == i).astype(int)\n",
    "    y_test_ovr = (y_test_dl == i).astype(int)\n",
    "    y_val_ovr = (y_val_dl == i).astype(int)\n",
    "    \n",
    "    # Create and train the OvR model\n",
    "    print(\"Feature Importance for\",classes[i])\n",
    "    lreg=LinearRegression()\n",
    "    selector=SFS(lreg,k_features=15,forward=True,verbose=1,scoring=\"neg_mean_squared_error\")\n",
    "    selector.fit(x_train_dl, y_train_ovr)\n",
    "\n",
    "    selected_features=list(selector.k_feature_names_)\n",
    "    print(\"Selcting features\")\n",
    "    X_train_selected = x_train_dl[selected_features]\n",
    "    X_test_selected = x_test_dl[selected_features]\n",
    "    X_val_selected = x_val_dl[selected_features]\n",
    "\n",
    "    print(\"Seletected Features: \",selected_features)\n",
    "    print(X_train_selected)"
   ]
  }
 ],
 "metadata": {
  "kaggle": {
   "accelerator": "none",
   "dataSources": [
    {
     "datasetId": 5864191,
     "sourceId": 9680689,
     "sourceType": "datasetVersion"
    }
   ],
   "dockerImageVersionId": 30786,
   "isGpuEnabled": false,
   "isInternetEnabled": true,
   "language": "python",
   "sourceType": "notebook"
  },
  "kernelspec": {
   "display_name": "Python 3",
   "language": "python",
   "name": "python3"
  },
  "language_info": {
   "codemirror_mode": {
    "name": "ipython",
    "version": 3
   },
   "file_extension": ".py",
   "mimetype": "text/x-python",
   "name": "python",
   "nbconvert_exporter": "python",
   "pygments_lexer": "ipython3",
   "version": "3.10.14"
  },
  "papermill": {
   "default_parameters": {},
   "duration": 11364.767145,
   "end_time": "2024-11-15T19:26:25.764038",
   "environment_variables": {},
   "exception": null,
   "input_path": "__notebook__.ipynb",
   "output_path": "__notebook__.ipynb",
   "parameters": {},
   "start_time": "2024-11-15T16:17:00.996893",
   "version": "2.6.0"
  }
 },
 "nbformat": 4,
 "nbformat_minor": 5
}
