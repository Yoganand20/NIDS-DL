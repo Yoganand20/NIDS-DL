{
 "cells": [
  {
   "cell_type": "markdown",
   "id": "451cc0a5",
   "metadata": {},
   "source": [
    "# 1. Data Loading"
   ]
  },
  {
   "cell_type": "code",
   "execution_count": null,
   "id": "fabe95b4",
   "metadata": {},
   "outputs": [],
   "source": [
    "import numpy as np\n",
    "import pandas as pd"
   ]
  },
  {
   "cell_type": "code",
   "execution_count": null,
   "id": "0e7f972b",
   "metadata": {},
   "outputs": [],
   "source": [
    "df = pd.read_csv('/kaggle/input/nf-uq-nids-v2-sample/NF-UQ-NIDS-V2-Sample.csv')"
   ]
  },
  {
   "cell_type": "code",
   "execution_count": null,
   "id": "1efc2537",
   "metadata": {},
   "outputs": [],
   "source": [
    "#df1 = pd.DataFrame(df.get_chunk(500000))\n",
    "df1 = df\n",
    "#loading only small chunk to save space"
   ]
  },
  {
   "cell_type": "code",
   "execution_count": null,
   "id": "c221217c",
   "metadata": {},
   "outputs": [
    {
     "data": {
      "text/html": [
       "<div>\n",
       "<style scoped>\n",
       "    .dataframe tbody tr th:only-of-type {\n",
       "        vertical-align: middle;\n",
       "    }\n",
       "\n",
       "    .dataframe tbody tr th {\n",
       "        vertical-align: top;\n",
       "    }\n",
       "\n",
       "    .dataframe thead th {\n",
       "        text-align: right;\n",
       "    }\n",
       "</style>\n",
       "<table border=\"1\" class=\"dataframe\">\n",
       "  <thead>\n",
       "    <tr style=\"text-align: right;\">\n",
       "      <th></th>\n",
       "      <th>IPV4_SRC_ADDR</th>\n",
       "      <th>L4_SRC_PORT</th>\n",
       "      <th>IPV4_DST_ADDR</th>\n",
       "      <th>L4_DST_PORT</th>\n",
       "      <th>PROTOCOL</th>\n",
       "      <th>L7_PROTO</th>\n",
       "      <th>IN_BYTES</th>\n",
       "      <th>IN_PKTS</th>\n",
       "      <th>OUT_BYTES</th>\n",
       "      <th>OUT_PKTS</th>\n",
       "      <th>...</th>\n",
       "      <th>ICMP_TYPE</th>\n",
       "      <th>ICMP_IPV4_TYPE</th>\n",
       "      <th>DNS_QUERY_ID</th>\n",
       "      <th>DNS_QUERY_TYPE</th>\n",
       "      <th>DNS_TTL_ANSWER</th>\n",
       "      <th>FTP_COMMAND_RET_CODE</th>\n",
       "      <th>Label</th>\n",
       "      <th>Attack</th>\n",
       "      <th>Dataset</th>\n",
       "      <th>Attack_Class</th>\n",
       "    </tr>\n",
       "  </thead>\n",
       "  <tbody>\n",
       "    <tr>\n",
       "      <th>0</th>\n",
       "      <td>192.168.100.148</td>\n",
       "      <td>65389</td>\n",
       "      <td>192.168.100.7</td>\n",
       "      <td>80</td>\n",
       "      <td>6</td>\n",
       "      <td>7.0</td>\n",
       "      <td>420</td>\n",
       "      <td>3</td>\n",
       "      <td>0</td>\n",
       "      <td>0</td>\n",
       "      <td>...</td>\n",
       "      <td>35840</td>\n",
       "      <td>140</td>\n",
       "      <td>0</td>\n",
       "      <td>0</td>\n",
       "      <td>0</td>\n",
       "      <td>0.0</td>\n",
       "      <td>1</td>\n",
       "      <td>DoS</td>\n",
       "      <td>NF-BoT-IoT-v2</td>\n",
       "      <td>DoS/DDoS</td>\n",
       "    </tr>\n",
       "    <tr>\n",
       "      <th>1</th>\n",
       "      <td>192.168.100.148</td>\n",
       "      <td>11154</td>\n",
       "      <td>192.168.100.5</td>\n",
       "      <td>80</td>\n",
       "      <td>6</td>\n",
       "      <td>7.0</td>\n",
       "      <td>280</td>\n",
       "      <td>2</td>\n",
       "      <td>40</td>\n",
       "      <td>1</td>\n",
       "      <td>...</td>\n",
       "      <td>0</td>\n",
       "      <td>0</td>\n",
       "      <td>0</td>\n",
       "      <td>0</td>\n",
       "      <td>0</td>\n",
       "      <td>0.0</td>\n",
       "      <td>1</td>\n",
       "      <td>DoS</td>\n",
       "      <td>NF-BoT-IoT-v2</td>\n",
       "      <td>DoS/DDoS</td>\n",
       "    </tr>\n",
       "    <tr>\n",
       "      <th>2</th>\n",
       "      <td>192.168.1.31</td>\n",
       "      <td>42062</td>\n",
       "      <td>192.168.1.79</td>\n",
       "      <td>1041</td>\n",
       "      <td>6</td>\n",
       "      <td>0.0</td>\n",
       "      <td>44</td>\n",
       "      <td>1</td>\n",
       "      <td>40</td>\n",
       "      <td>1</td>\n",
       "      <td>...</td>\n",
       "      <td>0</td>\n",
       "      <td>0</td>\n",
       "      <td>0</td>\n",
       "      <td>0</td>\n",
       "      <td>0</td>\n",
       "      <td>0.0</td>\n",
       "      <td>0</td>\n",
       "      <td>Benign</td>\n",
       "      <td>NF-ToN-IoT-v2</td>\n",
       "      <td>Benign</td>\n",
       "    </tr>\n",
       "    <tr>\n",
       "      <th>3</th>\n",
       "      <td>192.168.1.34</td>\n",
       "      <td>46849</td>\n",
       "      <td>192.168.1.79</td>\n",
       "      <td>9110</td>\n",
       "      <td>6</td>\n",
       "      <td>0.0</td>\n",
       "      <td>44</td>\n",
       "      <td>1</td>\n",
       "      <td>40</td>\n",
       "      <td>1</td>\n",
       "      <td>...</td>\n",
       "      <td>0</td>\n",
       "      <td>0</td>\n",
       "      <td>0</td>\n",
       "      <td>0</td>\n",
       "      <td>0</td>\n",
       "      <td>0.0</td>\n",
       "      <td>0</td>\n",
       "      <td>Benign</td>\n",
       "      <td>NF-ToN-IoT-v2</td>\n",
       "      <td>Benign</td>\n",
       "    </tr>\n",
       "    <tr>\n",
       "      <th>4</th>\n",
       "      <td>192.168.1.30</td>\n",
       "      <td>50360</td>\n",
       "      <td>192.168.1.152</td>\n",
       "      <td>1084</td>\n",
       "      <td>6</td>\n",
       "      <td>0.0</td>\n",
       "      <td>44</td>\n",
       "      <td>1</td>\n",
       "      <td>40</td>\n",
       "      <td>1</td>\n",
       "      <td>...</td>\n",
       "      <td>0</td>\n",
       "      <td>0</td>\n",
       "      <td>0</td>\n",
       "      <td>0</td>\n",
       "      <td>0</td>\n",
       "      <td>0.0</td>\n",
       "      <td>0</td>\n",
       "      <td>Benign</td>\n",
       "      <td>NF-ToN-IoT-v2</td>\n",
       "      <td>Benign</td>\n",
       "    </tr>\n",
       "  </tbody>\n",
       "</table>\n",
       "<p>5 rows × 47 columns</p>\n",
       "</div>"
      ],
      "text/plain": [
       "     IPV4_SRC_ADDR  L4_SRC_PORT  IPV4_DST_ADDR  L4_DST_PORT  PROTOCOL  \\\n",
       "0  192.168.100.148        65389  192.168.100.7           80         6   \n",
       "1  192.168.100.148        11154  192.168.100.5           80         6   \n",
       "2     192.168.1.31        42062   192.168.1.79         1041         6   \n",
       "3     192.168.1.34        46849   192.168.1.79         9110         6   \n",
       "4     192.168.1.30        50360  192.168.1.152         1084         6   \n",
       "\n",
       "   L7_PROTO  IN_BYTES  IN_PKTS  OUT_BYTES  OUT_PKTS  ...  ICMP_TYPE  \\\n",
       "0       7.0       420        3          0         0  ...      35840   \n",
       "1       7.0       280        2         40         1  ...          0   \n",
       "2       0.0        44        1         40         1  ...          0   \n",
       "3       0.0        44        1         40         1  ...          0   \n",
       "4       0.0        44        1         40         1  ...          0   \n",
       "\n",
       "   ICMP_IPV4_TYPE  DNS_QUERY_ID  DNS_QUERY_TYPE  DNS_TTL_ANSWER  \\\n",
       "0             140             0               0               0   \n",
       "1               0             0               0               0   \n",
       "2               0             0               0               0   \n",
       "3               0             0               0               0   \n",
       "4               0             0               0               0   \n",
       "\n",
       "   FTP_COMMAND_RET_CODE  Label  Attack        Dataset  Attack_Class  \n",
       "0                   0.0      1     DoS  NF-BoT-IoT-v2      DoS/DDoS  \n",
       "1                   0.0      1     DoS  NF-BoT-IoT-v2      DoS/DDoS  \n",
       "2                   0.0      0  Benign  NF-ToN-IoT-v2        Benign  \n",
       "3                   0.0      0  Benign  NF-ToN-IoT-v2        Benign  \n",
       "4                   0.0      0  Benign  NF-ToN-IoT-v2        Benign  \n",
       "\n",
       "[5 rows x 47 columns]"
      ]
     },
     "metadata": {},
     "output_type": "display_data"
    }
   ],
   "source": [
    "df1.head()"
   ]
  },
  {
   "cell_type": "code",
   "execution_count": null,
   "id": "1418163a",
   "metadata": {},
   "outputs": [
    {
     "name": "stdout",
     "output_type": "stream",
     "text": [
      "11\n",
      "Attack_Class\n",
      "Benign              503313\n",
      "Botnet                2864\n",
      "Brute Force           2480\n",
      "DoS/DDoS            792499\n",
      "MITM                   133\n",
      "Malware                778\n",
      "Password             23062\n",
      "Phishing            131175\n",
      "SQL Injection        13702\n",
      "XSS                  49105\n",
      "Zero Day Exploit       649\n",
      "dtype: int64\n"
     ]
    }
   ],
   "source": [
    "print(len(df1['Attack_Class'].unique()))\n",
    "unique_counts = df1.groupby('Attack_Class').size()\n",
    "print(unique_counts)"
   ]
  },
  {
   "cell_type": "markdown",
   "id": "d4f8118f",
   "metadata": {},
   "source": [
    "# 2. Data Transformation"
   ]
  },
  {
   "cell_type": "code",
   "execution_count": null,
   "id": "7cf2c89b",
   "metadata": {},
   "outputs": [],
   "source": [
    "from sklearn.preprocessing import LabelEncoder"
   ]
  },
  {
   "cell_type": "code",
   "execution_count": null,
   "id": "9b2ac9fe",
   "metadata": {},
   "outputs": [],
   "source": [
    "LE = LabelEncoder()\n",
    "\n",
    "#ip addresses are in format xxx.xxx.xxx.xxx which is not compatible with the models\n",
    "srcaddr= LE.fit_transform(df1['IPV4_SRC_ADDR'])\n",
    "df1['IPV4_SRC_ADDR'] = pd.Series(srcaddr)\n",
    "dstaddr= LE.fit_transform(df1['IPV4_DST_ADDR'])\n",
    "df1['IPV4_DST_ADDR'] = pd.Series(dstaddr)\n",
    "del srcaddr,dstaddr # Delete variables no longer needed\n"
   ]
  },
  {
   "cell_type": "code",
   "execution_count": null,
   "id": "68f51b80",
   "metadata": {},
   "outputs": [],
   "source": [
    "def reduce_attack_class(classCol, flag):\n",
    "    mapping = {\n",
    "            'Benign': 'Benign',\n",
    "            'DoS': 'DoS/DDoS',\n",
    "            'DDoS': 'DoS/DDoS',\n",
    "            'scanning': 'Phishing',\n",
    "            'Reconnaissance':'Phishing',\n",
    "            'xss': 'XSS',\n",
    "            'password': 'Password',\n",
    "            'injection': 'SQL Injection',\n",
    "            'Bot': 'Botnet',\n",
    "            'Brute Force': 'Brute Force',\n",
    "            'Infilteration': 'Phishing',\n",
    "            'Exploits': 'Zero Day Exploit',\n",
    "            'Fuzzers': 'Phishing',\n",
    "            'Backdoor': 'Malware',\n",
    "            'Generic': 'Malware',\n",
    "            'mitm': 'MITM',\n",
    "            'ransomware': 'Malware',\n",
    "            'Analysis': 'Phishing',\n",
    "            'Theft': 'Phishing',\n",
    "            'Shellcode': 'Zero Day Exploit',\n",
    "            'Worms': 'Malware',\n",
    "           }\n",
    "\n",
    "    if flag:\n",
    "        return classCol.apply(lambda v: mapping[v])\n",
    "\n",
    "    else:\n",
    "        return classCol"
   ]
  },
  {
   "cell_type": "code",
   "execution_count": null,
   "id": "3d2646a2",
   "metadata": {},
   "outputs": [],
   "source": [
    "#df1['Attack_Class'] = reduce_attack_class(df1['Attack'],False)\n",
    "#df1['Attack_Class'] = reduce_attack_class(df1['Attack'],True)"
   ]
  },
  {
   "cell_type": "code",
   "execution_count": null,
   "id": "9da923a9",
   "metadata": {},
   "outputs": [],
   "source": [
    "X1 = df1.drop(['Attack','Label','Dataset','Attack_Class'], axis=1)\n",
    "Y1 = df1[\"Attack_Class\"]\n",
    "\n",
    "# X1 = df1.drop(['Attack','Label','Dataset'], axis=1)\n",
    "# Y1 = df1[\"Attack\"]"
   ]
  },
  {
   "cell_type": "code",
   "execution_count": null,
   "id": "8ea6710e",
   "metadata": {},
   "outputs": [],
   "source": [
    "LE = LabelEncoder()\n",
    "multilbl = LE.fit_transform(Y1)\n",
    "Y1 = pd.Series(multilbl)"
   ]
  },
  {
   "cell_type": "code",
   "execution_count": null,
   "id": "743ccf16",
   "metadata": {},
   "outputs": [],
   "source": [
    "from sklearn.impute import SimpleImputer "
   ]
  },
  {
   "cell_type": "code",
   "execution_count": null,
   "id": "8d576489",
   "metadata": {},
   "outputs": [],
   "source": [
    "imputer = SimpleImputer(missing_values = np.nan, strategy = 'mean')\n",
    "\n",
    "X1_object = X1.select_dtypes(\"object\")\n",
    "X1_int = X1.select_dtypes(exclude = \"object\")\n",
    "\n",
    "X1_columns = X1_int.columns #this stores column names \n",
    "\n",
    "imputer.fit(X1_int)\n",
    "X1_int = imputer.transform(X1_int)\n",
    "X1_int = pd.DataFrame(X1_int)\n",
    "X1_int.columns = X1_columns #corrects column name\n",
    "\n",
    "X1_object = X1_object.fillna(\"unknown\")\n",
    "X1 = X1_object.join(X1_int)"
   ]
  },
  {
   "cell_type": "code",
   "execution_count": null,
   "id": "95b98686",
   "metadata": {},
   "outputs": [],
   "source": [
    "from sklearn.preprocessing import StandardScaler, MinMaxScaler"
   ]
  },
  {
   "cell_type": "code",
   "execution_count": null,
   "id": "6aaecd66",
   "metadata": {},
   "outputs": [],
   "source": [
    "scaler = MinMaxScaler()\n",
    "# store the columns\n",
    "cols = X1.columns\n",
    "\n",
    "# transform the data\n",
    "X1_scaled = scaler.fit_transform(X1)\n",
    "\n",
    "X1_scaled = pd.DataFrame(X1_scaled, columns = cols)"
   ]
  },
  {
   "cell_type": "code",
   "execution_count": null,
   "id": "b17e2947",
   "metadata": {},
   "outputs": [],
   "source": []
  },
  {
   "cell_type": "code",
   "execution_count": null,
   "id": "1c3535c8",
   "metadata": {},
   "outputs": [
    {
     "name": "stdout",
     "output_type": "stream",
     "text": [
      "0: Benign\n",
      "1: Botnet\n",
      "2: Brute Force\n",
      "3: DoS/DDoS\n",
      "4: MITM\n",
      "5: Malware\n",
      "6: Password\n",
      "7: Phishing\n",
      "8: SQL Injection\n",
      "9: XSS\n",
      "10: Zero Day Exploit\n"
     ]
    }
   ],
   "source": [
    "# Access the original classes\n",
    "classes = LE.classes_\n",
    "\n",
    "\n",
    "# Print the mapping\n",
    "for i, cls in enumerate(classes):\n",
    "\n",
    "    print(f\"{i}: {cls}\")"
   ]
  },
  {
   "cell_type": "code",
   "execution_count": null,
   "id": "7790e926",
   "metadata": {},
   "outputs": [],
   "source": []
  },
  {
   "cell_type": "code",
   "execution_count": null,
   "id": "9447d414",
   "metadata": {},
   "outputs": [],
   "source": [
    "from sklearn.model_selection import train_test_split"
   ]
  },
  {
   "cell_type": "code",
   "execution_count": null,
   "id": "45d905e6",
   "metadata": {},
   "outputs": [],
   "source": [
    "from sklearn.model_selection import StratifiedKFold\n",
    "def StratifiedSplit(X,Y,test_size):\n",
    "    folds=int(1/test_size)\n",
    "    sk=StratifiedKFold(n_splits=folds)\n",
    "    X=pd.DataFrame(X)\n",
    "    Y=pd.DataFrame(Y)\n",
    "    # Initialize empty dataframes\n",
    "    x_train = pd.DataFrame(columns=X.columns)\n",
    "    y_train = pd.DataFrame(columns=Y.columns)\n",
    "    x_test = pd.DataFrame(columns=X.columns)\n",
    "    y_test = pd.DataFrame(columns=Y.columns)\n",
    "    \n",
    "    for train_index, test_index in skfolds.split(X, Y):\n",
    "        x_train = pd.concat([x_train, X1.iloc[train_index]])\n",
    "        y_train = pd.concat([y_train, Y1.iloc[train_index]])\n",
    "        x_test = pd.concat([x_test, X1.iloc[test_index]])\n",
    "        y_test = pd.concat([y_test, Y1.iloc[test_index]])\n",
    "    return x_train, x_test, y_train, y_test"
   ]
  },
  {
   "cell_type": "code",
   "execution_count": null,
   "id": "e14ec0aa",
   "metadata": {},
   "outputs": [],
   "source": [
    "from tensorflow.keras.utils import to_categorical\n",
    "y_cat = to_categorical(Y1)"
   ]
  },
  {
   "cell_type": "code",
   "execution_count": null,
   "id": "bc9af6e1",
   "metadata": {},
   "outputs": [],
   "source": [
    "X1_scaled = X1_scaled.values.reshape(X1_scaled.shape[0], X1_scaled.shape[1],1)"
   ]
  },
  {
   "cell_type": "code",
   "execution_count": null,
   "id": "67847d41",
   "metadata": {},
   "outputs": [],
   "source": [
    "x_train_dl, x_test_dl, y_train_dl, y_test_dl = train_test_split(X1_scaled, y_cat, test_size=0.2,random_state=42)\n",
    "x_train_dl, x_val_dl, y_train_dl, y_val_dl = train_test_split(x_train_dl, y_train_dl, test_size=0.25,random_state=42)"
   ]
  },
  {
   "cell_type": "markdown",
   "id": "0c2a4be2",
   "metadata": {},
   "source": [
    "# 3. Utils"
   ]
  },
  {
   "cell_type": "code",
   "execution_count": null,
   "id": "6222a5fb",
   "metadata": {},
   "outputs": [],
   "source": [
    "import matplotlib.pyplot as plt\n",
    "import tensorflow as tf\n",
    "from sklearn.model_selection import cross_val_score\n",
    "from sklearn.model_selection import KFold\n",
    "\n",
    "from keras.callbacks import EarlyStopping\n",
    "from sklearn.metrics import accuracy_score\n",
    "from tensorflow.keras.models import Sequential\n",
    "from tensorflow.keras.layers import LSTM, Dense, Input, Dropout, BatchNormalization, Reshape, SimpleRNN, Flatten\n",
    "\n",
    "from sklearn.metrics import confusion_matrix\n",
    "from sklearn.metrics import classification_report\n",
    "from matplotlib import pyplot"
   ]
  },
  {
   "cell_type": "code",
   "execution_count": null,
   "id": "fdc12c82",
   "metadata": {},
   "outputs": [
    {
     "name": "stdout",
     "output_type": "stream",
     "text": [
      "DEVICES AVAILABLE: 1\n"
     ]
    }
   ],
   "source": [
    "# Define tand get the number os devices. \n",
    "strategy = tf.distribute.MirroredStrategy()\n",
    "print('DEVICES AVAILABLE: {}'.format(strategy.num_replicas_in_sync))"
   ]
  },
  {
   "cell_type": "code",
   "execution_count": null,
   "id": "4b729e5a",
   "metadata": {},
   "outputs": [],
   "source": [
    "def plot_history(history):\n",
    "    acc = history.history[\"accuracy\"]\n",
    "    loss = history.history[\"loss\"]\n",
    "    val_loss = history.history[\"val_loss\"]\n",
    "    val_accuracy = history.history[\"val_accuracy\"]\n",
    "    \n",
    "    x = range(1, len(acc) + 1)\n",
    "    \n",
    "    plt.figure(figsize=(12,5))\n",
    "    plt.subplot(1, 2, 1)\n",
    "    plt.plot(x, acc, \"b\", label=\"traning_acc\")\n",
    "    plt.plot(x, val_accuracy, \"r\", label=\"traning_acc\")\n",
    "    plt.title(\"Accuracy\")\n",
    "    \n",
    "    plt.subplot(1, 2, 2)\n",
    "    plt.plot(x, loss, \"b\", label=\"traning_acc\")\n",
    "    plt.plot(x, val_loss, \"r\", label=\"traning_acc\")\n",
    "    plt.title(\"Loss\")"
   ]
  },
  {
   "cell_type": "code",
   "execution_count": null,
   "id": "ac30012c",
   "metadata": {},
   "outputs": [],
   "source": [
    "input_feature=x_train_dl.shape[1]\n",
    "output_classes=len(y_train_dl[0])"
   ]
  },
  {
   "cell_type": "code",
   "execution_count": null,
   "id": "9a839826",
   "metadata": {},
   "outputs": [],
   "source": []
  },
  {
   "cell_type": "markdown",
   "id": "d9e0b281",
   "metadata": {},
   "source": [
    "# 3. Model : RNN-LSTM"
   ]
  },
  {
   "cell_type": "markdown",
   "id": "ca71d103",
   "metadata": {},
   "source": [
    "## 3.1. Model Development"
   ]
  },
  {
   "cell_type": "code",
   "execution_count": null,
   "id": "75e9213e",
   "metadata": {},
   "outputs": [],
   "source": [
    "lr_schedule = tf.keras.optimizers.schedules.ExponentialDecay(\n",
    "    initial_learning_rate=0.0005,\n",
    "    decay_steps=10000,\n",
    "    decay_rate=0.96,\n",
    "    staircase=True\n",
    ")"
   ]
  },
  {
   "cell_type": "code",
   "execution_count": null,
   "id": "10891bf6",
   "metadata": {},
   "outputs": [],
   "source": [
    "early_stopping = EarlyStopping(monitor='val_loss', patience=10, restore_best_weights=True)"
   ]
  },
  {
   "cell_type": "code",
   "execution_count": null,
   "id": "bdeb4815",
   "metadata": {},
   "outputs": [],
   "source": [
    "def LSTM_Model():\n",
    "    model = Sequential([\n",
    "        Input(shape=(input_feature,1)),\n",
    "        LSTM(32, return_sequences=True),\n",
    "        #Dropout(0.3),\n",
    "        BatchNormalization(),\n",
    "        LSTM(64, return_sequences=True),\n",
    "        Dropout(0.3),\n",
    "        BatchNormalization(),\n",
    "        LSTM(64),\n",
    "        Dense(output_classes, activation=\"softmax\")\n",
    "    ])\n",
    "    model.compile(loss='categorical_crossentropy', optimizer='adam', metrics=['accuracy'])\n",
    "    return model"
   ]
  },
  {
   "cell_type": "code",
   "execution_count": null,
   "id": "d44e79cc",
   "metadata": {},
   "outputs": [],
   "source": [
    "def LSTM_Model2():\n",
    "    model = Sequential([\n",
    "        Input(shape=(input_feature,1)),\n",
    "        LSTM(32, return_sequences=True,recurrent_activation=\"tanh\"),\n",
    "        #Dropout(0.3),\n",
    "        BatchNormalization(),\n",
    "        LSTM(64, return_sequences=True,recurrent_activation=\"tanh\"),\n",
    "        Dropout(0.5),\n",
    "        BatchNormalization(),\n",
    "        LSTM(64,recurrent_activation=\"tanh\"),\n",
    "        Dense(output_classes, activation=\"softmax\")\n",
    "    ])\n",
    "    model.compile(loss='categorical_crossentropy', optimizer='adam', metrics=['accuracy'])\n",
    "    return model"
   ]
  },
  {
   "cell_type": "code",
   "execution_count": null,
   "id": "09d3d111",
   "metadata": {},
   "outputs": [
    {
     "data": {
      "text/html": [
       "<pre style=\"white-space:pre;overflow-x:auto;line-height:normal;font-family:Menlo,'DejaVu Sans Mono',consolas,'Courier New',monospace\"><span style=\"font-weight: bold\">Model: \"sequential\"</span>\n",
       "</pre>\n"
      ],
      "text/plain": [
       "\u001b[1mModel: \"sequential\"\u001b[0m\n"
      ]
     },
     "metadata": {},
     "output_type": "display_data"
    },
    {
     "data": {
      "text/html": [
       "<pre style=\"white-space:pre;overflow-x:auto;line-height:normal;font-family:Menlo,'DejaVu Sans Mono',consolas,'Courier New',monospace\">┏━━━━━━━━━━━━━━━━━━━━━━━━━━━━━━━━━┳━━━━━━━━━━━━━━━━━━━━━━━━┳━━━━━━━━━━━━━━━┓\n",
       "┃<span style=\"font-weight: bold\"> Layer (type)                    </span>┃<span style=\"font-weight: bold\"> Output Shape           </span>┃<span style=\"font-weight: bold\">       Param # </span>┃\n",
       "┡━━━━━━━━━━━━━━━━━━━━━━━━━━━━━━━━━╇━━━━━━━━━━━━━━━━━━━━━━━━╇━━━━━━━━━━━━━━━┩\n",
       "│ lstm (<span style=\"color: #0087ff; text-decoration-color: #0087ff\">LSTM</span>)                     │ (<span style=\"color: #00d7ff; text-decoration-color: #00d7ff\">None</span>, <span style=\"color: #00af00; text-decoration-color: #00af00\">43</span>, <span style=\"color: #00af00; text-decoration-color: #00af00\">32</span>)         │         <span style=\"color: #00af00; text-decoration-color: #00af00\">4,352</span> │\n",
       "├─────────────────────────────────┼────────────────────────┼───────────────┤\n",
       "│ batch_normalization             │ (<span style=\"color: #00d7ff; text-decoration-color: #00d7ff\">None</span>, <span style=\"color: #00af00; text-decoration-color: #00af00\">43</span>, <span style=\"color: #00af00; text-decoration-color: #00af00\">32</span>)         │           <span style=\"color: #00af00; text-decoration-color: #00af00\">128</span> │\n",
       "│ (<span style=\"color: #0087ff; text-decoration-color: #0087ff\">BatchNormalization</span>)            │                        │               │\n",
       "├─────────────────────────────────┼────────────────────────┼───────────────┤\n",
       "│ lstm_1 (<span style=\"color: #0087ff; text-decoration-color: #0087ff\">LSTM</span>)                   │ (<span style=\"color: #00d7ff; text-decoration-color: #00d7ff\">None</span>, <span style=\"color: #00af00; text-decoration-color: #00af00\">43</span>, <span style=\"color: #00af00; text-decoration-color: #00af00\">64</span>)         │        <span style=\"color: #00af00; text-decoration-color: #00af00\">24,832</span> │\n",
       "├─────────────────────────────────┼────────────────────────┼───────────────┤\n",
       "│ dropout (<span style=\"color: #0087ff; text-decoration-color: #0087ff\">Dropout</span>)               │ (<span style=\"color: #00d7ff; text-decoration-color: #00d7ff\">None</span>, <span style=\"color: #00af00; text-decoration-color: #00af00\">43</span>, <span style=\"color: #00af00; text-decoration-color: #00af00\">64</span>)         │             <span style=\"color: #00af00; text-decoration-color: #00af00\">0</span> │\n",
       "├─────────────────────────────────┼────────────────────────┼───────────────┤\n",
       "│ batch_normalization_1           │ (<span style=\"color: #00d7ff; text-decoration-color: #00d7ff\">None</span>, <span style=\"color: #00af00; text-decoration-color: #00af00\">43</span>, <span style=\"color: #00af00; text-decoration-color: #00af00\">64</span>)         │           <span style=\"color: #00af00; text-decoration-color: #00af00\">256</span> │\n",
       "│ (<span style=\"color: #0087ff; text-decoration-color: #0087ff\">BatchNormalization</span>)            │                        │               │\n",
       "├─────────────────────────────────┼────────────────────────┼───────────────┤\n",
       "│ lstm_2 (<span style=\"color: #0087ff; text-decoration-color: #0087ff\">LSTM</span>)                   │ (<span style=\"color: #00d7ff; text-decoration-color: #00d7ff\">None</span>, <span style=\"color: #00af00; text-decoration-color: #00af00\">64</span>)             │        <span style=\"color: #00af00; text-decoration-color: #00af00\">33,024</span> │\n",
       "├─────────────────────────────────┼────────────────────────┼───────────────┤\n",
       "│ dense (<span style=\"color: #0087ff; text-decoration-color: #0087ff\">Dense</span>)                   │ (<span style=\"color: #00d7ff; text-decoration-color: #00d7ff\">None</span>, <span style=\"color: #00af00; text-decoration-color: #00af00\">11</span>)             │           <span style=\"color: #00af00; text-decoration-color: #00af00\">715</span> │\n",
       "└─────────────────────────────────┴────────────────────────┴───────────────┘\n",
       "</pre>\n"
      ],
      "text/plain": [
       "┏━━━━━━━━━━━━━━━━━━━━━━━━━━━━━━━━━┳━━━━━━━━━━━━━━━━━━━━━━━━┳━━━━━━━━━━━━━━━┓\n",
       "┃\u001b[1m \u001b[0m\u001b[1mLayer (type)                   \u001b[0m\u001b[1m \u001b[0m┃\u001b[1m \u001b[0m\u001b[1mOutput Shape          \u001b[0m\u001b[1m \u001b[0m┃\u001b[1m \u001b[0m\u001b[1m      Param #\u001b[0m\u001b[1m \u001b[0m┃\n",
       "┡━━━━━━━━━━━━━━━━━━━━━━━━━━━━━━━━━╇━━━━━━━━━━━━━━━━━━━━━━━━╇━━━━━━━━━━━━━━━┩\n",
       "│ lstm (\u001b[38;5;33mLSTM\u001b[0m)                     │ (\u001b[38;5;45mNone\u001b[0m, \u001b[38;5;34m43\u001b[0m, \u001b[38;5;34m32\u001b[0m)         │         \u001b[38;5;34m4,352\u001b[0m │\n",
       "├─────────────────────────────────┼────────────────────────┼───────────────┤\n",
       "│ batch_normalization             │ (\u001b[38;5;45mNone\u001b[0m, \u001b[38;5;34m43\u001b[0m, \u001b[38;5;34m32\u001b[0m)         │           \u001b[38;5;34m128\u001b[0m │\n",
       "│ (\u001b[38;5;33mBatchNormalization\u001b[0m)            │                        │               │\n",
       "├─────────────────────────────────┼────────────────────────┼───────────────┤\n",
       "│ lstm_1 (\u001b[38;5;33mLSTM\u001b[0m)                   │ (\u001b[38;5;45mNone\u001b[0m, \u001b[38;5;34m43\u001b[0m, \u001b[38;5;34m64\u001b[0m)         │        \u001b[38;5;34m24,832\u001b[0m │\n",
       "├─────────────────────────────────┼────────────────────────┼───────────────┤\n",
       "│ dropout (\u001b[38;5;33mDropout\u001b[0m)               │ (\u001b[38;5;45mNone\u001b[0m, \u001b[38;5;34m43\u001b[0m, \u001b[38;5;34m64\u001b[0m)         │             \u001b[38;5;34m0\u001b[0m │\n",
       "├─────────────────────────────────┼────────────────────────┼───────────────┤\n",
       "│ batch_normalization_1           │ (\u001b[38;5;45mNone\u001b[0m, \u001b[38;5;34m43\u001b[0m, \u001b[38;5;34m64\u001b[0m)         │           \u001b[38;5;34m256\u001b[0m │\n",
       "│ (\u001b[38;5;33mBatchNormalization\u001b[0m)            │                        │               │\n",
       "├─────────────────────────────────┼────────────────────────┼───────────────┤\n",
       "│ lstm_2 (\u001b[38;5;33mLSTM\u001b[0m)                   │ (\u001b[38;5;45mNone\u001b[0m, \u001b[38;5;34m64\u001b[0m)             │        \u001b[38;5;34m33,024\u001b[0m │\n",
       "├─────────────────────────────────┼────────────────────────┼───────────────┤\n",
       "│ dense (\u001b[38;5;33mDense\u001b[0m)                   │ (\u001b[38;5;45mNone\u001b[0m, \u001b[38;5;34m11\u001b[0m)             │           \u001b[38;5;34m715\u001b[0m │\n",
       "└─────────────────────────────────┴────────────────────────┴───────────────┘\n"
      ]
     },
     "metadata": {},
     "output_type": "display_data"
    },
    {
     "data": {
      "text/html": [
       "<pre style=\"white-space:pre;overflow-x:auto;line-height:normal;font-family:Menlo,'DejaVu Sans Mono',consolas,'Courier New',monospace\"><span style=\"font-weight: bold\"> Total params: </span><span style=\"color: #00af00; text-decoration-color: #00af00\">63,307</span> (247.29 KB)\n",
       "</pre>\n"
      ],
      "text/plain": [
       "\u001b[1m Total params: \u001b[0m\u001b[38;5;34m63,307\u001b[0m (247.29 KB)\n"
      ]
     },
     "metadata": {},
     "output_type": "display_data"
    },
    {
     "data": {
      "text/html": [
       "<pre style=\"white-space:pre;overflow-x:auto;line-height:normal;font-family:Menlo,'DejaVu Sans Mono',consolas,'Courier New',monospace\"><span style=\"font-weight: bold\"> Trainable params: </span><span style=\"color: #00af00; text-decoration-color: #00af00\">63,115</span> (246.54 KB)\n",
       "</pre>\n"
      ],
      "text/plain": [
       "\u001b[1m Trainable params: \u001b[0m\u001b[38;5;34m63,115\u001b[0m (246.54 KB)\n"
      ]
     },
     "metadata": {},
     "output_type": "display_data"
    },
    {
     "data": {
      "text/html": [
       "<pre style=\"white-space:pre;overflow-x:auto;line-height:normal;font-family:Menlo,'DejaVu Sans Mono',consolas,'Courier New',monospace\"><span style=\"font-weight: bold\"> Non-trainable params: </span><span style=\"color: #00af00; text-decoration-color: #00af00\">192</span> (768.00 B)\n",
       "</pre>\n"
      ],
      "text/plain": [
       "\u001b[1m Non-trainable params: \u001b[0m\u001b[38;5;34m192\u001b[0m (768.00 B)\n"
      ]
     },
     "metadata": {},
     "output_type": "display_data"
    }
   ],
   "source": [
    "with strategy.scope():\n",
    "    optimizer = tf.keras.optimizers.Adam(learning_rate=lr_schedule)\n",
    "    model = LSTM_Model()\n",
    "    model2 = LSTM_Model2()\n",
    "model.summary()"
   ]
  },
  {
   "cell_type": "markdown",
   "id": "c039b598",
   "metadata": {},
   "source": [
    "## 3.2. Model training"
   ]
  },
  {
   "cell_type": "markdown",
   "id": "dee770ca",
   "metadata": {},
   "source": [
    "### 3.2.1. Model1"
   ]
  },
  {
   "cell_type": "code",
   "execution_count": null,
   "id": "377e6376",
   "metadata": {},
   "outputs": [
    {
     "name": "stdout",
     "output_type": "stream",
     "text": [
      "Epoch 1/100\n",
      "\u001b[1m3562/3562\u001b[0m \u001b[32m━━━━━━━━━━━━━━━━━━━━\u001b[0m\u001b[37m\u001b[0m \u001b[1m61s\u001b[0m 15ms/step - accuracy: 0.8595 - loss: 0.4045 - val_accuracy: 0.9277 - val_loss: 0.2064\n",
      "Epoch 2/100\n",
      "\u001b[1m3562/3562\u001b[0m \u001b[32m━━━━━━━━━━━━━━━━━━━━\u001b[0m\u001b[37m\u001b[0m \u001b[1m55s\u001b[0m 15ms/step - accuracy: 0.9346 - loss: 0.1831 - val_accuracy: 0.9362 - val_loss: 0.1698\n",
      "Epoch 3/100\n",
      "\u001b[1m3562/3562\u001b[0m \u001b[32m━━━━━━━━━━━━━━━━━━━━\u001b[0m\u001b[37m\u001b[0m \u001b[1m55s\u001b[0m 15ms/step - accuracy: 0.9445 - loss: 0.1510 - val_accuracy: 0.9306 - val_loss: 0.2184\n",
      "Epoch 4/100\n",
      "\u001b[1m3562/3562\u001b[0m \u001b[32m━━━━━━━━━━━━━━━━━━━━\u001b[0m\u001b[37m\u001b[0m \u001b[1m54s\u001b[0m 15ms/step - accuracy: 0.9495 - loss: 0.1354 - val_accuracy: 0.9297 - val_loss: 0.1978\n",
      "Epoch 5/100\n",
      "\u001b[1m3562/3562\u001b[0m \u001b[32m━━━━━━━━━━━━━━━━━━━━\u001b[0m\u001b[37m\u001b[0m \u001b[1m55s\u001b[0m 15ms/step - accuracy: 0.9529 - loss: 0.1273 - val_accuracy: 0.8699 - val_loss: 0.4265\n",
      "Epoch 6/100\n",
      "\u001b[1m3562/3562\u001b[0m \u001b[32m━━━━━━━━━━━━━━━━━━━━\u001b[0m\u001b[37m\u001b[0m \u001b[1m55s\u001b[0m 15ms/step - accuracy: 0.9551 - loss: 0.1217 - val_accuracy: 0.8895 - val_loss: 0.3478\n",
      "Epoch 7/100\n",
      "\u001b[1m3562/3562\u001b[0m \u001b[32m━━━━━━━━━━━━━━━━━━━━\u001b[0m\u001b[37m\u001b[0m \u001b[1m54s\u001b[0m 15ms/step - accuracy: 0.9570 - loss: 0.1181 - val_accuracy: 0.3282 - val_loss: 3.4387\n",
      "Epoch 8/100\n",
      "\u001b[1m3562/3562\u001b[0m \u001b[32m━━━━━━━━━━━━━━━━━━━━\u001b[0m\u001b[37m\u001b[0m \u001b[1m54s\u001b[0m 15ms/step - accuracy: 0.9596 - loss: 0.1117 - val_accuracy: 0.9600 - val_loss: 0.1151\n",
      "Epoch 9/100\n",
      "\u001b[1m3562/3562\u001b[0m \u001b[32m━━━━━━━━━━━━━━━━━━━━\u001b[0m\u001b[37m\u001b[0m \u001b[1m54s\u001b[0m 15ms/step - accuracy: 0.9614 - loss: 0.1073 - val_accuracy: 0.9495 - val_loss: 0.1354\n",
      "Epoch 10/100\n",
      "\u001b[1m3562/3562\u001b[0m \u001b[32m━━━━━━━━━━━━━━━━━━━━\u001b[0m\u001b[37m\u001b[0m \u001b[1m54s\u001b[0m 15ms/step - accuracy: 0.9625 - loss: 0.1051 - val_accuracy: 0.9322 - val_loss: 0.2329\n",
      "Epoch 11/100\n",
      "\u001b[1m3562/3562\u001b[0m \u001b[32m━━━━━━━━━━━━━━━━━━━━\u001b[0m\u001b[37m\u001b[0m \u001b[1m54s\u001b[0m 15ms/step - accuracy: 0.9641 - loss: 0.1008 - val_accuracy: 0.9663 - val_loss: 0.0976\n",
      "Epoch 12/100\n",
      "\u001b[1m3562/3562\u001b[0m \u001b[32m━━━━━━━━━━━━━━━━━━━━\u001b[0m\u001b[37m\u001b[0m \u001b[1m54s\u001b[0m 15ms/step - accuracy: 0.9648 - loss: 0.0992 - val_accuracy: 0.9585 - val_loss: 0.1171\n",
      "Epoch 13/100\n",
      "\u001b[1m3562/3562\u001b[0m \u001b[32m━━━━━━━━━━━━━━━━━━━━\u001b[0m\u001b[37m\u001b[0m \u001b[1m55s\u001b[0m 15ms/step - accuracy: 0.9638 - loss: 0.1012 - val_accuracy: 0.4779 - val_loss: 2.4363\n",
      "Epoch 14/100\n",
      "\u001b[1m3562/3562\u001b[0m \u001b[32m━━━━━━━━━━━━━━━━━━━━\u001b[0m\u001b[37m\u001b[0m \u001b[1m55s\u001b[0m 15ms/step - accuracy: 0.9647 - loss: 0.0990 - val_accuracy: 0.4372 - val_loss: 2.3498\n",
      "Epoch 15/100\n",
      "\u001b[1m3562/3562\u001b[0m \u001b[32m━━━━━━━━━━━━━━━━━━━━\u001b[0m\u001b[37m\u001b[0m \u001b[1m55s\u001b[0m 15ms/step - accuracy: 0.9651 - loss: 0.0989 - val_accuracy: 0.9668 - val_loss: 0.0956\n",
      "Epoch 16/100\n",
      "\u001b[1m3562/3562\u001b[0m \u001b[32m━━━━━━━━━━━━━━━━━━━━\u001b[0m\u001b[37m\u001b[0m \u001b[1m55s\u001b[0m 15ms/step - accuracy: 0.9662 - loss: 0.0955 - val_accuracy: 0.9621 - val_loss: 0.1050\n",
      "Epoch 17/100\n",
      "\u001b[1m3562/3562\u001b[0m \u001b[32m━━━━━━━━━━━━━━━━━━━━\u001b[0m\u001b[37m\u001b[0m \u001b[1m55s\u001b[0m 15ms/step - accuracy: 0.9669 - loss: 0.0945 - val_accuracy: 0.5202 - val_loss: 2.3803\n",
      "Epoch 18/100\n",
      "\u001b[1m3562/3562\u001b[0m \u001b[32m━━━━━━━━━━━━━━━━━━━━\u001b[0m\u001b[37m\u001b[0m \u001b[1m55s\u001b[0m 15ms/step - accuracy: 0.9671 - loss: 0.0942 - val_accuracy: 0.9516 - val_loss: 0.1342\n",
      "Epoch 19/100\n",
      "\u001b[1m3562/3562\u001b[0m \u001b[32m━━━━━━━━━━━━━━━━━━━━\u001b[0m\u001b[37m\u001b[0m \u001b[1m55s\u001b[0m 15ms/step - accuracy: 0.9671 - loss: 0.0934 - val_accuracy: 0.8319 - val_loss: 0.5644\n",
      "Epoch 20/100\n",
      "\u001b[1m3562/3562\u001b[0m \u001b[32m━━━━━━━━━━━━━━━━━━━━\u001b[0m\u001b[37m\u001b[0m \u001b[1m55s\u001b[0m 15ms/step - accuracy: 0.9674 - loss: 0.0918 - val_accuracy: 0.9620 - val_loss: 0.1038\n",
      "Epoch 21/100\n",
      "\u001b[1m3562/3562\u001b[0m \u001b[32m━━━━━━━━━━━━━━━━━━━━\u001b[0m\u001b[37m\u001b[0m \u001b[1m55s\u001b[0m 15ms/step - accuracy: 0.9679 - loss: 0.0908 - val_accuracy: 0.9493 - val_loss: 0.1187\n",
      "Epoch 22/100\n",
      "\u001b[1m3562/3562\u001b[0m \u001b[32m━━━━━━━━━━━━━━━━━━━━\u001b[0m\u001b[37m\u001b[0m \u001b[1m55s\u001b[0m 15ms/step - accuracy: 0.9707 - loss: 0.0845 - val_accuracy: 0.6977 - val_loss: 0.8459\n",
      "Epoch 23/100\n",
      "\u001b[1m3562/3562\u001b[0m \u001b[32m━━━━━━━━━━━━━━━━━━━━\u001b[0m\u001b[37m\u001b[0m \u001b[1m54s\u001b[0m 15ms/step - accuracy: 0.9683 - loss: 0.0899 - val_accuracy: 0.9688 - val_loss: 0.0878\n",
      "Epoch 24/100\n",
      "\u001b[1m3562/3562\u001b[0m \u001b[32m━━━━━━━━━━━━━━━━━━━━\u001b[0m\u001b[37m\u001b[0m \u001b[1m55s\u001b[0m 15ms/step - accuracy: 0.9688 - loss: 0.0889 - val_accuracy: 0.8487 - val_loss: 0.5590\n",
      "Epoch 25/100\n",
      "\u001b[1m3562/3562\u001b[0m \u001b[32m━━━━━━━━━━━━━━━━━━━━\u001b[0m\u001b[37m\u001b[0m \u001b[1m55s\u001b[0m 15ms/step - accuracy: 0.9689 - loss: 0.0888 - val_accuracy: 0.3641 - val_loss: 2.8916\n",
      "Epoch 26/100\n",
      "\u001b[1m3562/3562\u001b[0m \u001b[32m━━━━━━━━━━━━━━━━━━━━\u001b[0m\u001b[37m\u001b[0m \u001b[1m55s\u001b[0m 15ms/step - accuracy: 0.9690 - loss: 0.0878 - val_accuracy: 0.9672 - val_loss: 0.0976\n",
      "Epoch 27/100\n",
      "\u001b[1m3562/3562\u001b[0m \u001b[32m━━━━━━━━━━━━━━━━━━━━\u001b[0m\u001b[37m\u001b[0m \u001b[1m55s\u001b[0m 15ms/step - accuracy: 0.9698 - loss: 0.0861 - val_accuracy: 0.9182 - val_loss: 0.2480\n",
      "Epoch 28/100\n",
      "\u001b[1m3562/3562\u001b[0m \u001b[32m━━━━━━━━━━━━━━━━━━━━\u001b[0m\u001b[37m\u001b[0m \u001b[1m55s\u001b[0m 15ms/step - accuracy: 0.9701 - loss: 0.0853 - val_accuracy: 0.9628 - val_loss: 0.1087\n",
      "Epoch 29/100\n",
      "\u001b[1m3562/3562\u001b[0m \u001b[32m━━━━━━━━━━━━━━━━━━━━\u001b[0m\u001b[37m\u001b[0m \u001b[1m54s\u001b[0m 15ms/step - accuracy: 0.9701 - loss: 0.0838 - val_accuracy: 0.9702 - val_loss: 0.0876\n",
      "Epoch 30/100\n",
      "\u001b[1m3562/3562\u001b[0m \u001b[32m━━━━━━━━━━━━━━━━━━━━\u001b[0m\u001b[37m\u001b[0m \u001b[1m55s\u001b[0m 15ms/step - accuracy: 0.9710 - loss: 0.0822 - val_accuracy: 0.9772 - val_loss: 0.0767\n",
      "Epoch 31/100\n",
      "\u001b[1m3562/3562\u001b[0m \u001b[32m━━━━━━━━━━━━━━━━━━━━\u001b[0m\u001b[37m\u001b[0m \u001b[1m55s\u001b[0m 15ms/step - accuracy: 0.9731 - loss: 0.0776 - val_accuracy: 0.9648 - val_loss: 0.1045\n",
      "Epoch 32/100\n",
      "\u001b[1m3562/3562\u001b[0m \u001b[32m━━━━━━━━━━━━━━━━━━━━\u001b[0m\u001b[37m\u001b[0m \u001b[1m55s\u001b[0m 15ms/step - accuracy: 0.9720 - loss: 0.0807 - val_accuracy: 0.9758 - val_loss: 0.0848\n",
      "Epoch 33/100\n",
      "\u001b[1m3562/3562\u001b[0m \u001b[32m━━━━━━━━━━━━━━━━━━━━\u001b[0m\u001b[37m\u001b[0m \u001b[1m55s\u001b[0m 15ms/step - accuracy: 0.9747 - loss: 0.0746 - val_accuracy: 0.9435 - val_loss: 0.1905\n",
      "Epoch 34/100\n",
      "\u001b[1m3562/3562\u001b[0m \u001b[32m━━━━━━━━━━━━━━━━━━━━\u001b[0m\u001b[37m\u001b[0m \u001b[1m55s\u001b[0m 15ms/step - accuracy: 0.9772 - loss: 0.0693 - val_accuracy: 0.9794 - val_loss: 0.0643\n",
      "Epoch 35/100\n",
      "\u001b[1m3562/3562\u001b[0m \u001b[32m━━━━━━━━━━━━━━━━━━━━\u001b[0m\u001b[37m\u001b[0m \u001b[1m54s\u001b[0m 15ms/step - accuracy: 0.9776 - loss: 0.0690 - val_accuracy: 0.9499 - val_loss: 0.1319\n",
      "Epoch 36/100\n",
      "\u001b[1m3562/3562\u001b[0m \u001b[32m━━━━━━━━━━━━━━━━━━━━\u001b[0m\u001b[37m\u001b[0m \u001b[1m55s\u001b[0m 15ms/step - accuracy: 0.9785 - loss: 0.0675 - val_accuracy: 0.9394 - val_loss: 0.1776\n",
      "Epoch 37/100\n",
      "\u001b[1m3562/3562\u001b[0m \u001b[32m━━━━━━━━━━━━━━━━━━━━\u001b[0m\u001b[37m\u001b[0m \u001b[1m55s\u001b[0m 15ms/step - accuracy: 0.9786 - loss: 0.0660 - val_accuracy: 0.9462 - val_loss: 0.2059\n",
      "Epoch 38/100\n",
      "\u001b[1m3562/3562\u001b[0m \u001b[32m━━━━━━━━━━━━━━━━━━━━\u001b[0m\u001b[37m\u001b[0m \u001b[1m54s\u001b[0m 15ms/step - accuracy: 0.9788 - loss: 0.0660 - val_accuracy: 0.7746 - val_loss: 0.8769\n",
      "Epoch 39/100\n",
      "\u001b[1m3562/3562\u001b[0m \u001b[32m━━━━━━━━━━━━━━━━━━━━\u001b[0m\u001b[37m\u001b[0m \u001b[1m55s\u001b[0m 15ms/step - accuracy: 0.9786 - loss: 0.0671 - val_accuracy: 0.9669 - val_loss: 0.1411\n",
      "Epoch 40/100\n",
      "\u001b[1m3562/3562\u001b[0m \u001b[32m━━━━━━━━━━━━━━━━━━━━\u001b[0m\u001b[37m\u001b[0m \u001b[1m54s\u001b[0m 15ms/step - accuracy: 0.9801 - loss: 0.0628 - val_accuracy: 0.9732 - val_loss: 0.0742\n",
      "Epoch 41/100\n",
      "\u001b[1m3562/3562\u001b[0m \u001b[32m━━━━━━━━━━━━━━━━━━━━\u001b[0m\u001b[37m\u001b[0m \u001b[1m55s\u001b[0m 15ms/step - accuracy: 0.9788 - loss: 0.0663 - val_accuracy: 0.9772 - val_loss: 0.0679\n",
      "Epoch 42/100\n",
      "\u001b[1m3562/3562\u001b[0m \u001b[32m━━━━━━━━━━━━━━━━━━━━\u001b[0m\u001b[37m\u001b[0m \u001b[1m55s\u001b[0m 15ms/step - accuracy: 0.9805 - loss: 0.0621 - val_accuracy: 0.9618 - val_loss: 0.1414\n",
      "Epoch 43/100\n",
      "\u001b[1m3562/3562\u001b[0m \u001b[32m━━━━━━━━━━━━━━━━━━━━\u001b[0m\u001b[37m\u001b[0m \u001b[1m54s\u001b[0m 15ms/step - accuracy: 0.9772 - loss: 0.0695 - val_accuracy: 0.9616 - val_loss: 0.1716\n",
      "Epoch 44/100\n",
      "\u001b[1m3562/3562\u001b[0m \u001b[32m━━━━━━━━━━━━━━━━━━━━\u001b[0m\u001b[37m\u001b[0m \u001b[1m55s\u001b[0m 15ms/step - accuracy: 0.9779 - loss: 0.0666 - val_accuracy: 0.9548 - val_loss: 0.1578\n"
     ]
    }
   ],
   "source": [
    "history = model.fit(x_train_dl ,y_train_dl, verbose=1, epochs=100, batch_size=256,validation_data=(x_val_dl,y_val_dl),callbacks=[early_stopping])"
   ]
  },
  {
   "cell_type": "code",
   "execution_count": null,
   "id": "16896811",
   "metadata": {},
   "outputs": [],
   "source": [
    "from sklearn.metrics import confusion_matrix\n",
    "from sklearn.metrics import classification_report\n",
    "from matplotlib import pyplot"
   ]
  },
  {
   "cell_type": "code",
   "execution_count": null,
   "id": "2ed4f534",
   "metadata": {},
   "outputs": [
    {
     "name": "stdout",
     "output_type": "stream",
     "text": [
      "Baseline: 96.65% (1.36%)\n"
     ]
    }
   ],
   "source": [
    "mean = sum(history.history['accuracy']) / len(history.history['accuracy'])\n",
    "variance = sum([((x - mean) ** 2) for x in history.history['accuracy']]) / len(history.history['accuracy'])\n",
    "res = variance ** 0.5\n",
    "print(\"Baseline: %.2f%% (%.2f%%)\" % (mean*100, res*100))"
   ]
  },
  {
   "cell_type": "code",
   "execution_count": null,
   "id": "9ac828b9",
   "metadata": {},
   "outputs": [
    {
     "name": "stdout",
     "output_type": "stream",
     "text": [
      "\u001b[1m9499/9499\u001b[0m \u001b[32m━━━━━━━━━━━━━━━━━━━━\u001b[0m\u001b[37m\u001b[0m \u001b[1m58s\u001b[0m 6ms/step\n",
      "              precision    recall  f1-score   support\n",
      "\n",
      "           0       0.98      0.99      0.98    100316\n",
      "           1       1.00      1.00      1.00       593\n",
      "           2       0.99      0.98      0.99       494\n",
      "           3       0.99      1.00      0.99    158629\n",
      "           4       1.00      0.17      0.29        30\n",
      "           5       0.92      0.78      0.84       160\n",
      "           6       0.87      0.90      0.89      4638\n",
      "           7       0.95      0.90      0.93     26316\n",
      "           8       0.85      0.64      0.73      2817\n",
      "           9       0.91      0.96      0.93      9830\n",
      "          10       0.71      0.74      0.73       129\n",
      "\n",
      "    accuracy                           0.98    303952\n",
      "   macro avg       0.92      0.82      0.84    303952\n",
      "weighted avg       0.98      0.98      0.98    303952\n",
      "\n"
     ]
    }
   ],
   "source": [
    "y_pred = model.predict(x_test_dl)\n",
    "y_pred_class = y_pred.argmax(axis=-1)\n",
    "y_test_class = np.argmax(y_test_dl, axis=1)\n",
    "\n",
    "print(classification_report(y_test_class, y_pred_class))"
   ]
  },
  {
   "cell_type": "code",
   "execution_count": null,
   "id": "c8343aeb",
   "metadata": {},
   "outputs": [
    {
     "data": {
      "image/png": "[encoded data removed]",
      "text/plain": [
       "<Figure size 1200x500 with 2 Axes>"
      ]
     },
     "metadata": {},
     "output_type": "display_data"
    }
   ],
   "source": [
    "plot_history(history)"
   ]
  },
  {
   "cell_type": "code",
   "execution_count": null,
   "id": "2645eee5",
   "metadata": {},
   "outputs": [
    {
     "data": {
      "image/png": "[encoded data removed]",
      "text/plain": [
       "<Figure size 640x480 with 1 Axes>"
      ]
     },
     "metadata": {},
     "output_type": "display_data"
    }
   ],
   "source": [
    "pyplot.plot(history.history['accuracy'])\n",
    "pyplot.savefig('DL_LSTM1_Accuracy_EpochVsAccuracy.jpg',dpi=900)\n",
    "pyplot.show()"
   ]
  },
  {
   "cell_type": "code",
   "execution_count": null,
   "id": "fdce15d5",
   "metadata": {},
   "outputs": [
    {
     "name": "stdout",
     "output_type": "stream",
     "text": [
      "\u001b[1m9499/9499\u001b[0m \u001b[32m━━━━━━━━━━━━━━━━━━━━\u001b[0m\u001b[37m\u001b[0m \u001b[1m47s\u001b[0m 5ms/step - accuracy: 0.9791 - loss: 0.0656\n",
      "Test Accuracy: 0.9789144396781921\n"
     ]
    }
   ],
   "source": [
    "loss, accuracy = model.evaluate(x_test_dl, y_test_dl)\n",
    "print('Test Accuracy:', accuracy)"
   ]
  },
  {
   "cell_type": "markdown",
   "id": "c9decd1c",
   "metadata": {},
   "source": [
    "# 4. Model : RNN"
   ]
  },
  {
   "cell_type": "markdown",
   "id": "afe9bc29",
   "metadata": {},
   "source": [
    "## 4.1. Model Development"
   ]
  },
  {
   "cell_type": "code",
   "execution_count": null,
   "id": "b9154ae9",
   "metadata": {},
   "outputs": [],
   "source": [
    "lr_schedule = tf.keras.optimizers.schedules.ExponentialDecay(\n",
    "    initial_learning_rate=0.0005,\n",
    "    decay_steps=10000,\n",
    "    decay_rate=0.96,\n",
    "    staircase=True\n",
    ")"
   ]
  },
  {
   "cell_type": "code",
   "execution_count": null,
   "id": "966767d1",
   "metadata": {},
   "outputs": [],
   "source": [
    "early_stopping = EarlyStopping(monitor='val_loss', patience=10, restore_best_weights=True)"
   ]
  },
  {
   "cell_type": "code",
   "execution_count": null,
   "id": "c9a288b7",
   "metadata": {},
   "outputs": [],
   "source": [
    "input_feature=x_train_dl.shape[1]\n",
    "output_classes=len(y_train_dl[0])"
   ]
  },
  {
   "cell_type": "code",
   "execution_count": null,
   "id": "dcca3370",
   "metadata": {},
   "outputs": [],
   "source": [
    "def Simple_RNN_Model():\n",
    "    model = Sequential([\n",
    "        Input(shape=(input_feature,1)),\n",
    "        SimpleRNN(32),\n",
    "        Dense(output_classes, activation=\"softmax\")\n",
    "    ])\n",
    "    model.compile(loss='categorical_crossentropy', optimizer=optimizer, metrics=['accuracy'])\n",
    "    return model"
   ]
  },
  {
   "cell_type": "code",
   "execution_count": null,
   "id": "898db67d",
   "metadata": {},
   "outputs": [
    {
     "data": {
      "text/html": [
       "<pre style=\"white-space:pre;overflow-x:auto;line-height:normal;font-family:Menlo,'DejaVu Sans Mono',consolas,'Courier New',monospace\"><span style=\"font-weight: bold\">Model: \"sequential_2\"</span>\n",
       "</pre>\n"
      ],
      "text/plain": [
       "\u001b[1mModel: \"sequential_2\"\u001b[0m\n"
      ]
     },
     "metadata": {},
     "output_type": "display_data"
    },
    {
     "data": {
      "text/html": [
       "<pre style=\"white-space:pre;overflow-x:auto;line-height:normal;font-family:Menlo,'DejaVu Sans Mono',consolas,'Courier New',monospace\">┏━━━━━━━━━━━━━━━━━━━━━━━━━━━━━━━━━┳━━━━━━━━━━━━━━━━━━━━━━━━┳━━━━━━━━━━━━━━━┓\n",
       "┃<span style=\"font-weight: bold\"> Layer (type)                    </span>┃<span style=\"font-weight: bold\"> Output Shape           </span>┃<span style=\"font-weight: bold\">       Param # </span>┃\n",
       "┡━━━━━━━━━━━━━━━━━━━━━━━━━━━━━━━━━╇━━━━━━━━━━━━━━━━━━━━━━━━╇━━━━━━━━━━━━━━━┩\n",
       "│ simple_rnn (<span style=\"color: #0087ff; text-decoration-color: #0087ff\">SimpleRNN</span>)          │ (<span style=\"color: #00d7ff; text-decoration-color: #00d7ff\">None</span>, <span style=\"color: #00af00; text-decoration-color: #00af00\">32</span>)             │         <span style=\"color: #00af00; text-decoration-color: #00af00\">1,088</span> │\n",
       "├─────────────────────────────────┼────────────────────────┼───────────────┤\n",
       "│ dense_2 (<span style=\"color: #0087ff; text-decoration-color: #0087ff\">Dense</span>)                 │ (<span style=\"color: #00d7ff; text-decoration-color: #00d7ff\">None</span>, <span style=\"color: #00af00; text-decoration-color: #00af00\">11</span>)             │           <span style=\"color: #00af00; text-decoration-color: #00af00\">363</span> │\n",
       "└─────────────────────────────────┴────────────────────────┴───────────────┘\n",
       "</pre>\n"
      ],
      "text/plain": [
       "┏━━━━━━━━━━━━━━━━━━━━━━━━━━━━━━━━━┳━━━━━━━━━━━━━━━━━━━━━━━━┳━━━━━━━━━━━━━━━┓\n",
       "┃\u001b[1m \u001b[0m\u001b[1mLayer (type)                   \u001b[0m\u001b[1m \u001b[0m┃\u001b[1m \u001b[0m\u001b[1mOutput Shape          \u001b[0m\u001b[1m \u001b[0m┃\u001b[1m \u001b[0m\u001b[1m      Param #\u001b[0m\u001b[1m \u001b[0m┃\n",
       "┡━━━━━━━━━━━━━━━━━━━━━━━━━━━━━━━━━╇━━━━━━━━━━━━━━━━━━━━━━━━╇━━━━━━━━━━━━━━━┩\n",
       "│ simple_rnn (\u001b[38;5;33mSimpleRNN\u001b[0m)          │ (\u001b[38;5;45mNone\u001b[0m, \u001b[38;5;34m32\u001b[0m)             │         \u001b[38;5;34m1,088\u001b[0m │\n",
       "├─────────────────────────────────┼────────────────────────┼───────────────┤\n",
       "│ dense_2 (\u001b[38;5;33mDense\u001b[0m)                 │ (\u001b[38;5;45mNone\u001b[0m, \u001b[38;5;34m11\u001b[0m)             │           \u001b[38;5;34m363\u001b[0m │\n",
       "└─────────────────────────────────┴────────────────────────┴───────────────┘\n"
      ]
     },
     "metadata": {},
     "output_type": "display_data"
    },
    {
     "data": {
      "text/html": [
       "<pre style=\"white-space:pre;overflow-x:auto;line-height:normal;font-family:Menlo,'DejaVu Sans Mono',consolas,'Courier New',monospace\"><span style=\"font-weight: bold\"> Total params: </span><span style=\"color: #00af00; text-decoration-color: #00af00\">1,451</span> (5.67 KB)\n",
       "</pre>\n"
      ],
      "text/plain": [
       "\u001b[1m Total params: \u001b[0m\u001b[38;5;34m1,451\u001b[0m (5.67 KB)\n"
      ]
     },
     "metadata": {},
     "output_type": "display_data"
    },
    {
     "data": {
      "text/html": [
       "<pre style=\"white-space:pre;overflow-x:auto;line-height:normal;font-family:Menlo,'DejaVu Sans Mono',consolas,'Courier New',monospace\"><span style=\"font-weight: bold\"> Trainable params: </span><span style=\"color: #00af00; text-decoration-color: #00af00\">1,451</span> (5.67 KB)\n",
       "</pre>\n"
      ],
      "text/plain": [
       "\u001b[1m Trainable params: \u001b[0m\u001b[38;5;34m1,451\u001b[0m (5.67 KB)\n"
      ]
     },
     "metadata": {},
     "output_type": "display_data"
    },
    {
     "data": {
      "text/html": [
       "<pre style=\"white-space:pre;overflow-x:auto;line-height:normal;font-family:Menlo,'DejaVu Sans Mono',consolas,'Courier New',monospace\"><span style=\"font-weight: bold\"> Non-trainable params: </span><span style=\"color: #00af00; text-decoration-color: #00af00\">0</span> (0.00 B)\n",
       "</pre>\n"
      ],
      "text/plain": [
       "\u001b[1m Non-trainable params: \u001b[0m\u001b[38;5;34m0\u001b[0m (0.00 B)\n"
      ]
     },
     "metadata": {},
     "output_type": "display_data"
    }
   ],
   "source": [
    "with strategy.scope():\n",
    "    optimizer = tf.keras.optimizers.Adam(learning_rate=lr_schedule)\n",
    "    model = Simple_RNN_Model()\n",
    "model.summary()"
   ]
  },
  {
   "cell_type": "markdown",
   "id": "096d77cd",
   "metadata": {},
   "source": [
    "## 4.2. Model Training"
   ]
  },
  {
   "cell_type": "code",
   "execution_count": null,
   "id": "82c5de5e",
   "metadata": {},
   "outputs": [
    {
     "name": "stdout",
     "output_type": "stream",
     "text": [
      "Epoch 1/100\n",
      "\u001b[1m3562/3562\u001b[0m \u001b[32m━━━━━━━━━━━━━━━━━━━━\u001b[0m\u001b[37m\u001b[0m \u001b[1m122s\u001b[0m 34ms/step - accuracy: 0.8133 - loss: 0.6387 - val_accuracy: 0.8794 - val_loss: 0.3410\n",
      "Epoch 2/100\n",
      "\u001b[1m3562/3562\u001b[0m \u001b[32m━━━━━━━━━━━━━━━━━━━━\u001b[0m\u001b[37m\u001b[0m \u001b[1m120s\u001b[0m 34ms/step - accuracy: 0.8922 - loss: 0.3108 - val_accuracy: 0.9000 - val_loss: 0.2804\n",
      "Epoch 3/100\n",
      "\u001b[1m3562/3562\u001b[0m \u001b[32m━━━━━━━━━━━━━━━━━━━━\u001b[0m\u001b[37m\u001b[0m \u001b[1m120s\u001b[0m 34ms/step - accuracy: 0.9023 - loss: 0.2783 - val_accuracy: 0.9097 - val_loss: 0.2548\n",
      "Epoch 4/100\n",
      "\u001b[1m3562/3562\u001b[0m \u001b[32m━━━━━━━━━━━━━━━━━━━━\u001b[0m\u001b[37m\u001b[0m \u001b[1m120s\u001b[0m 34ms/step - accuracy: 0.9082 - loss: 0.2579 - val_accuracy: 0.9090 - val_loss: 0.2592\n",
      "Epoch 5/100\n",
      "\u001b[1m3562/3562\u001b[0m \u001b[32m━━━━━━━━━━━━━━━━━━━━\u001b[0m\u001b[37m\u001b[0m \u001b[1m120s\u001b[0m 34ms/step - accuracy: 0.9103 - loss: 0.2491 - val_accuracy: 0.9116 - val_loss: 0.2468\n",
      "Epoch 6/100\n",
      "\u001b[1m3562/3562\u001b[0m \u001b[32m━━━━━━━━━━━━━━━━━━━━\u001b[0m\u001b[37m\u001b[0m \u001b[1m120s\u001b[0m 34ms/step - accuracy: 0.9138 - loss: 0.2371 - val_accuracy: 0.9164 - val_loss: 0.2235\n",
      "Epoch 7/100\n",
      "\u001b[1m3562/3562\u001b[0m \u001b[32m━━━━━━━━━━━━━━━━━━━━\u001b[0m\u001b[37m\u001b[0m \u001b[1m120s\u001b[0m 34ms/step - accuracy: 0.9165 - loss: 0.2306 - val_accuracy: 0.9205 - val_loss: 0.2235\n",
      "Epoch 8/100\n",
      "\u001b[1m3562/3562\u001b[0m \u001b[32m━━━━━━━━━━━━━━━━━━━━\u001b[0m\u001b[37m\u001b[0m \u001b[1m120s\u001b[0m 34ms/step - accuracy: 0.9182 - loss: 0.2258 - val_accuracy: 0.9200 - val_loss: 0.2151\n",
      "Epoch 9/100\n",
      "\u001b[1m3562/3562\u001b[0m \u001b[32m━━━━━━━━━━━━━━━━━━━━\u001b[0m\u001b[37m\u001b[0m \u001b[1m121s\u001b[0m 34ms/step - accuracy: 0.9204 - loss: 0.2185 - val_accuracy: 0.9264 - val_loss: 0.2133\n",
      "Epoch 10/100\n",
      "\u001b[1m3562/3562\u001b[0m \u001b[32m━━━━━━━━━━━━━━━━━━━━\u001b[0m\u001b[37m\u001b[0m \u001b[1m143s\u001b[0m 34ms/step - accuracy: 0.9227 - loss: 0.2122 - val_accuracy: 0.9274 - val_loss: 0.2024\n",
      "Epoch 11/100\n",
      "\u001b[1m3562/3562\u001b[0m \u001b[32m━━━━━━━━━━━━━━━━━━━━\u001b[0m\u001b[37m\u001b[0m \u001b[1m121s\u001b[0m 34ms/step - accuracy: 0.9245 - loss: 0.2073 - val_accuracy: 0.9276 - val_loss: 0.2002\n",
      "Epoch 12/100\n",
      "\u001b[1m3562/3562\u001b[0m \u001b[32m━━━━━━━━━━━━━━━━━━━━\u001b[0m\u001b[37m\u001b[0m \u001b[1m120s\u001b[0m 34ms/step - accuracy: 0.9265 - loss: 0.2025 - val_accuracy: 0.9271 - val_loss: 0.2115\n",
      "Epoch 13/100\n",
      "\u001b[1m3562/3562\u001b[0m \u001b[32m━━━━━━━━━━━━━━━━━━━━\u001b[0m\u001b[37m\u001b[0m \u001b[1m121s\u001b[0m 34ms/step - accuracy: 0.9287 - loss: 0.1978 - val_accuracy: 0.9262 - val_loss: 0.2153\n",
      "Epoch 14/100\n",
      "\u001b[1m3562/3562\u001b[0m \u001b[32m━━━━━━━━━━━━━━━━━━━━\u001b[0m\u001b[37m\u001b[0m \u001b[1m121s\u001b[0m 34ms/step - accuracy: 0.9303 - loss: 0.1927 - val_accuracy: 0.9332 - val_loss: 0.1894\n",
      "Epoch 15/100\n",
      "\u001b[1m3562/3562\u001b[0m \u001b[32m━━━━━━━━━━━━━━━━━━━━\u001b[0m\u001b[37m\u001b[0m \u001b[1m120s\u001b[0m 34ms/step - accuracy: 0.9330 - loss: 0.1876 - val_accuracy: 0.9379 - val_loss: 0.1817\n",
      "Epoch 16/100\n",
      "\u001b[1m3562/3562\u001b[0m \u001b[32m━━━━━━━━━━━━━━━━━━━━\u001b[0m\u001b[37m\u001b[0m \u001b[1m121s\u001b[0m 34ms/step - accuracy: 0.9342 - loss: 0.1844 - val_accuracy: 0.9382 - val_loss: 0.1799\n",
      "Epoch 17/100\n",
      "\u001b[1m3562/3562\u001b[0m \u001b[32m━━━━━━━━━━━━━━━━━━━━\u001b[0m\u001b[37m\u001b[0m \u001b[1m123s\u001b[0m 34ms/step - accuracy: 0.9360 - loss: 0.1798 - val_accuracy: 0.9403 - val_loss: 0.1726\n",
      "Epoch 18/100\n",
      "\u001b[1m3562/3562\u001b[0m \u001b[32m━━━━━━━━━━━━━━━━━━━━\u001b[0m\u001b[37m\u001b[0m \u001b[1m122s\u001b[0m 34ms/step - accuracy: 0.9377 - loss: 0.1748 - val_accuracy: 0.9436 - val_loss: 0.1655\n",
      "Epoch 19/100\n",
      "\u001b[1m3562/3562\u001b[0m \u001b[32m━━━━━━━━━━━━━━━━━━━━\u001b[0m\u001b[37m\u001b[0m \u001b[1m123s\u001b[0m 35ms/step - accuracy: 0.9392 - loss: 0.1723 - val_accuracy: 0.9429 - val_loss: 0.1649\n",
      "Epoch 20/100\n",
      "\u001b[1m3562/3562\u001b[0m \u001b[32m━━━━━━━━━━━━━━━━━━━━\u001b[0m\u001b[37m\u001b[0m \u001b[1m123s\u001b[0m 34ms/step - accuracy: 0.9407 - loss: 0.1692 - val_accuracy: 0.9418 - val_loss: 0.1672\n",
      "Epoch 21/100\n",
      "\u001b[1m3562/3562\u001b[0m \u001b[32m━━━━━━━━━━━━━━━━━━━━\u001b[0m\u001b[37m\u001b[0m \u001b[1m124s\u001b[0m 35ms/step - accuracy: 0.9414 - loss: 0.1678 - val_accuracy: 0.9453 - val_loss: 0.1609\n",
      "Epoch 22/100\n",
      "\u001b[1m3562/3562\u001b[0m \u001b[32m━━━━━━━━━━━━━━━━━━━━\u001b[0m\u001b[37m\u001b[0m \u001b[1m123s\u001b[0m 35ms/step - accuracy: 0.9426 - loss: 0.1634 - val_accuracy: 0.9467 - val_loss: 0.1579\n",
      "Epoch 23/100\n",
      "\u001b[1m3562/3562\u001b[0m \u001b[32m━━━━━━━━━━━━━━━━━━━━\u001b[0m\u001b[37m\u001b[0m \u001b[1m123s\u001b[0m 35ms/step - accuracy: 0.9430 - loss: 0.1614 - val_accuracy: 0.9450 - val_loss: 0.1582\n",
      "Epoch 24/100\n",
      "\u001b[1m3562/3562\u001b[0m \u001b[32m━━━━━━━━━━━━━━━━━━━━\u001b[0m\u001b[37m\u001b[0m \u001b[1m123s\u001b[0m 35ms/step - accuracy: 0.9436 - loss: 0.1600 - val_accuracy: 0.9415 - val_loss: 0.1724\n",
      "Epoch 25/100\n",
      "\u001b[1m3562/3562\u001b[0m \u001b[32m━━━━━━━━━━━━━━━━━━━━\u001b[0m\u001b[37m\u001b[0m \u001b[1m124s\u001b[0m 35ms/step - accuracy: 0.9444 - loss: 0.1566 - val_accuracy: 0.9465 - val_loss: 0.1510\n",
      "Epoch 26/100\n",
      "\u001b[1m3562/3562\u001b[0m \u001b[32m━━━━━━━━━━━━━━━━━━━━\u001b[0m\u001b[37m\u001b[0m \u001b[1m125s\u001b[0m 35ms/step - accuracy: 0.9444 - loss: 0.1558 - val_accuracy: 0.9472 - val_loss: 0.1543\n",
      "Epoch 27/100\n",
      "\u001b[1m3562/3562\u001b[0m \u001b[32m━━━━━━━━━━━━━━━━━━━━\u001b[0m\u001b[37m\u001b[0m \u001b[1m124s\u001b[0m 35ms/step - accuracy: 0.9453 - loss: 0.1550 - val_accuracy: 0.9448 - val_loss: 0.1627\n",
      "Epoch 28/100\n",
      "\u001b[1m3562/3562\u001b[0m \u001b[32m━━━━━━━━━━━━━━━━━━━━\u001b[0m\u001b[37m\u001b[0m \u001b[1m124s\u001b[0m 35ms/step - accuracy: 0.9456 - loss: 0.1533 - val_accuracy: 0.9433 - val_loss: 0.1624\n",
      "Epoch 29/100\n",
      "\u001b[1m3562/3562\u001b[0m \u001b[32m━━━━━━━━━━━━━━━━━━━━\u001b[0m\u001b[37m\u001b[0m \u001b[1m126s\u001b[0m 35ms/step - accuracy: 0.9451 - loss: 0.1541 - val_accuracy: 0.9466 - val_loss: 0.1494\n",
      "Epoch 30/100\n",
      "\u001b[1m3562/3562\u001b[0m \u001b[32m━━━━━━━━━━━━━━━━━━━━\u001b[0m\u001b[37m\u001b[0m \u001b[1m126s\u001b[0m 35ms/step - accuracy: 0.9456 - loss: 0.1521 - val_accuracy: 0.9497 - val_loss: 0.1437\n",
      "Epoch 31/100\n",
      "\u001b[1m3562/3562\u001b[0m \u001b[32m━━━━━━━━━━━━━━━━━━━━\u001b[0m\u001b[37m\u001b[0m \u001b[1m126s\u001b[0m 35ms/step - accuracy: 0.9467 - loss: 0.1502 - val_accuracy: 0.9484 - val_loss: 0.1466\n",
      "Epoch 32/100\n",
      "\u001b[1m3562/3562\u001b[0m \u001b[32m━━━━━━━━━━━━━━━━━━━━\u001b[0m\u001b[37m\u001b[0m \u001b[1m125s\u001b[0m 35ms/step - accuracy: 0.9464 - loss: 0.1493 - val_accuracy: 0.9456 - val_loss: 0.1521\n",
      "Epoch 33/100\n",
      "\u001b[1m3562/3562\u001b[0m \u001b[32m━━━━━━━━━━━━━━━━━━━━\u001b[0m\u001b[37m\u001b[0m \u001b[1m125s\u001b[0m 35ms/step - accuracy: 0.9463 - loss: 0.1494 - val_accuracy: 0.9470 - val_loss: 0.1491\n",
      "Epoch 34/100\n",
      "\u001b[1m3562/3562\u001b[0m \u001b[32m━━━━━━━━━━━━━━━━━━━━\u001b[0m\u001b[37m\u001b[0m \u001b[1m126s\u001b[0m 35ms/step - accuracy: 0.9466 - loss: 0.1480 - val_accuracy: 0.9455 - val_loss: 0.1530\n",
      "Epoch 35/100\n",
      "\u001b[1m3562/3562\u001b[0m \u001b[32m━━━━━━━━━━━━━━━━━━━━\u001b[0m\u001b[37m\u001b[0m \u001b[1m124s\u001b[0m 35ms/step - accuracy: 0.9469 - loss: 0.1470 - val_accuracy: 0.9475 - val_loss: 0.1464\n",
      "Epoch 36/100\n",
      "\u001b[1m3562/3562\u001b[0m \u001b[32m━━━━━━━━━━━━━━━━━━━━\u001b[0m\u001b[37m\u001b[0m \u001b[1m124s\u001b[0m 35ms/step - accuracy: 0.9471 - loss: 0.1457 - val_accuracy: 0.9446 - val_loss: 0.1431\n",
      "Epoch 37/100\n",
      "\u001b[1m3562/3562\u001b[0m \u001b[32m━━━━━━━━━━━━━━━━━━━━\u001b[0m\u001b[37m\u001b[0m \u001b[1m125s\u001b[0m 35ms/step - accuracy: 0.9476 - loss: 0.1448 - val_accuracy: 0.9489 - val_loss: 0.1430\n",
      "Epoch 38/100\n",
      "\u001b[1m3562/3562\u001b[0m \u001b[32m━━━━━━━━━━━━━━━━━━━━\u001b[0m\u001b[37m\u001b[0m \u001b[1m126s\u001b[0m 35ms/step - accuracy: 0.9483 - loss: 0.1429 - val_accuracy: 0.9387 - val_loss: 0.1577\n",
      "Epoch 39/100\n",
      "\u001b[1m3562/3562\u001b[0m \u001b[32m━━━━━━━━━━━━━━━━━━━━\u001b[0m\u001b[37m\u001b[0m \u001b[1m125s\u001b[0m 35ms/step - accuracy: 0.9477 - loss: 0.1438 - val_accuracy: 0.9477 - val_loss: 0.1457\n",
      "Epoch 40/100\n",
      "\u001b[1m3562/3562\u001b[0m \u001b[32m━━━━━━━━━━━━━━━━━━━━\u001b[0m\u001b[37m\u001b[0m \u001b[1m126s\u001b[0m 35ms/step - accuracy: 0.9483 - loss: 0.1423 - val_accuracy: 0.9506 - val_loss: 0.1411\n",
      "Epoch 41/100\n",
      "\u001b[1m3562/3562\u001b[0m \u001b[32m━━━━━━━━━━━━━━━━━━━━\u001b[0m\u001b[37m\u001b[0m \u001b[1m126s\u001b[0m 35ms/step - accuracy: 0.9486 - loss: 0.1414 - val_accuracy: 0.9483 - val_loss: 0.1412\n",
      "Epoch 42/100\n",
      "\u001b[1m3562/3562\u001b[0m \u001b[32m━━━━━━━━━━━━━━━━━━━━\u001b[0m\u001b[37m\u001b[0m \u001b[1m124s\u001b[0m 35ms/step - accuracy: 0.9485 - loss: 0.1414 - val_accuracy: 0.9457 - val_loss: 0.1523\n",
      "Epoch 43/100\n",
      "\u001b[1m3562/3562\u001b[0m \u001b[32m━━━━━━━━━━━━━━━━━━━━\u001b[0m\u001b[37m\u001b[0m \u001b[1m126s\u001b[0m 35ms/step - accuracy: 0.9484 - loss: 0.1412 - val_accuracy: 0.9502 - val_loss: 0.1390\n",
      "Epoch 44/100\n",
      "\u001b[1m3562/3562\u001b[0m \u001b[32m━━━━━━━━━━━━━━━━━━━━\u001b[0m\u001b[37m\u001b[0m \u001b[1m126s\u001b[0m 35ms/step - accuracy: 0.9488 - loss: 0.1398 - val_accuracy: 0.9509 - val_loss: 0.1395\n",
      "Epoch 45/100\n",
      "\u001b[1m3562/3562\u001b[0m \u001b[32m━━━━━━━━━━━━━━━━━━━━\u001b[0m\u001b[37m\u001b[0m \u001b[1m124s\u001b[0m 35ms/step - accuracy: 0.9489 - loss: 0.1394 - val_accuracy: 0.9496 - val_loss: 0.1377\n",
      "Epoch 46/100\n",
      "\u001b[1m3562/3562\u001b[0m \u001b[32m━━━━━━━━━━━━━━━━━━━━\u001b[0m\u001b[37m\u001b[0m \u001b[1m126s\u001b[0m 35ms/step - accuracy: 0.9491 - loss: 0.1389 - val_accuracy: 0.9485 - val_loss: 0.1476\n",
      "Epoch 47/100\n",
      "\u001b[1m3562/3562\u001b[0m \u001b[32m━━━━━━━━━━━━━━━━━━━━\u001b[0m\u001b[37m\u001b[0m \u001b[1m125s\u001b[0m 35ms/step - accuracy: 0.9487 - loss: 0.1395 - val_accuracy: 0.9500 - val_loss: 0.1356\n",
      "Epoch 48/100\n",
      "\u001b[1m3562/3562\u001b[0m \u001b[32m━━━━━━━━━━━━━━━━━━━━\u001b[0m\u001b[37m\u001b[0m \u001b[1m125s\u001b[0m 35ms/step - accuracy: 0.9494 - loss: 0.1382 - val_accuracy: 0.9507 - val_loss: 0.1324\n",
      "Epoch 49/100\n",
      "\u001b[1m3562/3562\u001b[0m \u001b[32m━━━━━━━━━━━━━━━━━━━━\u001b[0m\u001b[37m\u001b[0m \u001b[1m124s\u001b[0m 35ms/step - accuracy: 0.9498 - loss: 0.1372 - val_accuracy: 0.9484 - val_loss: 0.1376\n",
      "Epoch 50/100\n",
      "\u001b[1m3562/3562\u001b[0m \u001b[32m━━━━━━━━━━━━━━━━━━━━\u001b[0m\u001b[37m\u001b[0m \u001b[1m126s\u001b[0m 35ms/step - accuracy: 0.9496 - loss: 0.1376 - val_accuracy: 0.9488 - val_loss: 0.1395\n",
      "Epoch 51/100\n",
      "\u001b[1m3562/3562\u001b[0m \u001b[32m━━━━━━━━━━━━━━━━━━━━\u001b[0m\u001b[37m\u001b[0m \u001b[1m122s\u001b[0m 34ms/step - accuracy: 0.9489 - loss: 0.1379 - val_accuracy: 0.9502 - val_loss: 0.1358\n",
      "Epoch 52/100\n",
      "\u001b[1m3562/3562\u001b[0m \u001b[32m━━━━━━━━━━━━━━━━━━━━\u001b[0m\u001b[37m\u001b[0m \u001b[1m124s\u001b[0m 35ms/step - accuracy: 0.9498 - loss: 0.1363 - val_accuracy: 0.9496 - val_loss: 0.1377\n",
      "Epoch 53/100\n",
      "\u001b[1m3562/3562\u001b[0m \u001b[32m━━━━━━━━━━━━━━━━━━━━\u001b[0m\u001b[37m\u001b[0m \u001b[1m123s\u001b[0m 35ms/step - accuracy: 0.9502 - loss: 0.1353 - val_accuracy: 0.9485 - val_loss: 0.1352\n",
      "Epoch 54/100\n",
      "\u001b[1m3562/3562\u001b[0m \u001b[32m━━━━━━━━━━━━━━━━━━━━\u001b[0m\u001b[37m\u001b[0m \u001b[1m123s\u001b[0m 35ms/step - accuracy: 0.9500 - loss: 0.1361 - val_accuracy: 0.9503 - val_loss: 0.1364\n",
      "Epoch 55/100\n",
      "\u001b[1m3562/3562\u001b[0m \u001b[32m━━━━━━━━━━━━━━━━━━━━\u001b[0m\u001b[37m\u001b[0m \u001b[1m123s\u001b[0m 35ms/step - accuracy: 0.9501 - loss: 0.1365 - val_accuracy: 0.9508 - val_loss: 0.1379\n",
      "Epoch 56/100\n",
      "\u001b[1m3562/3562\u001b[0m \u001b[32m━━━━━━━━━━━━━━━━━━━━\u001b[0m\u001b[37m\u001b[0m \u001b[1m124s\u001b[0m 35ms/step - accuracy: 0.9500 - loss: 0.1359 - val_accuracy: 0.9531 - val_loss: 0.1310\n",
      "Epoch 57/100\n",
      "\u001b[1m3562/3562\u001b[0m \u001b[32m━━━━━━━━━━━━━━━━━━━━\u001b[0m\u001b[37m\u001b[0m \u001b[1m124s\u001b[0m 35ms/step - accuracy: 0.9498 - loss: 0.1358 - val_accuracy: 0.9495 - val_loss: 0.1440\n",
      "Epoch 58/100\n",
      "\u001b[1m3562/3562\u001b[0m \u001b[32m━━━━━━━━━━━━━━━━━━━━\u001b[0m\u001b[37m\u001b[0m \u001b[1m124s\u001b[0m 35ms/step - accuracy: 0.9502 - loss: 0.1350 - val_accuracy: 0.9499 - val_loss: 0.1327\n",
      "Epoch 59/100\n",
      "\u001b[1m3562/3562\u001b[0m \u001b[32m━━━━━━━━━━━━━━━━━━━━\u001b[0m\u001b[37m\u001b[0m \u001b[1m125s\u001b[0m 35ms/step - accuracy: 0.9508 - loss: 0.1335 - val_accuracy: 0.9486 - val_loss: 0.1390\n",
      "Epoch 60/100\n",
      "\u001b[1m3562/3562\u001b[0m \u001b[32m━━━━━━━━━━━━━━━━━━━━\u001b[0m\u001b[37m\u001b[0m \u001b[1m123s\u001b[0m 34ms/step - accuracy: 0.9510 - loss: 0.1326 - val_accuracy: 0.9514 - val_loss: 0.1364\n",
      "Epoch 61/100\n",
      "\u001b[1m3562/3562\u001b[0m \u001b[32m━━━━━━━━━━━━━━━━━━━━\u001b[0m\u001b[37m\u001b[0m \u001b[1m122s\u001b[0m 34ms/step - accuracy: 0.9508 - loss: 0.1332 - val_accuracy: 0.9508 - val_loss: 0.1344\n",
      "Epoch 62/100\n",
      "\u001b[1m3562/3562\u001b[0m \u001b[32m━━━━━━━━━━━━━━━━━━━━\u001b[0m\u001b[37m\u001b[0m \u001b[1m123s\u001b[0m 35ms/step - accuracy: 0.9507 - loss: 0.1330 - val_accuracy: 0.9506 - val_loss: 0.1324\n",
      "Epoch 63/100\n",
      "\u001b[1m3562/3562\u001b[0m \u001b[32m━━━━━━━━━━━━━━━━━━━━\u001b[0m\u001b[37m\u001b[0m \u001b[1m124s\u001b[0m 35ms/step - accuracy: 0.9513 - loss: 0.1325 - val_accuracy: 0.9529 - val_loss: 0.1311\n",
      "Epoch 64/100\n",
      "\u001b[1m3562/3562\u001b[0m \u001b[32m━━━━━━━━━━━━━━━━━━━━\u001b[0m\u001b[37m\u001b[0m \u001b[1m124s\u001b[0m 35ms/step - accuracy: 0.9512 - loss: 0.1312 - val_accuracy: 0.9520 - val_loss: 0.1291\n",
      "Epoch 65/100\n",
      "\u001b[1m3562/3562\u001b[0m \u001b[32m━━━━━━━━━━━━━━━━━━━━\u001b[0m\u001b[37m\u001b[0m \u001b[1m124s\u001b[0m 35ms/step - accuracy: 0.9514 - loss: 0.1311 - val_accuracy: 0.9502 - val_loss: 0.1418\n",
      "Epoch 66/100\n",
      "\u001b[1m3562/3562\u001b[0m \u001b[32m━━━━━━━━━━━━━━━━━━━━\u001b[0m\u001b[37m\u001b[0m \u001b[1m124s\u001b[0m 35ms/step - accuracy: 0.9518 - loss: 0.1305 - val_accuracy: 0.9493 - val_loss: 0.1336\n",
      "Epoch 67/100\n",
      "\u001b[1m3562/3562\u001b[0m \u001b[32m━━━━━━━━━━━━━━━━━━━━\u001b[0m\u001b[37m\u001b[0m \u001b[1m124s\u001b[0m 35ms/step - accuracy: 0.9514 - loss: 0.1310 - val_accuracy: 0.9542 - val_loss: 0.1264\n",
      "Epoch 68/100\n",
      "\u001b[1m3562/3562\u001b[0m \u001b[32m━━━━━━━━━━━━━━━━━━━━\u001b[0m\u001b[37m\u001b[0m \u001b[1m123s\u001b[0m 35ms/step - accuracy: 0.9515 - loss: 0.1308 - val_accuracy: 0.9436 - val_loss: 0.1486\n",
      "Epoch 69/100\n",
      "\u001b[1m3562/3562\u001b[0m \u001b[32m━━━━━━━━━━━━━━━━━━━━\u001b[0m\u001b[37m\u001b[0m \u001b[1m123s\u001b[0m 35ms/step - accuracy: 0.9520 - loss: 0.1298 - val_accuracy: 0.9536 - val_loss: 0.1274\n",
      "Epoch 70/100\n",
      "\u001b[1m3562/3562\u001b[0m \u001b[32m━━━━━━━━━━━━━━━━━━━━\u001b[0m\u001b[37m\u001b[0m \u001b[1m121s\u001b[0m 34ms/step - accuracy: 0.9519 - loss: 0.1300 - val_accuracy: 0.9519 - val_loss: 0.1376\n",
      "Epoch 71/100\n",
      "\u001b[1m3562/3562\u001b[0m \u001b[32m━━━━━━━━━━━━━━━━━━━━\u001b[0m\u001b[37m\u001b[0m \u001b[1m125s\u001b[0m 35ms/step - accuracy: 0.9516 - loss: 0.1312 - val_accuracy: 0.9523 - val_loss: 0.1323\n",
      "Epoch 72/100\n",
      "\u001b[1m3562/3562\u001b[0m \u001b[32m━━━━━━━━━━━━━━━━━━━━\u001b[0m\u001b[37m\u001b[0m \u001b[1m124s\u001b[0m 35ms/step - accuracy: 0.9518 - loss: 0.1295 - val_accuracy: 0.9537 - val_loss: 0.1284\n",
      "Epoch 73/100\n",
      "\u001b[1m3562/3562\u001b[0m \u001b[32m━━━━━━━━━━━━━━━━━━━━\u001b[0m\u001b[37m\u001b[0m \u001b[1m124s\u001b[0m 35ms/step - accuracy: 0.9523 - loss: 0.1290 - val_accuracy: 0.9474 - val_loss: 0.1306\n",
      "Epoch 74/100\n",
      "\u001b[1m3562/3562\u001b[0m \u001b[32m━━━━━━━━━━━━━━━━━━━━\u001b[0m\u001b[37m\u001b[0m \u001b[1m124s\u001b[0m 35ms/step - accuracy: 0.9526 - loss: 0.1274 - val_accuracy: 0.9507 - val_loss: 0.1295\n",
      "Epoch 75/100\n",
      "\u001b[1m3562/3562\u001b[0m \u001b[32m━━━━━━━━━━━━━━━━━━━━\u001b[0m\u001b[37m\u001b[0m \u001b[1m123s\u001b[0m 35ms/step - accuracy: 0.9520 - loss: 0.1292 - val_accuracy: 0.9500 - val_loss: 0.1317\n",
      "Epoch 76/100\n",
      "\u001b[1m3562/3562\u001b[0m \u001b[32m━━━━━━━━━━━━━━━━━━━━\u001b[0m\u001b[37m\u001b[0m \u001b[1m123s\u001b[0m 35ms/step - accuracy: 0.9528 - loss: 0.1268 - val_accuracy: 0.9553 - val_loss: 0.1261\n",
      "Epoch 77/100\n",
      "\u001b[1m3562/3562\u001b[0m \u001b[32m━━━━━━━━━━━━━━━━━━━━\u001b[0m\u001b[37m\u001b[0m \u001b[1m123s\u001b[0m 35ms/step - accuracy: 0.9528 - loss: 0.1274 - val_accuracy: 0.9539 - val_loss: 0.1278\n",
      "Epoch 78/100\n",
      "\u001b[1m3562/3562\u001b[0m \u001b[32m━━━━━━━━━━━━━━━━━━━━\u001b[0m\u001b[37m\u001b[0m \u001b[1m120s\u001b[0m 34ms/step - accuracy: 0.9526 - loss: 0.1272 - val_accuracy: 0.9523 - val_loss: 0.1294\n",
      "Epoch 79/100\n",
      "\u001b[1m3562/3562\u001b[0m \u001b[32m━━━━━━━━━━━━━━━━━━━━\u001b[0m\u001b[37m\u001b[0m \u001b[1m124s\u001b[0m 35ms/step - accuracy: 0.9526 - loss: 0.1269 - val_accuracy: 0.9533 - val_loss: 0.1248\n",
      "Epoch 80/100\n",
      "\u001b[1m3562/3562\u001b[0m \u001b[32m━━━━━━━━━━━━━━━━━━━━\u001b[0m\u001b[37m\u001b[0m \u001b[1m123s\u001b[0m 34ms/step - accuracy: 0.9526 - loss: 0.1261 - val_accuracy: 0.9542 - val_loss: 0.1260\n",
      "Epoch 81/100\n",
      "\u001b[1m3562/3562\u001b[0m \u001b[32m━━━━━━━━━━━━━━━━━━━━\u001b[0m\u001b[37m\u001b[0m \u001b[1m123s\u001b[0m 35ms/step - accuracy: 0.9527 - loss: 0.1270 - val_accuracy: 0.9524 - val_loss: 0.1319\n",
      "Epoch 82/100\n",
      "\u001b[1m3562/3562\u001b[0m \u001b[32m━━━━━━━━━━━━━━━━━━━━\u001b[0m\u001b[37m\u001b[0m \u001b[1m122s\u001b[0m 34ms/step - accuracy: 0.9533 - loss: 0.1260 - val_accuracy: 0.9514 - val_loss: 0.1396\n",
      "Epoch 83/100\n",
      "\u001b[1m3562/3562\u001b[0m \u001b[32m━━━━━━━━━━━━━━━━━━━━\u001b[0m\u001b[37m\u001b[0m \u001b[1m122s\u001b[0m 34ms/step - accuracy: 0.9533 - loss: 0.1265 - val_accuracy: 0.9552 - val_loss: 0.1245\n",
      "Epoch 84/100\n",
      "\u001b[1m3562/3562\u001b[0m \u001b[32m━━━━━━━━━━━━━━━━━━━━\u001b[0m\u001b[37m\u001b[0m \u001b[1m142s\u001b[0m 34ms/step - accuracy: 0.9532 - loss: 0.1262 - val_accuracy: 0.9559 - val_loss: 0.1256\n",
      "Epoch 85/100\n",
      "\u001b[1m3562/3562\u001b[0m \u001b[32m━━━━━━━━━━━━━━━━━━━━\u001b[0m\u001b[37m\u001b[0m \u001b[1m122s\u001b[0m 34ms/step - accuracy: 0.9535 - loss: 0.1258 - val_accuracy: 0.9548 - val_loss: 0.1246\n",
      "Epoch 86/100\n",
      "\u001b[1m3562/3562\u001b[0m \u001b[32m━━━━━━━━━━━━━━━━━━━━\u001b[0m\u001b[37m\u001b[0m \u001b[1m119s\u001b[0m 33ms/step - accuracy: 0.9542 - loss: 0.1235 - val_accuracy: 0.9548 - val_loss: 0.1232\n",
      "Epoch 87/100\n",
      "\u001b[1m3562/3562\u001b[0m \u001b[32m━━━━━━━━━━━━━━━━━━━━\u001b[0m\u001b[37m\u001b[0m \u001b[1m121s\u001b[0m 34ms/step - accuracy: 0.9538 - loss: 0.1246 - val_accuracy: 0.9528 - val_loss: 0.1330\n",
      "Epoch 88/100\n",
      "\u001b[1m3562/3562\u001b[0m \u001b[32m━━━━━━━━━━━━━━━━━━━━\u001b[0m\u001b[37m\u001b[0m \u001b[1m122s\u001b[0m 34ms/step - accuracy: 0.9542 - loss: 0.1235 - val_accuracy: 0.9548 - val_loss: 0.1256\n",
      "Epoch 89/100\n",
      "\u001b[1m3562/3562\u001b[0m \u001b[32m━━━━━━━━━━━━━━━━━━━━\u001b[0m\u001b[37m\u001b[0m \u001b[1m121s\u001b[0m 34ms/step - accuracy: 0.9547 - loss: 0.1230 - val_accuracy: 0.9418 - val_loss: 0.1354\n",
      "Epoch 90/100\n",
      "\u001b[1m3562/3562\u001b[0m \u001b[32m━━━━━━━━━━━━━━━━━━━━\u001b[0m\u001b[37m\u001b[0m \u001b[1m121s\u001b[0m 34ms/step - accuracy: 0.9540 - loss: 0.1235 - val_accuracy: 0.9550 - val_loss: 0.1208\n",
      "Epoch 91/100\n",
      "\u001b[1m3562/3562\u001b[0m \u001b[32m━━━━━━━━━━━━━━━━━━━━\u001b[0m\u001b[37m\u001b[0m \u001b[1m122s\u001b[0m 34ms/step - accuracy: 0.9546 - loss: 0.1223 - val_accuracy: 0.9564 - val_loss: 0.1204\n",
      "Epoch 92/100\n",
      "\u001b[1m3562/3562\u001b[0m \u001b[32m━━━━━━━━━━━━━━━━━━━━\u001b[0m\u001b[37m\u001b[0m \u001b[1m119s\u001b[0m 33ms/step - accuracy: 0.9549 - loss: 0.1219 - val_accuracy: 0.9583 - val_loss: 0.1221\n",
      "Epoch 93/100\n",
      "\u001b[1m3562/3562\u001b[0m \u001b[32m━━━━━━━━━━━━━━━━━━━━\u001b[0m\u001b[37m\u001b[0m \u001b[1m121s\u001b[0m 34ms/step - accuracy: 0.9547 - loss: 0.1226 - val_accuracy: 0.9541 - val_loss: 0.1244\n",
      "Epoch 94/100\n",
      "\u001b[1m3562/3562\u001b[0m \u001b[32m━━━━━━━━━━━━━━━━━━━━\u001b[0m\u001b[37m\u001b[0m \u001b[1m122s\u001b[0m 34ms/step - accuracy: 0.9551 - loss: 0.1217 - val_accuracy: 0.9547 - val_loss: 0.1195\n",
      "Epoch 95/100\n",
      "\u001b[1m3562/3562\u001b[0m \u001b[32m━━━━━━━━━━━━━━━━━━━━\u001b[0m\u001b[37m\u001b[0m \u001b[1m121s\u001b[0m 34ms/step - accuracy: 0.9557 - loss: 0.1199 - val_accuracy: 0.9600 - val_loss: 0.1202\n",
      "Epoch 96/100\n",
      "\u001b[1m3562/3562\u001b[0m \u001b[32m━━━━━━━━━━━━━━━━━━━━\u001b[0m\u001b[37m\u001b[0m \u001b[1m122s\u001b[0m 34ms/step - accuracy: 0.9556 - loss: 0.1211 - val_accuracy: 0.9596 - val_loss: 0.1211\n",
      "Epoch 97/100\n",
      "\u001b[1m3562/3562\u001b[0m \u001b[32m━━━━━━━━━━━━━━━━━━━━\u001b[0m\u001b[37m\u001b[0m \u001b[1m121s\u001b[0m 34ms/step - accuracy: 0.9558 - loss: 0.1200 - val_accuracy: 0.9541 - val_loss: 0.1311\n",
      "Epoch 98/100\n",
      "\u001b[1m3562/3562\u001b[0m \u001b[32m━━━━━━━━━━━━━━━━━━━━\u001b[0m\u001b[37m\u001b[0m \u001b[1m119s\u001b[0m 33ms/step - accuracy: 0.9553 - loss: 0.1215 - val_accuracy: 0.9578 - val_loss: 0.1184\n",
      "Epoch 99/100\n",
      "\u001b[1m3562/3562\u001b[0m \u001b[32m━━━━━━━━━━━━━━━━━━━━\u001b[0m\u001b[37m\u001b[0m \u001b[1m121s\u001b[0m 34ms/step - accuracy: 0.9563 - loss: 0.1189 - val_accuracy: 0.9584 - val_loss: 0.1165\n",
      "Epoch 100/100\n",
      "\u001b[1m3562/3562\u001b[0m \u001b[32m━━━━━━━━━━━━━━━━━━━━\u001b[0m\u001b[37m\u001b[0m \u001b[1m123s\u001b[0m 34ms/step - accuracy: 0.9565 - loss: 0.1189 - val_accuracy: 0.9561 - val_loss: 0.1212\n"
     ]
    }
   ],
   "source": [
    "history = model.fit(x_train_dl ,y_train_dl, verbose=1, epochs=100, batch_size=256,validation_data=(x_val_dl,y_val_dl),callbacks=[early_stopping])"
   ]
  },
  {
   "cell_type": "code",
   "execution_count": null,
   "id": "73cea753",
   "metadata": {},
   "outputs": [],
   "source": [
    "from sklearn.metrics import confusion_matrix\n",
    "from sklearn.metrics import classification_report\n",
    "from matplotlib import pyplot"
   ]
  },
  {
   "cell_type": "code",
   "execution_count": null,
   "id": "78251b06",
   "metadata": {},
   "outputs": [
    {
     "name": "stdout",
     "output_type": "stream",
     "text": [
      "Baseline: 94.43% (1.54%)\n"
     ]
    }
   ],
   "source": [
    "mean = sum(history.history['accuracy']) / len(history.history['accuracy'])\n",
    "variance = sum([((x - mean) ** 2) for x in history.history['accuracy']]) / len(history.history['accuracy'])\n",
    "res = variance ** 0.5\n",
    "print(\"Baseline: %.2f%% (%.2f%%)\" % (mean*100, res*100))"
   ]
  },
  {
   "cell_type": "code",
   "execution_count": null,
   "id": "af7411df",
   "metadata": {},
   "outputs": [
    {
     "name": "stdout",
     "output_type": "stream",
     "text": [
      "\u001b[1m9499/9499\u001b[0m \u001b[32m━━━━━━━━━━━━━━━━━━━━\u001b[0m\u001b[37m\u001b[0m \u001b[1m163s\u001b[0m 17ms/step\n"
     ]
    },
    {
     "name": "stderr",
     "output_type": "stream",
     "text": [
      "/opt/conda/lib/python3.10/site-packages/sklearn/metrics/_classification.py:1344: UndefinedMetricWarning: Precision and F-score are ill-defined and being set to 0.0 in labels with no predicted samples. Use `zero_division` parameter to control this behavior.\n",
      "  _warn_prf(average, modifier, msg_start, len(result))\n"
     ]
    },
    {
     "name": "stdout",
     "output_type": "stream",
     "text": [
      "              precision    recall  f1-score   support\n",
      "\n",
      "           0       0.99      0.97      0.98    100316\n",
      "           1       0.99      1.00      0.99       593\n",
      "           2       0.98      0.97      0.98       494\n",
      "           3       0.99      0.98      0.99    158629\n",
      "           4       0.00      0.00      0.00        30\n",
      "           5       0.80      0.69      0.74       160\n",
      "           6       0.60      0.77      0.68      4638\n",
      "           7       0.90      0.93      0.92     26316\n",
      "           8       0.55      0.32      0.41      2817\n",
      "           9       0.66      0.82      0.73      9830\n",
      "          10       0.65      0.50      0.56       129\n",
      "\n",
      "    accuracy                           0.96    303952\n",
      "   macro avg       0.74      0.72      0.72    303952\n",
      "weighted avg       0.96      0.96      0.96    303952\n",
      "\n"
     ]
    },
    {
     "name": "stderr",
     "output_type": "stream",
     "text": [
      "/opt/conda/lib/python3.10/site-packages/sklearn/metrics/_classification.py:1344: UndefinedMetricWarning: Precision and F-score are ill-defined and being set to 0.0 in labels with no predicted samples. Use `zero_division` parameter to control this behavior.\n",
      "  _warn_prf(average, modifier, msg_start, len(result))\n",
      "/opt/conda/lib/python3.10/site-packages/sklearn/metrics/_classification.py:1344: UndefinedMetricWarning: Precision and F-score are ill-defined and being set to 0.0 in labels with no predicted samples. Use `zero_division` parameter to control this behavior.\n",
      "  _warn_prf(average, modifier, msg_start, len(result))\n"
     ]
    }
   ],
   "source": [
    "y_pred = model.predict(x_test_dl)\n",
    "y_pred_class = y_pred.argmax(axis=-1)\n",
    "y_test_class = np.argmax(y_test_dl, axis=1)\n",
    "\n",
    "print(classification_report(y_test_class, y_pred_class))"
   ]
  },
  {
   "cell_type": "code",
   "execution_count": null,
   "id": "1b901431",
   "metadata": {},
   "outputs": [
    {
     "data": {
      "image/png": "[encoded data removed]",
      "text/plain": [
       "<Figure size 1200x500 with 2 Axes>"
      ]
     },
     "metadata": {},
     "output_type": "display_data"
    }
   ],
   "source": [
    "plot_history(history)"
   ]
  },
  {
   "cell_type": "code",
   "execution_count": null,
   "id": "8a6071ae",
   "metadata": {},
   "outputs": [
    {
     "data": {
      "image/png": "[encoded data removed]",
      "text/plain": [
       "<Figure size 640x480 with 1 Axes>"
      ]
     },
     "metadata": {},
     "output_type": "display_data"
    }
   ],
   "source": [
    "pyplot.plot(history.history['accuracy'])\n",
    "pyplot.savefig('DL_SRNN_Accuracy_EpochVsAccuracy.jpg',dpi=900)\n",
    "pyplot.show()"
   ]
  },
  {
   "cell_type": "code",
   "execution_count": null,
   "id": "8c65ed87",
   "metadata": {},
   "outputs": [
    {
     "name": "stdout",
     "output_type": "stream",
     "text": [
      "\u001b[1m9499/9499\u001b[0m \u001b[32m━━━━━━━━━━━━━━━━━━━━\u001b[0m\u001b[37m\u001b[0m \u001b[1m142s\u001b[0m 15ms/step - accuracy: 0.9574 - loss: 0.1179\n",
      "Test Accuracy: 0.9577630758285522\n"
     ]
    }
   ],
   "source": [
    "loss, accuracy = model.evaluate(x_test_dl, y_test_dl)\n",
    "print('Test Accuracy:', accuracy)"
   ]
  },
  {
   "cell_type": "markdown",
   "id": "325dd88e",
   "metadata": {},
   "source": [
    "# 5. Model :CNN"
   ]
  },
  {
   "cell_type": "markdown",
   "id": "321647da",
   "metadata": {},
   "source": [
    "## 5.1. Model Development"
   ]
  },
  {
   "cell_type": "code",
   "execution_count": null,
   "id": "74236c2e",
   "metadata": {},
   "outputs": [],
   "source": [
    "lr_schedule = tf.keras.optimizers.schedules.ExponentialDecay(\n",
    "    initial_learning_rate=0.0005,\n",
    "    decay_steps=10000,\n",
    "    decay_rate=0.96,\n",
    "    staircase=True\n",
    ")"
   ]
  },
  {
   "cell_type": "code",
   "execution_count": null,
   "id": "d200f7b0",
   "metadata": {},
   "outputs": [],
   "source": [
    "early_stopping = EarlyStopping(monitor='val_loss', patience=10, restore_best_weights=True)"
   ]
  },
  {
   "cell_type": "code",
   "execution_count": null,
   "id": "4e3b002e",
   "metadata": {},
   "outputs": [],
   "source": [
    "input_feature=x_train_dl.shape[1]\n",
    "output_classes=len(y_train_dl[0])"
   ]
  },
  {
   "cell_type": "code",
   "execution_count": null,
   "id": "71010e62",
   "metadata": {},
   "outputs": [],
   "source": [
    "def CNN_Model():\n",
    "    model = Sequential([\n",
    "        Input(shape=(input_feature,1)),\n",
    "        Dense(128, activation='relu'),\n",
    "        Dense(64, activation = 'relu'),\n",
    "        Dense(32, activation = 'relu'),\n",
    "        Dense(16, activation = 'relu'),\n",
    "        Flatten(),\n",
    "        Dense(output_classes, activation=\"softmax\")\n",
    "    ])\n",
    "    model.compile(loss='categorical_crossentropy', optimizer='adam', metrics=['accuracy'])\n",
    "    return model"
   ]
  },
  {
   "cell_type": "code",
   "execution_count": null,
   "id": "227f38f2",
   "metadata": {},
   "outputs": [
    {
     "data": {
      "text/html": [
       "<pre style=\"white-space:pre;overflow-x:auto;line-height:normal;font-family:Menlo,'DejaVu Sans Mono',consolas,'Courier New',monospace\"><span style=\"font-weight: bold\">Model: \"sequential_3\"</span>\n",
       "</pre>\n"
      ],
      "text/plain": [
       "\u001b[1mModel: \"sequential_3\"\u001b[0m\n"
      ]
     },
     "metadata": {},
     "output_type": "display_data"
    },
    {
     "data": {
      "text/html": [
       "<pre style=\"white-space:pre;overflow-x:auto;line-height:normal;font-family:Menlo,'DejaVu Sans Mono',consolas,'Courier New',monospace\">┏━━━━━━━━━━━━━━━━━━━━━━━━━━━━━━━━━┳━━━━━━━━━━━━━━━━━━━━━━━━┳━━━━━━━━━━━━━━━┓\n",
       "┃<span style=\"font-weight: bold\"> Layer (type)                    </span>┃<span style=\"font-weight: bold\"> Output Shape           </span>┃<span style=\"font-weight: bold\">       Param # </span>┃\n",
       "┡━━━━━━━━━━━━━━━━━━━━━━━━━━━━━━━━━╇━━━━━━━━━━━━━━━━━━━━━━━━╇━━━━━━━━━━━━━━━┩\n",
       "│ dense_3 (<span style=\"color: #0087ff; text-decoration-color: #0087ff\">Dense</span>)                 │ (<span style=\"color: #00d7ff; text-decoration-color: #00d7ff\">None</span>, <span style=\"color: #00af00; text-decoration-color: #00af00\">43</span>, <span style=\"color: #00af00; text-decoration-color: #00af00\">128</span>)        │           <span style=\"color: #00af00; text-decoration-color: #00af00\">256</span> │\n",
       "├─────────────────────────────────┼────────────────────────┼───────────────┤\n",
       "│ dense_4 (<span style=\"color: #0087ff; text-decoration-color: #0087ff\">Dense</span>)                 │ (<span style=\"color: #00d7ff; text-decoration-color: #00d7ff\">None</span>, <span style=\"color: #00af00; text-decoration-color: #00af00\">43</span>, <span style=\"color: #00af00; text-decoration-color: #00af00\">64</span>)         │         <span style=\"color: #00af00; text-decoration-color: #00af00\">8,256</span> │\n",
       "├─────────────────────────────────┼────────────────────────┼───────────────┤\n",
       "│ dense_5 (<span style=\"color: #0087ff; text-decoration-color: #0087ff\">Dense</span>)                 │ (<span style=\"color: #00d7ff; text-decoration-color: #00d7ff\">None</span>, <span style=\"color: #00af00; text-decoration-color: #00af00\">43</span>, <span style=\"color: #00af00; text-decoration-color: #00af00\">32</span>)         │         <span style=\"color: #00af00; text-decoration-color: #00af00\">2,080</span> │\n",
       "├─────────────────────────────────┼────────────────────────┼───────────────┤\n",
       "│ dense_6 (<span style=\"color: #0087ff; text-decoration-color: #0087ff\">Dense</span>)                 │ (<span style=\"color: #00d7ff; text-decoration-color: #00d7ff\">None</span>, <span style=\"color: #00af00; text-decoration-color: #00af00\">43</span>, <span style=\"color: #00af00; text-decoration-color: #00af00\">16</span>)         │           <span style=\"color: #00af00; text-decoration-color: #00af00\">528</span> │\n",
       "├─────────────────────────────────┼────────────────────────┼───────────────┤\n",
       "│ flatten (<span style=\"color: #0087ff; text-decoration-color: #0087ff\">Flatten</span>)               │ (<span style=\"color: #00d7ff; text-decoration-color: #00d7ff\">None</span>, <span style=\"color: #00af00; text-decoration-color: #00af00\">688</span>)            │             <span style=\"color: #00af00; text-decoration-color: #00af00\">0</span> │\n",
       "├─────────────────────────────────┼────────────────────────┼───────────────┤\n",
       "│ dense_7 (<span style=\"color: #0087ff; text-decoration-color: #0087ff\">Dense</span>)                 │ (<span style=\"color: #00d7ff; text-decoration-color: #00d7ff\">None</span>, <span style=\"color: #00af00; text-decoration-color: #00af00\">11</span>)             │         <span style=\"color: #00af00; text-decoration-color: #00af00\">7,579</span> │\n",
       "└─────────────────────────────────┴────────────────────────┴───────────────┘\n",
       "</pre>\n"
      ],
      "text/plain": [
       "┏━━━━━━━━━━━━━━━━━━━━━━━━━━━━━━━━━┳━━━━━━━━━━━━━━━━━━━━━━━━┳━━━━━━━━━━━━━━━┓\n",
       "┃\u001b[1m \u001b[0m\u001b[1mLayer (type)                   \u001b[0m\u001b[1m \u001b[0m┃\u001b[1m \u001b[0m\u001b[1mOutput Shape          \u001b[0m\u001b[1m \u001b[0m┃\u001b[1m \u001b[0m\u001b[1m      Param #\u001b[0m\u001b[1m \u001b[0m┃\n",
       "┡━━━━━━━━━━━━━━━━━━━━━━━━━━━━━━━━━╇━━━━━━━━━━━━━━━━━━━━━━━━╇━━━━━━━━━━━━━━━┩\n",
       "│ dense_3 (\u001b[38;5;33mDense\u001b[0m)                 │ (\u001b[38;5;45mNone\u001b[0m, \u001b[38;5;34m43\u001b[0m, \u001b[38;5;34m128\u001b[0m)        │           \u001b[38;5;34m256\u001b[0m │\n",
       "├─────────────────────────────────┼────────────────────────┼───────────────┤\n",
       "│ dense_4 (\u001b[38;5;33mDense\u001b[0m)                 │ (\u001b[38;5;45mNone\u001b[0m, \u001b[38;5;34m43\u001b[0m, \u001b[38;5;34m64\u001b[0m)         │         \u001b[38;5;34m8,256\u001b[0m │\n",
       "├─────────────────────────────────┼────────────────────────┼───────────────┤\n",
       "│ dense_5 (\u001b[38;5;33mDense\u001b[0m)                 │ (\u001b[38;5;45mNone\u001b[0m, \u001b[38;5;34m43\u001b[0m, \u001b[38;5;34m32\u001b[0m)         │         \u001b[38;5;34m2,080\u001b[0m │\n",
       "├─────────────────────────────────┼────────────────────────┼───────────────┤\n",
       "│ dense_6 (\u001b[38;5;33mDense\u001b[0m)                 │ (\u001b[38;5;45mNone\u001b[0m, \u001b[38;5;34m43\u001b[0m, \u001b[38;5;34m16\u001b[0m)         │           \u001b[38;5;34m528\u001b[0m │\n",
       "├─────────────────────────────────┼────────────────────────┼───────────────┤\n",
       "│ flatten (\u001b[38;5;33mFlatten\u001b[0m)               │ (\u001b[38;5;45mNone\u001b[0m, \u001b[38;5;34m688\u001b[0m)            │             \u001b[38;5;34m0\u001b[0m │\n",
       "├─────────────────────────────────┼────────────────────────┼───────────────┤\n",
       "│ dense_7 (\u001b[38;5;33mDense\u001b[0m)                 │ (\u001b[38;5;45mNone\u001b[0m, \u001b[38;5;34m11\u001b[0m)             │         \u001b[38;5;34m7,579\u001b[0m │\n",
       "└─────────────────────────────────┴────────────────────────┴───────────────┘\n"
      ]
     },
     "metadata": {},
     "output_type": "display_data"
    },
    {
     "data": {
      "text/html": [
       "<pre style=\"white-space:pre;overflow-x:auto;line-height:normal;font-family:Menlo,'DejaVu Sans Mono',consolas,'Courier New',monospace\"><span style=\"font-weight: bold\"> Total params: </span><span style=\"color: #00af00; text-decoration-color: #00af00\">18,699</span> (73.04 KB)\n",
       "</pre>\n"
      ],
      "text/plain": [
       "\u001b[1m Total params: \u001b[0m\u001b[38;5;34m18,699\u001b[0m (73.04 KB)\n"
      ]
     },
     "metadata": {},
     "output_type": "display_data"
    },
    {
     "data": {
      "text/html": [
       "<pre style=\"white-space:pre;overflow-x:auto;line-height:normal;font-family:Menlo,'DejaVu Sans Mono',consolas,'Courier New',monospace\"><span style=\"font-weight: bold\"> Trainable params: </span><span style=\"color: #00af00; text-decoration-color: #00af00\">18,699</span> (73.04 KB)\n",
       "</pre>\n"
      ],
      "text/plain": [
       "\u001b[1m Trainable params: \u001b[0m\u001b[38;5;34m18,699\u001b[0m (73.04 KB)\n"
      ]
     },
     "metadata": {},
     "output_type": "display_data"
    },
    {
     "data": {
      "text/html": [
       "<pre style=\"white-space:pre;overflow-x:auto;line-height:normal;font-family:Menlo,'DejaVu Sans Mono',consolas,'Courier New',monospace\"><span style=\"font-weight: bold\"> Non-trainable params: </span><span style=\"color: #00af00; text-decoration-color: #00af00\">0</span> (0.00 B)\n",
       "</pre>\n"
      ],
      "text/plain": [
       "\u001b[1m Non-trainable params: \u001b[0m\u001b[38;5;34m0\u001b[0m (0.00 B)\n"
      ]
     },
     "metadata": {},
     "output_type": "display_data"
    }
   ],
   "source": [
    "with strategy.scope():\n",
    "    optimizer = tf.keras.optimizers.Adam(learning_rate=lr_schedule)\n",
    "    model = CNN_Model()\n",
    "model.summary()"
   ]
  },
  {
   "cell_type": "markdown",
   "id": "eb943ce9",
   "metadata": {},
   "source": [
    "## 5.2. Model Training"
   ]
  },
  {
   "cell_type": "code",
   "execution_count": null,
   "id": "50c82c83",
   "metadata": {},
   "outputs": [
    {
     "name": "stdout",
     "output_type": "stream",
     "text": [
      "Null/NaN values per column:\n",
      " IPV4_SRC_ADDR                  0\n",
      "L4_SRC_PORT                    0\n",
      "IPV4_DST_ADDR                  0\n",
      "L4_DST_PORT                    0\n",
      "PROTOCOL                       0\n",
      "L7_PROTO                       0\n",
      "IN_BYTES                       0\n",
      "IN_PKTS                        0\n",
      "OUT_BYTES                      0\n",
      "OUT_PKTS                       0\n",
      "TCP_FLAGS                      0\n",
      "CLIENT_TCP_FLAGS               0\n",
      "SERVER_TCP_FLAGS               0\n",
      "FLOW_DURATION_MILLISECONDS     0\n",
      "DURATION_IN                    0\n",
      "DURATION_OUT                   0\n",
      "MIN_TTL                        0\n",
      "MAX_TTL                        0\n",
      "LONGEST_FLOW_PKT               0\n",
      "SHORTEST_FLOW_PKT              0\n",
      "MIN_IP_PKT_LEN                 0\n",
      "MAX_IP_PKT_LEN                 0\n",
      "SRC_TO_DST_SECOND_BYTES        0\n",
      "DST_TO_SRC_SECOND_BYTES        0\n",
      "RETRANSMITTED_IN_BYTES         0\n",
      "RETRANSMITTED_IN_PKTS          0\n",
      "RETRANSMITTED_OUT_BYTES        0\n",
      "RETRANSMITTED_OUT_PKTS         0\n",
      "SRC_TO_DST_AVG_THROUGHPUT      0\n",
      "DST_TO_SRC_AVG_THROUGHPUT      0\n",
      "NUM_PKTS_UP_TO_128_BYTES       0\n",
      "NUM_PKTS_128_TO_256_BYTES      0\n",
      "NUM_PKTS_256_TO_512_BYTES      0\n",
      "NUM_PKTS_512_TO_1024_BYTES     0\n",
      "NUM_PKTS_1024_TO_1514_BYTES    0\n",
      "TCP_WIN_MAX_IN                 0\n",
      "TCP_WIN_MAX_OUT                0\n",
      "ICMP_TYPE                      0\n",
      "ICMP_IPV4_TYPE                 0\n",
      "DNS_QUERY_ID                   0\n",
      "DNS_QUERY_TYPE                 0\n",
      "DNS_TTL_ANSWER                 0\n",
      "FTP_COMMAND_RET_CODE           0\n",
      "Label                          0\n",
      "Attack                         0\n",
      "Dataset                        0\n",
      "Attack_Class                   0\n",
      "dtype: int64\n",
      "\n",
      "NaN values per column:\n",
      " IPV4_SRC_ADDR                  0\n",
      "L4_SRC_PORT                    0\n",
      "IPV4_DST_ADDR                  0\n",
      "L4_DST_PORT                    0\n",
      "PROTOCOL                       0\n",
      "L7_PROTO                       0\n",
      "IN_BYTES                       0\n",
      "IN_PKTS                        0\n",
      "OUT_BYTES                      0\n",
      "OUT_PKTS                       0\n",
      "TCP_FLAGS                      0\n",
      "CLIENT_TCP_FLAGS               0\n",
      "SERVER_TCP_FLAGS               0\n",
      "FLOW_DURATION_MILLISECONDS     0\n",
      "DURATION_IN                    0\n",
      "DURATION_OUT                   0\n",
      "MIN_TTL                        0\n",
      "MAX_TTL                        0\n",
      "LONGEST_FLOW_PKT               0\n",
      "SHORTEST_FLOW_PKT              0\n",
      "MIN_IP_PKT_LEN                 0\n",
      "MAX_IP_PKT_LEN                 0\n",
      "SRC_TO_DST_SECOND_BYTES        0\n",
      "DST_TO_SRC_SECOND_BYTES        0\n",
      "RETRANSMITTED_IN_BYTES         0\n",
      "RETRANSMITTED_IN_PKTS          0\n",
      "RETRANSMITTED_OUT_BYTES        0\n",
      "RETRANSMITTED_OUT_PKTS         0\n",
      "SRC_TO_DST_AVG_THROUGHPUT      0\n",
      "DST_TO_SRC_AVG_THROUGHPUT      0\n",
      "NUM_PKTS_UP_TO_128_BYTES       0\n",
      "NUM_PKTS_128_TO_256_BYTES      0\n",
      "NUM_PKTS_256_TO_512_BYTES      0\n",
      "NUM_PKTS_512_TO_1024_BYTES     0\n",
      "NUM_PKTS_1024_TO_1514_BYTES    0\n",
      "TCP_WIN_MAX_IN                 0\n",
      "TCP_WIN_MAX_OUT                0\n",
      "ICMP_TYPE                      0\n",
      "ICMP_IPV4_TYPE                 0\n",
      "DNS_QUERY_ID                   0\n",
      "DNS_QUERY_TYPE                 0\n",
      "DNS_TTL_ANSWER                 0\n",
      "FTP_COMMAND_RET_CODE           0\n",
      "Label                          0\n",
      "Attack                         0\n",
      "Dataset                        0\n",
      "Attack_Class                   0\n",
      "dtype: int64\n"
     ]
    }
   ],
   "source": [
    "\n",
    "# Assuming df1 is your DataFrame\n",
    "null_counts = df1.isnull().sum()\n",
    "print(\"Null/NaN values per column:\\n\", null_counts)\n",
    "\n",
    "# To check for NaN values only\n",
    "nan_counts = df1.isna().sum()\n",
    "print(\"\\nNaN values per column:\\n\", nan_counts)"
   ]
  },
  {
   "cell_type": "code",
   "execution_count": null,
   "id": "fb713b09",
   "metadata": {},
   "outputs": [],
   "source": []
  },
  {
   "cell_type": "code",
   "execution_count": null,
   "id": "f410d0e8",
   "metadata": {},
   "outputs": [
    {
     "name": "stdout",
     "output_type": "stream",
     "text": [
      "Epoch 1/100\n",
      "\u001b[1m3562/3562\u001b[0m \u001b[32m━━━━━━━━━━━━━━━━━━━━\u001b[0m\u001b[37m\u001b[0m \u001b[1m21s\u001b[0m 5ms/step - accuracy: 0.8540 - loss: 0.4469 - val_accuracy: 0.9417 - val_loss: 0.1887\n",
      "Epoch 2/100\n",
      "\u001b[1m3562/3562\u001b[0m \u001b[32m━━━━━━━━━━━━━━━━━━━━\u001b[0m\u001b[37m\u001b[0m \u001b[1m19s\u001b[0m 5ms/step - accuracy: 0.9373 - loss: 0.1855 - val_accuracy: 0.9387 - val_loss: 0.1751\n",
      "Epoch 3/100\n",
      "\u001b[1m3562/3562\u001b[0m \u001b[32m━━━━━━━━━━━━━━━━━━━━\u001b[0m\u001b[37m\u001b[0m \u001b[1m19s\u001b[0m 5ms/step - accuracy: 0.9440 - loss: 0.1665 - val_accuracy: 0.9414 - val_loss: 0.1580\n",
      "Epoch 4/100\n",
      "\u001b[1m3562/3562\u001b[0m \u001b[32m━━━━━━━━━━━━━━━━━━━━\u001b[0m\u001b[37m\u001b[0m \u001b[1m19s\u001b[0m 5ms/step - accuracy: 0.9493 - loss: 0.1531 - val_accuracy: 0.9548 - val_loss: 0.1464\n",
      "Epoch 5/100\n",
      "\u001b[1m3562/3562\u001b[0m \u001b[32m━━━━━━━━━━━━━━━━━━━━\u001b[0m\u001b[37m\u001b[0m \u001b[1m19s\u001b[0m 5ms/step - accuracy: 0.9530 - loss: 0.1445 - val_accuracy: 0.9533 - val_loss: 0.1397\n",
      "Epoch 6/100\n",
      "\u001b[1m3562/3562\u001b[0m \u001b[32m━━━━━━━━━━━━━━━━━━━━\u001b[0m\u001b[37m\u001b[0m \u001b[1m19s\u001b[0m 5ms/step - accuracy: 0.9546 - loss: 0.1377 - val_accuracy: 0.9585 - val_loss: 0.1323\n",
      "Epoch 7/100\n",
      "\u001b[1m3562/3562\u001b[0m \u001b[32m━━━━━━━━━━━━━━━━━━━━\u001b[0m\u001b[37m\u001b[0m \u001b[1m22s\u001b[0m 6ms/step - accuracy: 0.9556 - loss: 0.1342 - val_accuracy: 0.9579 - val_loss: 0.1270\n",
      "Epoch 8/100\n",
      "\u001b[1m3562/3562\u001b[0m \u001b[32m━━━━━━━━━━━━━━━━━━━━\u001b[0m\u001b[37m\u001b[0m \u001b[1m20s\u001b[0m 6ms/step - accuracy: 0.9570 - loss: 0.1293 - val_accuracy: 0.9561 - val_loss: 0.1330\n",
      "Epoch 9/100\n",
      "\u001b[1m3562/3562\u001b[0m \u001b[32m━━━━━━━━━━━━━━━━━━━━\u001b[0m\u001b[37m\u001b[0m \u001b[1m19s\u001b[0m 5ms/step - accuracy: 0.9583 - loss: 0.1261 - val_accuracy: 0.9594 - val_loss: 0.1234\n",
      "Epoch 10/100\n",
      "\u001b[1m3562/3562\u001b[0m \u001b[32m━━━━━━━━━━━━━━━━━━━━\u001b[0m\u001b[37m\u001b[0m \u001b[1m19s\u001b[0m 5ms/step - accuracy: 0.9594 - loss: 0.1222 - val_accuracy: 0.9610 - val_loss: 0.1191\n",
      "Epoch 11/100\n",
      "\u001b[1m3562/3562\u001b[0m \u001b[32m━━━━━━━━━━━━━━━━━━━━\u001b[0m\u001b[37m\u001b[0m \u001b[1m19s\u001b[0m 5ms/step - accuracy: 0.9596 - loss: 0.1224 - val_accuracy: 0.9623 - val_loss: 0.1187\n",
      "Epoch 12/100\n",
      "\u001b[1m3562/3562\u001b[0m \u001b[32m━━━━━━━━━━━━━━━━━━━━\u001b[0m\u001b[37m\u001b[0m \u001b[1m19s\u001b[0m 5ms/step - accuracy: 0.9608 - loss: 0.1194 - val_accuracy: 0.9596 - val_loss: 0.1259\n",
      "Epoch 13/100\n",
      "\u001b[1m3562/3562\u001b[0m \u001b[32m━━━━━━━━━━━━━━━━━━━━\u001b[0m\u001b[37m\u001b[0m \u001b[1m19s\u001b[0m 5ms/step - accuracy: 0.9615 - loss: 0.1164 - val_accuracy: 0.9648 - val_loss: 0.1131\n",
      "Epoch 14/100\n",
      "\u001b[1m3562/3562\u001b[0m \u001b[32m━━━━━━━━━━━━━━━━━━━━\u001b[0m\u001b[37m\u001b[0m \u001b[1m21s\u001b[0m 6ms/step - accuracy: 0.9623 - loss: 0.1148 - val_accuracy: 0.9599 - val_loss: 0.1139\n",
      "Epoch 15/100\n",
      "\u001b[1m3562/3562\u001b[0m \u001b[32m━━━━━━━━━━━━━━━━━━━━\u001b[0m\u001b[37m\u001b[0m \u001b[1m21s\u001b[0m 6ms/step - accuracy: 0.9636 - loss: 0.1112 - val_accuracy: 0.9637 - val_loss: 0.1052\n",
      "Epoch 16/100\n",
      "\u001b[1m3562/3562\u001b[0m \u001b[32m━━━━━━━━━━━━━━━━━━━━\u001b[0m\u001b[37m\u001b[0m \u001b[1m19s\u001b[0m 5ms/step - accuracy: 0.9654 - loss: 0.1077 - val_accuracy: 0.9673 - val_loss: 0.1018\n",
      "Epoch 17/100\n",
      "\u001b[1m3562/3562\u001b[0m \u001b[32m━━━━━━━━━━━━━━━━━━━━\u001b[0m\u001b[37m\u001b[0m \u001b[1m19s\u001b[0m 5ms/step - accuracy: 0.9695 - loss: 0.1004 - val_accuracy: 0.9730 - val_loss: 0.0934\n",
      "Epoch 18/100\n",
      "\u001b[1m3562/3562\u001b[0m \u001b[32m━━━━━━━━━━━━━━━━━━━━\u001b[0m\u001b[37m\u001b[0m \u001b[1m19s\u001b[0m 5ms/step - accuracy: 0.9710 - loss: 0.0978 - val_accuracy: 0.9727 - val_loss: 0.0967\n",
      "Epoch 19/100\n",
      "\u001b[1m3562/3562\u001b[0m \u001b[32m━━━━━━━━━━━━━━━━━━━━\u001b[0m\u001b[37m\u001b[0m \u001b[1m19s\u001b[0m 5ms/step - accuracy: 0.9721 - loss: 0.0949 - val_accuracy: 0.9712 - val_loss: 0.0985\n",
      "Epoch 20/100\n",
      "\u001b[1m3562/3562\u001b[0m \u001b[32m━━━━━━━━━━━━━━━━━━━━\u001b[0m\u001b[37m\u001b[0m \u001b[1m19s\u001b[0m 5ms/step - accuracy: 0.9720 - loss: 0.0944 - val_accuracy: 0.9775 - val_loss: 0.0891\n",
      "Epoch 21/100\n",
      "\u001b[1m3562/3562\u001b[0m \u001b[32m━━━━━━━━━━━━━━━━━━━━\u001b[0m\u001b[37m\u001b[0m \u001b[1m20s\u001b[0m 6ms/step - accuracy: 0.9730 - loss: 0.0926 - val_accuracy: 0.9766 - val_loss: 0.0887\n",
      "Epoch 22/100\n",
      "\u001b[1m3562/3562\u001b[0m \u001b[32m━━━━━━━━━━━━━━━━━━━━\u001b[0m\u001b[37m\u001b[0m \u001b[1m22s\u001b[0m 6ms/step - accuracy: 0.9731 - loss: 0.0932 - val_accuracy: 0.9764 - val_loss: 0.0894\n",
      "Epoch 23/100\n",
      "\u001b[1m3562/3562\u001b[0m \u001b[32m━━━━━━━━━━━━━━━━━━━━\u001b[0m\u001b[37m\u001b[0m \u001b[1m19s\u001b[0m 5ms/step - accuracy: 0.9734 - loss: 0.0918 - val_accuracy: 0.9779 - val_loss: 0.0869\n",
      "Epoch 24/100\n",
      "\u001b[1m3562/3562\u001b[0m \u001b[32m━━━━━━━━━━━━━━━━━━━━\u001b[0m\u001b[37m\u001b[0m \u001b[1m19s\u001b[0m 5ms/step - accuracy: 0.9738 - loss: 0.0915 - val_accuracy: 0.9749 - val_loss: 0.0848\n",
      "Epoch 25/100\n",
      "\u001b[1m3562/3562\u001b[0m \u001b[32m━━━━━━━━━━━━━━━━━━━━\u001b[0m\u001b[37m\u001b[0m \u001b[1m19s\u001b[0m 5ms/step - accuracy: 0.9737 - loss: 0.0910 - val_accuracy: 0.9744 - val_loss: 0.0903\n",
      "Epoch 26/100\n",
      "\u001b[1m3562/3562\u001b[0m \u001b[32m━━━━━━━━━━━━━━━━━━━━\u001b[0m\u001b[37m\u001b[0m \u001b[1m20s\u001b[0m 6ms/step - accuracy: 0.9747 - loss: 0.0890 - val_accuracy: 0.9731 - val_loss: 0.0902\n",
      "Epoch 27/100\n",
      "\u001b[1m3562/3562\u001b[0m \u001b[32m━━━━━━━━━━━━━━━━━━━━\u001b[0m\u001b[37m\u001b[0m \u001b[1m20s\u001b[0m 6ms/step - accuracy: 0.9750 - loss: 0.0886 - val_accuracy: 0.9781 - val_loss: 0.0866\n",
      "Epoch 28/100\n",
      "\u001b[1m3562/3562\u001b[0m \u001b[32m━━━━━━━━━━━━━━━━━━━━\u001b[0m\u001b[37m\u001b[0m \u001b[1m19s\u001b[0m 5ms/step - accuracy: 0.9748 - loss: 0.0887 - val_accuracy: 0.9728 - val_loss: 0.0896\n",
      "Epoch 29/100\n",
      "\u001b[1m3562/3562\u001b[0m \u001b[32m━━━━━━━━━━━━━━━━━━━━\u001b[0m\u001b[37m\u001b[0m \u001b[1m22s\u001b[0m 6ms/step - accuracy: 0.9748 - loss: 0.0882 - val_accuracy: 0.9714 - val_loss: 0.0922\n",
      "Epoch 30/100\n",
      "\u001b[1m3562/3562\u001b[0m \u001b[32m━━━━━━━━━━━━━━━━━━━━\u001b[0m\u001b[37m\u001b[0m \u001b[1m20s\u001b[0m 6ms/step - accuracy: 0.9757 - loss: 0.0865 - val_accuracy: 0.9779 - val_loss: 0.0850\n",
      "Epoch 31/100\n",
      "\u001b[1m3562/3562\u001b[0m \u001b[32m━━━━━━━━━━━━━━━━━━━━\u001b[0m\u001b[37m\u001b[0m \u001b[1m19s\u001b[0m 5ms/step - accuracy: 0.9763 - loss: 0.0852 - val_accuracy: 0.9756 - val_loss: 0.0857\n",
      "Epoch 32/100\n",
      "\u001b[1m3562/3562\u001b[0m \u001b[32m━━━━━━━━━━━━━━━━━━━━\u001b[0m\u001b[37m\u001b[0m \u001b[1m19s\u001b[0m 5ms/step - accuracy: 0.9756 - loss: 0.0863 - val_accuracy: 0.9781 - val_loss: 0.0806\n",
      "Epoch 33/100\n",
      "\u001b[1m3562/3562\u001b[0m \u001b[32m━━━━━━━━━━━━━━━━━━━━\u001b[0m\u001b[37m\u001b[0m \u001b[1m19s\u001b[0m 5ms/step - accuracy: 0.9765 - loss: 0.0848 - val_accuracy: 0.9767 - val_loss: 0.0865\n",
      "Epoch 34/100\n",
      "\u001b[1m3562/3562\u001b[0m \u001b[32m━━━━━━━━━━━━━━━━━━━━\u001b[0m\u001b[37m\u001b[0m \u001b[1m21s\u001b[0m 5ms/step - accuracy: 0.9763 - loss: 0.0847 - val_accuracy: 0.9791 - val_loss: 0.0806\n",
      "Epoch 35/100\n",
      "\u001b[1m3562/3562\u001b[0m \u001b[32m━━━━━━━━━━━━━━━━━━━━\u001b[0m\u001b[37m\u001b[0m \u001b[1m19s\u001b[0m 5ms/step - accuracy: 0.9765 - loss: 0.0851 - val_accuracy: 0.9789 - val_loss: 0.0815\n",
      "Epoch 36/100\n",
      "\u001b[1m3562/3562\u001b[0m \u001b[32m━━━━━━━━━━━━━━━━━━━━\u001b[0m\u001b[37m\u001b[0m \u001b[1m21s\u001b[0m 6ms/step - accuracy: 0.9763 - loss: 0.0847 - val_accuracy: 0.9794 - val_loss: 0.0806\n",
      "Epoch 37/100\n",
      "\u001b[1m3562/3562\u001b[0m \u001b[32m━━━━━━━━━━━━━━━━━━━━\u001b[0m\u001b[37m\u001b[0m \u001b[1m21s\u001b[0m 6ms/step - accuracy: 0.9774 - loss: 0.0814 - val_accuracy: 0.9788 - val_loss: 0.0788\n",
      "Epoch 38/100\n",
      "\u001b[1m3562/3562\u001b[0m \u001b[32m━━━━━━━━━━━━━━━━━━━━\u001b[0m\u001b[37m\u001b[0m \u001b[1m19s\u001b[0m 5ms/step - accuracy: 0.9775 - loss: 0.0820 - val_accuracy: 0.9758 - val_loss: 0.0827\n",
      "Epoch 39/100\n",
      "\u001b[1m3562/3562\u001b[0m \u001b[32m━━━━━━━━━━━━━━━━━━━━\u001b[0m\u001b[37m\u001b[0m \u001b[1m19s\u001b[0m 5ms/step - accuracy: 0.9774 - loss: 0.0821 - val_accuracy: 0.9799 - val_loss: 0.0761\n",
      "Epoch 40/100\n",
      "\u001b[1m3562/3562\u001b[0m \u001b[32m━━━━━━━━━━━━━━━━━━━━\u001b[0m\u001b[37m\u001b[0m \u001b[1m19s\u001b[0m 5ms/step - accuracy: 0.9775 - loss: 0.0811 - val_accuracy: 0.9799 - val_loss: 0.0758\n",
      "Epoch 41/100\n",
      "\u001b[1m3562/3562\u001b[0m \u001b[32m━━━━━━━━━━━━━━━━━━━━\u001b[0m\u001b[37m\u001b[0m \u001b[1m19s\u001b[0m 5ms/step - accuracy: 0.9773 - loss: 0.0817 - val_accuracy: 0.9780 - val_loss: 0.0799\n",
      "Epoch 42/100\n",
      "\u001b[1m3562/3562\u001b[0m \u001b[32m━━━━━━━━━━━━━━━━━━━━\u001b[0m\u001b[37m\u001b[0m \u001b[1m19s\u001b[0m 5ms/step - accuracy: 0.9774 - loss: 0.0815 - val_accuracy: 0.9800 - val_loss: 0.0756\n",
      "Epoch 43/100\n",
      "\u001b[1m3562/3562\u001b[0m \u001b[32m━━━━━━━━━━━━━━━━━━━━\u001b[0m\u001b[37m\u001b[0m \u001b[1m19s\u001b[0m 5ms/step - accuracy: 0.9776 - loss: 0.0811 - val_accuracy: 0.9797 - val_loss: 0.0774\n",
      "Epoch 44/100\n",
      "\u001b[1m3562/3562\u001b[0m \u001b[32m━━━━━━━━━━━━━━━━━━━━\u001b[0m\u001b[37m\u001b[0m \u001b[1m24s\u001b[0m 7ms/step - accuracy: 0.9768 - loss: 0.0825 - val_accuracy: 0.9755 - val_loss: 0.0826\n",
      "Epoch 45/100\n",
      "\u001b[1m3562/3562\u001b[0m \u001b[32m━━━━━━━━━━━━━━━━━━━━\u001b[0m\u001b[37m\u001b[0m \u001b[1m20s\u001b[0m 5ms/step - accuracy: 0.9778 - loss: 0.0802 - val_accuracy: 0.9802 - val_loss: 0.0756\n",
      "Epoch 46/100\n",
      "\u001b[1m3562/3562\u001b[0m \u001b[32m━━━━━━━━━━━━━━━━━━━━\u001b[0m\u001b[37m\u001b[0m \u001b[1m19s\u001b[0m 5ms/step - accuracy: 0.9778 - loss: 0.0796 - val_accuracy: 0.9803 - val_loss: 0.0765\n",
      "Epoch 47/100\n",
      "\u001b[1m3562/3562\u001b[0m \u001b[32m━━━━━━━━━━━━━━━━━━━━\u001b[0m\u001b[37m\u001b[0m \u001b[1m19s\u001b[0m 5ms/step - accuracy: 0.9776 - loss: 0.0802 - val_accuracy: 0.9804 - val_loss: 0.0760\n",
      "Epoch 48/100\n",
      "\u001b[1m3562/3562\u001b[0m \u001b[32m━━━━━━━━━━━━━━━━━━━━\u001b[0m\u001b[37m\u001b[0m \u001b[1m19s\u001b[0m 5ms/step - accuracy: 0.9784 - loss: 0.0779 - val_accuracy: 0.9712 - val_loss: 0.0936\n",
      "Epoch 49/100\n",
      "\u001b[1m3562/3562\u001b[0m \u001b[32m━━━━━━━━━━━━━━━━━━━━\u001b[0m\u001b[37m\u001b[0m \u001b[1m19s\u001b[0m 5ms/step - accuracy: 0.9756 - loss: 0.0829 - val_accuracy: 0.9798 - val_loss: 0.0738\n",
      "Epoch 50/100\n",
      "\u001b[1m3562/3562\u001b[0m \u001b[32m━━━━━━━━━━━━━━━━━━━━\u001b[0m\u001b[37m\u001b[0m \u001b[1m19s\u001b[0m 5ms/step - accuracy: 0.9777 - loss: 0.0790 - val_accuracy: 0.9788 - val_loss: 0.0752\n",
      "Epoch 51/100\n",
      "\u001b[1m3562/3562\u001b[0m \u001b[32m━━━━━━━━━━━━━━━━━━━━\u001b[0m\u001b[37m\u001b[0m \u001b[1m21s\u001b[0m 6ms/step - accuracy: 0.9782 - loss: 0.0781 - val_accuracy: 0.9620 - val_loss: 0.1029\n",
      "Epoch 52/100\n",
      "\u001b[1m3562/3562\u001b[0m \u001b[32m━━━━━━━━━━━━━━━━━━━━\u001b[0m\u001b[37m\u001b[0m \u001b[1m21s\u001b[0m 6ms/step - accuracy: 0.9782 - loss: 0.0784 - val_accuracy: 0.9799 - val_loss: 0.0755\n",
      "Epoch 53/100\n",
      "\u001b[1m3562/3562\u001b[0m \u001b[32m━━━━━━━━━━━━━━━━━━━━\u001b[0m\u001b[37m\u001b[0m \u001b[1m19s\u001b[0m 5ms/step - accuracy: 0.9780 - loss: 0.0784 - val_accuracy: 0.9711 - val_loss: 0.0902\n",
      "Epoch 54/100\n",
      "\u001b[1m3562/3562\u001b[0m \u001b[32m━━━━━━━━━━━━━━━━━━━━\u001b[0m\u001b[37m\u001b[0m \u001b[1m19s\u001b[0m 5ms/step - accuracy: 0.9763 - loss: 0.0808 - val_accuracy: 0.9781 - val_loss: 0.0775\n",
      "Epoch 55/100\n",
      "\u001b[1m3562/3562\u001b[0m \u001b[32m━━━━━━━━━━━━━━━━━━━━\u001b[0m\u001b[37m\u001b[0m \u001b[1m19s\u001b[0m 5ms/step - accuracy: 0.9762 - loss: 0.0807 - val_accuracy: 0.9768 - val_loss: 0.0809\n",
      "Epoch 56/100\n",
      "\u001b[1m3562/3562\u001b[0m \u001b[32m━━━━━━━━━━━━━━━━━━━━\u001b[0m\u001b[37m\u001b[0m \u001b[1m19s\u001b[0m 5ms/step - accuracy: 0.9760 - loss: 0.0818 - val_accuracy: 0.9793 - val_loss: 0.0738\n",
      "Epoch 57/100\n",
      "\u001b[1m3562/3562\u001b[0m \u001b[32m━━━━━━━━━━━━━━━━━━━━\u001b[0m\u001b[37m\u001b[0m \u001b[1m19s\u001b[0m 5ms/step - accuracy: 0.9775 - loss: 0.0785 - val_accuracy: 0.9806 - val_loss: 0.0719\n",
      "Epoch 58/100\n",
      "\u001b[1m3562/3562\u001b[0m \u001b[32m━━━━━━━━━━━━━━━━━━━━\u001b[0m\u001b[37m\u001b[0m \u001b[1m20s\u001b[0m 6ms/step - accuracy: 0.9774 - loss: 0.0794 - val_accuracy: 0.9621 - val_loss: 0.1009\n",
      "Epoch 59/100\n",
      "\u001b[1m3562/3562\u001b[0m \u001b[32m━━━━━━━━━━━━━━━━━━━━\u001b[0m\u001b[37m\u001b[0m \u001b[1m22s\u001b[0m 6ms/step - accuracy: 0.9771 - loss: 0.0802 - val_accuracy: 0.9801 - val_loss: 0.0737\n",
      "Epoch 60/100\n",
      "\u001b[1m3562/3562\u001b[0m \u001b[32m━━━━━━━━━━━━━━━━━━━━\u001b[0m\u001b[37m\u001b[0m \u001b[1m19s\u001b[0m 5ms/step - accuracy: 0.9787 - loss: 0.0764 - val_accuracy: 0.9777 - val_loss: 0.0804\n",
      "Epoch 61/100\n",
      "\u001b[1m3562/3562\u001b[0m \u001b[32m━━━━━━━━━━━━━━━━━━━━\u001b[0m\u001b[37m\u001b[0m \u001b[1m19s\u001b[0m 5ms/step - accuracy: 0.9780 - loss: 0.0782 - val_accuracy: 0.9765 - val_loss: 0.0821\n",
      "Epoch 62/100\n",
      "\u001b[1m3562/3562\u001b[0m \u001b[32m━━━━━━━━━━━━━━━━━━━━\u001b[0m\u001b[37m\u001b[0m \u001b[1m19s\u001b[0m 5ms/step - accuracy: 0.9784 - loss: 0.0772 - val_accuracy: 0.9793 - val_loss: 0.0764\n",
      "Epoch 63/100\n",
      "\u001b[1m3562/3562\u001b[0m \u001b[32m━━━━━━━━━━━━━━━━━━━━\u001b[0m\u001b[37m\u001b[0m \u001b[1m19s\u001b[0m 5ms/step - accuracy: 0.9775 - loss: 0.0797 - val_accuracy: 0.9772 - val_loss: 0.0786\n",
      "Epoch 64/100\n",
      "\u001b[1m3562/3562\u001b[0m \u001b[32m━━━━━━━━━━━━━━━━━━━━\u001b[0m\u001b[37m\u001b[0m \u001b[1m19s\u001b[0m 5ms/step - accuracy: 0.9774 - loss: 0.0798 - val_accuracy: 0.9797 - val_loss: 0.0765\n",
      "Epoch 65/100\n",
      "\u001b[1m3562/3562\u001b[0m \u001b[32m━━━━━━━━━━━━━━━━━━━━\u001b[0m\u001b[37m\u001b[0m \u001b[1m19s\u001b[0m 5ms/step - accuracy: 0.9785 - loss: 0.0764 - val_accuracy: 0.9801 - val_loss: 0.0739\n",
      "Epoch 66/100\n",
      "\u001b[1m3562/3562\u001b[0m \u001b[32m━━━━━━━━━━━━━━━━━━━━\u001b[0m\u001b[37m\u001b[0m \u001b[1m22s\u001b[0m 6ms/step - accuracy: 0.9783 - loss: 0.0775 - val_accuracy: 0.9714 - val_loss: 0.0886\n",
      "Epoch 67/100\n",
      "\u001b[1m3562/3562\u001b[0m \u001b[32m━━━━━━━━━━━━━━━━━━━━\u001b[0m\u001b[37m\u001b[0m \u001b[1m20s\u001b[0m 6ms/step - accuracy: 0.9782 - loss: 0.0771 - val_accuracy: 0.9808 - val_loss: 0.0752\n"
     ]
    }
   ],
   "source": [
    "history = model.fit(x_train_dl ,y_train_dl, verbose=1, epochs=100, batch_size=256,validation_data=(x_val_dl,y_val_dl),callbacks=[early_stopping])"
   ]
  },
  {
   "cell_type": "code",
   "execution_count": null,
   "id": "3c0acaad",
   "metadata": {},
   "outputs": [
    {
     "name": "stdout",
     "output_type": "stream",
     "text": [
      "Baseline: 97.07% (1.24%)\n"
     ]
    }
   ],
   "source": [
    "mean = sum(history.history['accuracy']) / len(history.history['accuracy'])\n",
    "variance = sum([((x - mean) ** 2) for x in history.history['accuracy']]) / len(history.history['accuracy'])\n",
    "res = variance ** 0.5\n",
    "print(\"Baseline: %.2f%% (%.2f%%)\" % (mean*100, res*100))"
   ]
  },
  {
   "cell_type": "code",
   "execution_count": null,
   "id": "9cf5ce7e",
   "metadata": {},
   "outputs": [
    {
     "name": "stdout",
     "output_type": "stream",
     "text": [
      "\u001b[1m9499/9499\u001b[0m \u001b[32m━━━━━━━━━━━━━━━━━━━━\u001b[0m\u001b[37m\u001b[0m \u001b[1m37s\u001b[0m 4ms/step\n",
      "              precision    recall  f1-score   support\n",
      "\n",
      "           0       0.99      0.99      0.99    100316\n",
      "           1       1.00      1.00      1.00       593\n",
      "           2       0.99      0.98      0.99       494\n",
      "           3       0.99      1.00      0.99    158629\n",
      "           4       0.89      0.27      0.41        30\n",
      "           5       0.95      0.81      0.88       160\n",
      "           6       0.86      0.86      0.86      4638\n",
      "           7       0.96      0.93      0.94     26316\n",
      "           8       0.83      0.61      0.71      2817\n",
      "           9       0.89      0.96      0.93      9830\n",
      "          10       0.66      0.81      0.73       129\n",
      "\n",
      "    accuracy                           0.98    303952\n",
      "   macro avg       0.91      0.84      0.86    303952\n",
      "weighted avg       0.98      0.98      0.98    303952\n",
      "\n"
     ]
    }
   ],
   "source": [
    "y_pred = model.predict(x_test_dl)\n",
    "y_pred_class = y_pred.argmax(axis=-1)\n",
    "y_test_class = np.argmax(y_test_dl, axis=1)\n",
    "\n",
    "print(classification_report(y_test_class, y_pred_class))"
   ]
  },
  {
   "cell_type": "code",
   "execution_count": null,
   "id": "37d3daad",
   "metadata": {},
   "outputs": [
    {
     "data": {
      "image/png": "[encoded data removed]",
      "text/plain": [
       "<Figure size 1200x500 with 2 Axes>"
      ]
     },
     "metadata": {},
     "output_type": "display_data"
    }
   ],
   "source": [
    "plot_history(history)"
   ]
  },
  {
   "cell_type": "code",
   "execution_count": null,
   "id": "56697dd3",
   "metadata": {},
   "outputs": [
    {
     "data": {
      "image/png": "[encoded data removed]",
      "text/plain": [
       "<Figure size 640x480 with 1 Axes>"
      ]
     },
     "metadata": {},
     "output_type": "display_data"
    }
   ],
   "source": [
    "pyplot.plot(history.history['accuracy'])\n",
    "pyplot.savefig('DL_CNN_Accuracy_EpochVsAccuracy.jpg',dpi=900)\n",
    "pyplot.show()"
   ]
  },
  {
   "cell_type": "code",
   "execution_count": null,
   "id": "b240bd53",
   "metadata": {},
   "outputs": [
    {
     "name": "stdout",
     "output_type": "stream",
     "text": [
      "\u001b[1m9499/9499\u001b[0m \u001b[32m━━━━━━━━━━━━━━━━━━━━\u001b[0m\u001b[37m\u001b[0m \u001b[1m25s\u001b[0m 3ms/step - accuracy: 0.9808 - loss: 0.0743\n",
      "Test Accuracy: 0.9807173609733582\n"
     ]
    }
   ],
   "source": [
    "loss, accuracy = model.evaluate(x_test_dl, y_test_dl)\n",
    "print('Test Accuracy:', accuracy)"
   ]
  },
  {
   "cell_type": "markdown",
   "id": "5d955e97",
   "metadata": {},
   "source": [
    "### 3.2.2. Model2"
   ]
  },
  {
   "cell_type": "code",
   "execution_count": null,
   "id": "eb6c102e",
   "metadata": {},
   "outputs": [
    {
     "name": "stdout",
     "output_type": "stream",
     "text": [
      "Epoch 1/50\n",
      "\u001b[1m3562/3562\u001b[0m \u001b[32m━━━━━━━━━━━━━━━━━━━━\u001b[0m\u001b[37m\u001b[0m \u001b[1m486s\u001b[0m 135ms/step - accuracy: 0.8065 - loss: 0.6446 - val_accuracy: 0.9323 - val_loss: 0.1925\n",
      "Epoch 2/50\n",
      "\u001b[1m3562/3562\u001b[0m \u001b[32m━━━━━━━━━━━━━━━━━━━━\u001b[0m\u001b[37m\u001b[0m \u001b[1m484s\u001b[0m 136ms/step - accuracy: 0.9353 - loss: 0.1824 - val_accuracy: 0.9438 - val_loss: 0.1589\n",
      "Epoch 3/50\n",
      "\u001b[1m3562/3562\u001b[0m \u001b[32m━━━━━━━━━━━━━━━━━━━━\u001b[0m\u001b[37m\u001b[0m \u001b[1m486s\u001b[0m 136ms/step - accuracy: 0.9407 - loss: 0.1653 - val_accuracy: 0.9428 - val_loss: 0.1569\n",
      "Epoch 4/50\n",
      "\u001b[1m3562/3562\u001b[0m \u001b[32m━━━━━━━━━━━━━━━━━━━━\u001b[0m\u001b[37m\u001b[0m \u001b[1m492s\u001b[0m 138ms/step - accuracy: 0.9422 - loss: 0.1594 - val_accuracy: 0.9395 - val_loss: 0.1730\n",
      "Epoch 5/50\n",
      "\u001b[1m3562/3562\u001b[0m \u001b[32m━━━━━━━━━━━━━━━━━━━━\u001b[0m\u001b[37m\u001b[0m \u001b[1m488s\u001b[0m 137ms/step - accuracy: 0.9450 - loss: 0.1520 - val_accuracy: 0.9099 - val_loss: 0.2357\n",
      "Epoch 6/50\n",
      "\u001b[1m3562/3562\u001b[0m \u001b[32m━━━━━━━━━━━━━━━━━━━━\u001b[0m\u001b[37m\u001b[0m \u001b[1m485s\u001b[0m 136ms/step - accuracy: 0.9461 - loss: 0.1502 - val_accuracy: 0.9486 - val_loss: 0.1413\n",
      "Epoch 7/50\n",
      "\u001b[1m3562/3562\u001b[0m \u001b[32m━━━━━━━━━━━━━━━━━━━━\u001b[0m\u001b[37m\u001b[0m \u001b[1m484s\u001b[0m 136ms/step - accuracy: 0.9455 - loss: 0.1546 - val_accuracy: 0.9503 - val_loss: 0.1374\n",
      "Epoch 8/50\n",
      "\u001b[1m3562/3562\u001b[0m \u001b[32m━━━━━━━━━━━━━━━━━━━━\u001b[0m\u001b[37m\u001b[0m \u001b[1m480s\u001b[0m 135ms/step - accuracy: 0.9488 - loss: 0.1431 - val_accuracy: 0.9514 - val_loss: 0.1373\n",
      "Epoch 9/50\n",
      "\u001b[1m3562/3562\u001b[0m \u001b[32m━━━━━━━━━━━━━━━━━━━━\u001b[0m\u001b[37m\u001b[0m \u001b[1m502s\u001b[0m 135ms/step - accuracy: 0.9493 - loss: 0.1413 - val_accuracy: 0.9515 - val_loss: 0.1341\n",
      "Epoch 10/50\n",
      "\u001b[1m3562/3562\u001b[0m \u001b[32m━━━━━━━━━━━━━━━━━━━━\u001b[0m\u001b[37m\u001b[0m \u001b[1m486s\u001b[0m 136ms/step - accuracy: 0.9159 - loss: 0.2486 - val_accuracy: 0.9244 - val_loss: 0.2263\n"
     ]
    }
   ],
   "source": [
    "history2 = model2.fit(x_train_dl ,y_train_dl, verbose=1, epochs=50, batch_size=256,validation_data=(x_val_dl,y_val_dl),callbacks=[early_stopping])\n"
   ]
  },
  {
   "cell_type": "code",
   "execution_count": null,
   "id": "1d5806a7",
   "metadata": {},
   "outputs": [
    {
     "name": "stdout",
     "output_type": "stream",
     "text": [
      "Baseline: 97.07% (1.24%)\n"
     ]
    }
   ],
   "source": [
    "mean = sum(history.history['accuracy']) / len(history.history['accuracy'])\n",
    "variance = sum([((x - mean) ** 2) for x in history.history['accuracy']]) / len(history.history['accuracy'])\n",
    "res = variance ** 0.5\n",
    "print(\"Baseline: %.2f%% (%.2f%%)\" % (mean*100, res*100))"
   ]
  },
  {
   "cell_type": "code",
   "execution_count": null,
   "id": "7fa1bf90",
   "metadata": {},
   "outputs": [
    {
     "name": "stdout",
     "output_type": "stream",
     "text": [
      "\u001b[1m9499/9499\u001b[0m \u001b[32m━━━━━━━━━━━━━━━━━━━━\u001b[0m\u001b[37m\u001b[0m \u001b[1m37s\u001b[0m 4ms/step\n",
      "              precision    recall  f1-score   support\n",
      "\n",
      "           0       0.99      0.99      0.99    100316\n",
      "           1       1.00      1.00      1.00       593\n",
      "           2       0.99      0.98      0.99       494\n",
      "           3       0.99      1.00      0.99    158629\n",
      "           4       0.89      0.27      0.41        30\n",
      "           5       0.95      0.81      0.88       160\n",
      "           6       0.86      0.86      0.86      4638\n",
      "           7       0.96      0.93      0.94     26316\n",
      "           8       0.83      0.61      0.71      2817\n",
      "           9       0.89      0.96      0.93      9830\n",
      "          10       0.66      0.81      0.73       129\n",
      "\n",
      "    accuracy                           0.98    303952\n",
      "   macro avg       0.91      0.84      0.86    303952\n",
      "weighted avg       0.98      0.98      0.98    303952\n",
      "\n"
     ]
    }
   ],
   "source": [
    "y_pred = model.predict(x_test_dl)\n",
    "y_pred_class = y_pred.argmax(axis=-1)\n",
    "y_test_class = np.argmax(y_test_dl, axis=1)\n",
    "\n",
    "print(classification_report(y_test_class, y_pred_class))"
   ]
  },
  {
   "cell_type": "code",
   "execution_count": null,
   "id": "8ca0430d",
   "metadata": {},
   "outputs": [
    {
     "data": {
      "image/png": "[encoded data removed]",
      "text/plain": [
       "<Figure size 1200x500 with 2 Axes>"
      ]
     },
     "metadata": {},
     "output_type": "display_data"
    }
   ],
   "source": [
    "plot_history(history)"
   ]
  },
  {
   "cell_type": "code",
   "execution_count": null,
   "id": "ab0cb0dd",
   "metadata": {},
   "outputs": [
    {
     "data": {
      "image/png": "[encoded data removed]",
      "text/plain": [
       "<Figure size 640x480 with 1 Axes>"
      ]
     },
     "metadata": {},
     "output_type": "display_data"
    }
   ],
   "source": [
    "pyplot.plot(history.history['accuracy'])\n",
    "pyplot.savefig('DL_LSTM2_Accuracy_EpochVsAccuracy.jpg',dpi=900)\n",
    "pyplot.show()"
   ]
  },
  {
   "cell_type": "code",
   "execution_count": null,
   "id": "4a4bc5d1",
   "metadata": {},
   "outputs": [
    {
     "name": "stdout",
     "output_type": "stream",
     "text": [
      "\u001b[1m9499/9499\u001b[0m \u001b[32m━━━━━━━━━━━━━━━━━━━━\u001b[0m\u001b[37m\u001b[0m \u001b[1m25s\u001b[0m 3ms/step - accuracy: 0.9808 - loss: 0.0743\n",
      "Test Accuracy: 0.9807173609733582\n"
     ]
    }
   ],
   "source": [
    "loss, accuracy = model.evaluate(x_test_dl, y_test_dl)\n",
    "print('Test Accuracy:', accuracy)"
   ]
  }
 ],
 "metadata": {
  "kaggle": {
   "accelerator": "gpu",
   "dataSources": [
    {
     "datasetId": 5805830,
     "sourceId": 9532924,
     "sourceType": "datasetVersion"
    },
    {
     "datasetId": 5864191,
     "sourceId": 9610569,
     "sourceType": "datasetVersion"
    }
   ],
   "dockerImageVersionId": 30786,
   "isGpuEnabled": true,
   "isInternetEnabled": true,
   "language": "python",
   "sourceType": "notebook"
  },
  "kernelspec": {
   "display_name": "Python 3",
   "language": "python",
   "name": "python3"
  },
  "language_info": {
   "codemirror_mode": {
    "name": "ipython",
    "version": 3
   },
   "file_extension": ".py",
   "mimetype": "text/x-python",
   "name": "python",
   "nbconvert_exporter": "python",
   "pygments_lexer": "ipython3",
   "version": "3.10.14"
  },
  "papermill": {
   "default_parameters": {},
   "duration": 22838.331481,
   "end_time": "2024-10-13T03:35:07.529302",
   "environment_variables": {},
   "exception": null,
   "input_path": "__notebook__.ipynb",
   "output_path": "__notebook__.ipynb",
   "parameters": {},
   "start_time": "2024-10-12T21:14:29.197821",
   "version": "2.6.0"
  }
 },
 "nbformat": 4,
 "nbformat_minor": 5
}
