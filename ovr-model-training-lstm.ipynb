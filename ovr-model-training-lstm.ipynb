{
 "cells": [
  {
   "cell_type": "code",
   "execution_count": 1,
   "id": "fbfcaab4",
   "metadata": {
    "_cell_guid": "b1076dfc-b9ad-4769-8c92-a6c4dae69d19",
    "_uuid": "8f2839f25d086af736a60e9eeb907d3b93b6e0e5",
    "execution": {
     "iopub.execute_input": "2024-11-26T17:44:45.904343Z",
     "iopub.status.busy": "2024-11-26T17:44:45.904017Z",
     "iopub.status.idle": "2024-11-26T17:44:46.585581Z",
     "shell.execute_reply": "2024-11-26T17:44:46.584735Z"
    },
    "papermill": {
     "duration": 0.689739,
     "end_time": "2024-11-26T17:44:46.587661",
     "exception": false,
     "start_time": "2024-11-26T17:44:45.897922",
     "status": "completed"
    },
    "tags": []
   },
   "outputs": [
    {
     "name": "stdout",
     "output_type": "stream",
     "text": [
      "/kaggle/input/NF-UQ-NIDS-V2-Sample.csv\n",
      "/kaggle/input/NF-UQ-NIDS-V2_Sample-2.csv\n"
     ]
    }
   ],
   "source": [
    "# This Python 3 environment comes with many helpful analytics libraries installed\n",
    "# It is defined by the kaggle/python Docker image: https://github.com/kaggle/docker-python\n",
    "# For example, here's several helpful packages to load\n",
    "\n",
    "import numpy as np # linear algebra\n",
    "import pandas as pd # data processing, CSV file I/O (e.g. pd.read_csv)\n",
    "\n",
    "# Input data files are available in the read-only \"../input/\" directory\n",
    "# For example, running this (by clicking run or pressing Shift+Enter) will list all files under the input directory\n",
    "\n",
    "import os\n",
    "for dirname, _, filenames in os.walk('/kaggle/input'):\n",
    "    for filename in filenames:\n",
    "        print(os.path.join(dirname, filename))\n",
    "\n",
    "# You can write up to 20GB to the current directory (/kaggle/working/) that gets preserved as output when you create a version using \"Save & Run All\" \n",
    "# You can also write temporary files to /kaggle/temp/, but they won't be saved outside of the current session"
   ]
  },
  {
   "cell_type": "code",
   "execution_count": 2,
   "id": "d97c7e7e",
   "metadata": {
    "execution": {
     "iopub.execute_input": "2024-11-26T17:44:46.598217Z",
     "iopub.status.busy": "2024-11-26T17:44:46.597838Z",
     "iopub.status.idle": "2024-11-26T17:45:05.571993Z",
     "shell.execute_reply": "2024-11-26T17:45:05.571246Z"
    },
    "papermill": {
     "duration": 18.981618,
     "end_time": "2024-11-26T17:45:05.574077",
     "exception": false,
     "start_time": "2024-11-26T17:44:46.592459",
     "status": "completed"
    },
    "tags": []
   },
   "outputs": [],
   "source": [
    "df = pd.read_csv('/kaggle/input/NF-UQ-NIDS-V2_Sample-2.csv')"
   ]
  },
  {
   "cell_type": "code",
   "execution_count": 3,
   "id": "d128843b",
   "metadata": {
    "execution": {
     "iopub.execute_input": "2024-11-26T17:45:05.585063Z",
     "iopub.status.busy": "2024-11-26T17:45:05.584777Z",
     "iopub.status.idle": "2024-11-26T17:45:08.922999Z",
     "shell.execute_reply": "2024-11-26T17:45:08.921857Z"
    },
    "papermill": {
     "duration": 3.348229,
     "end_time": "2024-11-26T17:45:08.926863",
     "exception": false,
     "start_time": "2024-11-26T17:45:05.578634",
     "status": "completed"
    },
    "tags": []
   },
   "outputs": [
    {
     "data": {
      "text/plain": [
       "array(['Analysis', 'Backdoor', 'Benign', 'Bot', 'Brute Force', 'DDoS',\n",
       "       'DoS', 'Exploits', 'Fuzzers', 'Generic', 'Infilteration',\n",
       "       'Reconnaissance', 'Shellcode', 'Theft', 'Worms', 'injection',\n",
       "       'mitm', 'password', 'ransomware', 'scanning', 'xss'], dtype=object)"
      ]
     },
     "execution_count": 3,
     "metadata": {},
     "output_type": "execute_result"
    }
   ],
   "source": [
    "np.unique(df['Attack'])"
   ]
  },
  {
   "cell_type": "code",
   "execution_count": 4,
   "id": "da4c26ab",
   "metadata": {
    "execution": {
     "iopub.execute_input": "2024-11-26T17:45:08.942717Z",
     "iopub.status.busy": "2024-11-26T17:45:08.942430Z",
     "iopub.status.idle": "2024-11-26T17:45:10.002155Z",
     "shell.execute_reply": "2024-11-26T17:45:10.001259Z"
    },
    "papermill": {
     "duration": 1.06796,
     "end_time": "2024-11-26T17:45:10.004636",
     "exception": false,
     "start_time": "2024-11-26T17:45:08.936676",
     "status": "completed"
    },
    "tags": []
   },
   "outputs": [],
   "source": [
    "from sklearn.preprocessing import LabelEncoder\n",
    "LE1 = LabelEncoder()"
   ]
  },
  {
   "cell_type": "code",
   "execution_count": 5,
   "id": "1f23d1b3",
   "metadata": {
    "execution": {
     "iopub.execute_input": "2024-11-26T17:45:10.022570Z",
     "iopub.status.busy": "2024-11-26T17:45:10.022167Z",
     "iopub.status.idle": "2024-11-26T17:45:10.028669Z",
     "shell.execute_reply": "2024-11-26T17:45:10.027884Z"
    },
    "papermill": {
     "duration": 0.017629,
     "end_time": "2024-11-26T17:45:10.030742",
     "exception": false,
     "start_time": "2024-11-26T17:45:10.013113",
     "status": "completed"
    },
    "tags": []
   },
   "outputs": [],
   "source": [
    "def processX(X):\n",
    "    #ip addresses are in format xxx.xxx.xxx.xxx which is not compatible with the models\n",
    "    srcaddr= LE1.fit_transform(X['IPV4_SRC_ADDR'])\n",
    "    X['IPV4_SRC_ADDR'] = pd.Series(srcaddr)\n",
    "    dstaddr= LE1.fit_transform(X['IPV4_DST_ADDR'])\n",
    "    X['IPV4_DST_ADDR'] = pd.Series(dstaddr)\n",
    "    \n",
    "\n",
    "    from sklearn.impute import SimpleImputer \n",
    "    imputer = SimpleImputer(missing_values = np.nan, strategy = 'mean')\n",
    "    \n",
    "    X_object = X.select_dtypes(\"object\")\n",
    "    X_int = X.select_dtypes(exclude = \"object\")\n",
    "    X_columns = X_int.columns #this stores column names \n",
    "\n",
    "    imputer.fit(X_int)\n",
    "    X_int = imputer.transform(X_int)\n",
    "    X_int = pd.DataFrame(X_int)\n",
    "    \n",
    "    X_int.columns = X_columns #corrects column name\n",
    "    \n",
    "    X_object = X_object.fillna(\"unknown\")\n",
    "    X = X_object.join(X_int)\n",
    "    from sklearn.preprocessing import StandardScaler, MinMaxScaler\n",
    "    scaler = MinMaxScaler()\n",
    "    # store the columns\n",
    "    cols = X.columns\n",
    "    \n",
    "    # transform the data\n",
    "    X_scaled = scaler.fit_transform(X)\n",
    "    \n",
    "    X_scaled = pd.DataFrame(X_scaled, columns = cols)\n",
    "     \n",
    "    \n",
    "    return X_scaled"
   ]
  },
  {
   "cell_type": "code",
   "execution_count": 6,
   "id": "19bb21de",
   "metadata": {
    "execution": {
     "iopub.execute_input": "2024-11-26T17:45:10.048054Z",
     "iopub.status.busy": "2024-11-26T17:45:10.047796Z",
     "iopub.status.idle": "2024-11-26T17:45:10.052913Z",
     "shell.execute_reply": "2024-11-26T17:45:10.052208Z"
    },
    "papermill": {
     "duration": 0.015974,
     "end_time": "2024-11-26T17:45:10.054870",
     "exception": false,
     "start_time": "2024-11-26T17:45:10.038896",
     "status": "completed"
    },
    "tags": []
   },
   "outputs": [],
   "source": [
    "from sklearn.preprocessing import LabelEncoder\n",
    "LE = LabelEncoder()"
   ]
  },
  {
   "cell_type": "code",
   "execution_count": 7,
   "id": "a8ea8159",
   "metadata": {
    "execution": {
     "iopub.execute_input": "2024-11-26T17:45:10.072136Z",
     "iopub.status.busy": "2024-11-26T17:45:10.071878Z",
     "iopub.status.idle": "2024-11-26T17:45:17.738666Z",
     "shell.execute_reply": "2024-11-26T17:45:17.737918Z"
    },
    "papermill": {
     "duration": 7.677702,
     "end_time": "2024-11-26T17:45:17.740708",
     "exception": false,
     "start_time": "2024-11-26T17:45:10.063006",
     "status": "completed"
    },
    "tags": []
   },
   "outputs": [],
   "source": [
    "X=df.drop(['Attack','Dataset','Label','Attack_Class'],axis=1)\n",
    "y=df['Attack']\n",
    "X=processX(X)"
   ]
  },
  {
   "cell_type": "code",
   "execution_count": 8,
   "id": "551011a0",
   "metadata": {
    "execution": {
     "iopub.execute_input": "2024-11-26T17:45:17.752354Z",
     "iopub.status.busy": "2024-11-26T17:45:17.752075Z",
     "iopub.status.idle": "2024-11-26T17:45:18.745459Z",
     "shell.execute_reply": "2024-11-26T17:45:18.744738Z"
    },
    "papermill": {
     "duration": 1.001305,
     "end_time": "2024-11-26T17:45:18.747433",
     "exception": false,
     "start_time": "2024-11-26T17:45:17.746128",
     "status": "completed"
    },
    "tags": []
   },
   "outputs": [],
   "source": [
    "\n",
    "# Assuming 'y_train' and 'y_test' are your original target labels\n",
    "target_classes = ['Benign', 'DDoS', 'DoS', 'Brute Force']  # Replace with your 5 classes\n",
    "\n",
    "# Filter the data\n",
    "X = X[np.isin(y, target_classes)]\n",
    "y = y[np.isin(y, target_classes)]\n"
   ]
  },
  {
   "cell_type": "code",
   "execution_count": 9,
   "id": "866d4d2c",
   "metadata": {
    "execution": {
     "iopub.execute_input": "2024-11-26T17:45:18.758265Z",
     "iopub.status.busy": "2024-11-26T17:45:18.757963Z",
     "iopub.status.idle": "2024-11-26T17:45:19.276999Z",
     "shell.execute_reply": "2024-11-26T17:45:19.275897Z"
    },
    "papermill": {
     "duration": 0.526553,
     "end_time": "2024-11-26T17:45:19.278828",
     "exception": false,
     "start_time": "2024-11-26T17:45:18.752275",
     "status": "completed"
    },
    "tags": []
   },
   "outputs": [
    {
     "name": "stdout",
     "output_type": "stream",
     "text": [
      "0: Benign\n",
      "1: Brute Force\n",
      "2: DDoS\n",
      "3: DoS\n"
     ]
    }
   ],
   "source": [
    "multilbl = LE.fit_transform(y)\n",
    "y = pd.Series(multilbl)\n",
    "# Access the original classes\n",
    "classes = LE.classes_\n",
    "# Print the mapping\n",
    "for i, cls in enumerate(classes):\n",
    "    print(f\"{i}: {cls}\")"
   ]
  },
  {
   "cell_type": "code",
   "execution_count": 10,
   "id": "14237a3d",
   "metadata": {
    "execution": {
     "iopub.execute_input": "2024-11-26T17:45:19.289439Z",
     "iopub.status.busy": "2024-11-26T17:45:19.289156Z",
     "iopub.status.idle": "2024-11-26T17:45:19.293594Z",
     "shell.execute_reply": "2024-11-26T17:45:19.292716Z"
    },
    "papermill": {
     "duration": 0.011536,
     "end_time": "2024-11-26T17:45:19.295141",
     "exception": false,
     "start_time": "2024-11-26T17:45:19.283605",
     "status": "completed"
    },
    "tags": []
   },
   "outputs": [
    {
     "name": "stdout",
     "output_type": "stream",
     "text": [
      "<class 'numpy.ndarray'>\n"
     ]
    }
   ],
   "source": [
    "print(type(classes))"
   ]
  },
  {
   "cell_type": "code",
   "execution_count": 11,
   "id": "a08023c4",
   "metadata": {
    "execution": {
     "iopub.execute_input": "2024-11-26T17:45:19.305312Z",
     "iopub.status.busy": "2024-11-26T17:45:19.305059Z",
     "iopub.status.idle": "2024-11-26T17:45:30.186443Z",
     "shell.execute_reply": "2024-11-26T17:45:30.185454Z"
    },
    "papermill": {
     "duration": 10.888742,
     "end_time": "2024-11-26T17:45:30.188549",
     "exception": false,
     "start_time": "2024-11-26T17:45:19.299807",
     "status": "completed"
    },
    "tags": []
   },
   "outputs": [],
   "source": [
    "from tensorflow.keras.utils import to_categorical\n",
    "y_cat = to_categorical(y)"
   ]
  },
  {
   "cell_type": "code",
   "execution_count": 12,
   "id": "ee8d26a0",
   "metadata": {
    "execution": {
     "iopub.execute_input": "2024-11-26T17:45:30.199801Z",
     "iopub.status.busy": "2024-11-26T17:45:30.199281Z",
     "iopub.status.idle": "2024-11-26T17:45:33.011839Z",
     "shell.execute_reply": "2024-11-26T17:45:33.010810Z"
    },
    "papermill": {
     "duration": 2.8204,
     "end_time": "2024-11-26T17:45:33.013963",
     "exception": false,
     "start_time": "2024-11-26T17:45:30.193563",
     "status": "completed"
    },
    "tags": []
   },
   "outputs": [],
   "source": [
    "from sklearn.model_selection import train_test_split\n",
    "x_train_dl, x_test_dl, y_train_dl, y_test_dl = train_test_split(X, y, test_size=0.2,random_state=55)\n",
    "x_train_dl, x_val_dl, y_train_dl, y_val_dl = train_test_split(x_train_dl, y_train_dl, test_size=0.25,random_state=55)"
   ]
  },
  {
   "cell_type": "code",
   "execution_count": 13,
   "id": "5e82fa03",
   "metadata": {
    "execution": {
     "iopub.execute_input": "2024-11-26T17:45:33.027613Z",
     "iopub.status.busy": "2024-11-26T17:45:33.027314Z",
     "iopub.status.idle": "2024-11-26T17:45:33.031241Z",
     "shell.execute_reply": "2024-11-26T17:45:33.030412Z"
    },
    "papermill": {
     "duration": 0.012181,
     "end_time": "2024-11-26T17:45:33.033041",
     "exception": false,
     "start_time": "2024-11-26T17:45:33.020860",
     "status": "completed"
    },
    "tags": []
   },
   "outputs": [],
   "source": [
    "input_feature=x_train_dl.shape[1]\n",
    "output_classes=1#binary classification"
   ]
  },
  {
   "cell_type": "code",
   "execution_count": 14,
   "id": "0385129a",
   "metadata": {
    "execution": {
     "iopub.execute_input": "2024-11-26T17:45:33.044119Z",
     "iopub.status.busy": "2024-11-26T17:45:33.043611Z",
     "iopub.status.idle": "2024-11-26T17:45:33.051030Z",
     "shell.execute_reply": "2024-11-26T17:45:33.050155Z"
    },
    "papermill": {
     "duration": 0.0145,
     "end_time": "2024-11-26T17:45:33.052598",
     "exception": false,
     "start_time": "2024-11-26T17:45:33.038098",
     "status": "completed"
    },
    "tags": []
   },
   "outputs": [],
   "source": [
    "import tensorflow as tf\n",
    "from keras.callbacks import EarlyStopping\n",
    "from sklearn.metrics import accuracy_score\n",
    "from tensorflow.keras.models import Sequential\n",
    "from tensorflow.keras.layers import LSTM, Dense, Input, Dropout, BatchNormalization, Reshape, SimpleRNN, Flatten"
   ]
  },
  {
   "cell_type": "code",
   "execution_count": 15,
   "id": "ff12aeab",
   "metadata": {
    "execution": {
     "iopub.execute_input": "2024-11-26T17:45:33.063034Z",
     "iopub.status.busy": "2024-11-26T17:45:33.062733Z",
     "iopub.status.idle": "2024-11-26T17:45:33.067043Z",
     "shell.execute_reply": "2024-11-26T17:45:33.066228Z"
    },
    "papermill": {
     "duration": 0.011371,
     "end_time": "2024-11-26T17:45:33.068648",
     "exception": false,
     "start_time": "2024-11-26T17:45:33.057277",
     "status": "completed"
    },
    "tags": []
   },
   "outputs": [],
   "source": [
    "lr_schedule = tf.keras.optimizers.schedules.ExponentialDecay(\n",
    "    initial_learning_rate=0.0005,\n",
    "    decay_steps=10000,\n",
    "    decay_rate=0.96,\n",
    "    staircase=True\n",
    ")"
   ]
  },
  {
   "cell_type": "code",
   "execution_count": 16,
   "id": "7fbedec5",
   "metadata": {
    "execution": {
     "iopub.execute_input": "2024-11-26T17:45:33.078889Z",
     "iopub.status.busy": "2024-11-26T17:45:33.078629Z",
     "iopub.status.idle": "2024-11-26T17:45:33.082266Z",
     "shell.execute_reply": "2024-11-26T17:45:33.081470Z"
    },
    "papermill": {
     "duration": 0.010411,
     "end_time": "2024-11-26T17:45:33.083800",
     "exception": false,
     "start_time": "2024-11-26T17:45:33.073389",
     "status": "completed"
    },
    "tags": []
   },
   "outputs": [],
   "source": [
    "early_stopping = EarlyStopping(monitor='val_loss', patience=10, restore_best_weights=True)"
   ]
  },
  {
   "cell_type": "code",
   "execution_count": 17,
   "id": "ed6481fd",
   "metadata": {
    "execution": {
     "iopub.execute_input": "2024-11-26T17:45:33.094217Z",
     "iopub.status.busy": "2024-11-26T17:45:33.093955Z",
     "iopub.status.idle": "2024-11-26T17:45:33.098552Z",
     "shell.execute_reply": "2024-11-26T17:45:33.097703Z"
    },
    "papermill": {
     "duration": 0.011527,
     "end_time": "2024-11-26T17:45:33.100078",
     "exception": false,
     "start_time": "2024-11-26T17:45:33.088551",
     "status": "completed"
    },
    "tags": []
   },
   "outputs": [],
   "source": [
    "def CNN_Model(input_feature,output_classes):\n",
    "    model = Sequential([\n",
    "        Input(shape=(input_feature,1)),\n",
    "        LSTM(32, return_sequences=True),\n",
    "        Dropout(0.5),\n",
    "        BatchNormalization(),\n",
    "        LSTM(64),\n",
    "        Dense(output_classes, activation=\"sigmoid\")\n",
    "    ])\n",
    "    model.compile(loss='binary_crossentropy', optimizer='adam', metrics=['accuracy'])\n",
    "    return model"
   ]
  },
  {
   "cell_type": "code",
   "execution_count": 18,
   "id": "f8b0b2ee",
   "metadata": {
    "execution": {
     "iopub.execute_input": "2024-11-26T17:45:33.111087Z",
     "iopub.status.busy": "2024-11-26T17:45:33.110812Z",
     "iopub.status.idle": "2024-11-26T17:45:33.867236Z",
     "shell.execute_reply": "2024-11-26T17:45:33.866289Z"
    },
    "papermill": {
     "duration": 0.763884,
     "end_time": "2024-11-26T17:45:33.869092",
     "exception": false,
     "start_time": "2024-11-26T17:45:33.105208",
     "status": "completed"
    },
    "tags": []
   },
   "outputs": [],
   "source": [
    "\n",
    "optimizer = tf.keras.optimizers.Adam(learning_rate=lr_schedule)\n",
    "# model_cnn = CNN_Model()\n",
    "# model_cnn.summary()"
   ]
  },
  {
   "cell_type": "code",
   "execution_count": 19,
   "id": "c9aae9a8",
   "metadata": {
    "_kg_hide-output": true,
    "execution": {
     "iopub.execute_input": "2024-11-26T17:45:33.880355Z",
     "iopub.status.busy": "2024-11-26T17:45:33.880060Z",
     "iopub.status.idle": "2024-11-26T17:45:33.883660Z",
     "shell.execute_reply": "2024-11-26T17:45:33.882813Z"
    },
    "papermill": {
     "duration": 0.011011,
     "end_time": "2024-11-26T17:45:33.885316",
     "exception": false,
     "start_time": "2024-11-26T17:45:33.874305",
     "status": "completed"
    },
    "tags": []
   },
   "outputs": [],
   "source": [
    "# history_cnn = model_cnn.fit(x_train_dl ,y_train_dl, verbose=1, epochs=100, batch_size=256,validation_data=(x_val_dl,y_val_dl),callbacks=[early_stopping])"
   ]
  },
  {
   "cell_type": "code",
   "execution_count": 20,
   "id": "c3412f18",
   "metadata": {
    "execution": {
     "iopub.execute_input": "2024-11-26T17:45:33.895805Z",
     "iopub.status.busy": "2024-11-26T17:45:33.895514Z",
     "iopub.status.idle": "2024-11-26T17:45:34.124858Z",
     "shell.execute_reply": "2024-11-26T17:45:34.123894Z"
    },
    "papermill": {
     "duration": 0.236433,
     "end_time": "2024-11-26T17:45:34.126548",
     "exception": false,
     "start_time": "2024-11-26T17:45:33.890115",
     "status": "completed"
    },
    "tags": []
   },
   "outputs": [],
   "source": [
    "\n",
    "# Assuming you've identified unique attack types\n",
    "unique_attacks = sorted(list(set(y)))"
   ]
  },
  {
   "cell_type": "code",
   "execution_count": 21,
   "id": "e3ab8d84",
   "metadata": {
    "execution": {
     "iopub.execute_input": "2024-11-26T17:45:34.138267Z",
     "iopub.status.busy": "2024-11-26T17:45:34.137970Z",
     "iopub.status.idle": "2024-11-26T17:45:34.141881Z",
     "shell.execute_reply": "2024-11-26T17:45:34.140986Z"
    },
    "papermill": {
     "duration": 0.011683,
     "end_time": "2024-11-26T17:45:34.143406",
     "exception": false,
     "start_time": "2024-11-26T17:45:34.131723",
     "status": "completed"
    },
    "tags": []
   },
   "outputs": [],
   "source": [
    "num_classes = len(target_classes)"
   ]
  },
  {
   "cell_type": "code",
   "execution_count": 22,
   "id": "002942b7",
   "metadata": {
    "execution": {
     "iopub.execute_input": "2024-11-26T17:45:34.154524Z",
     "iopub.status.busy": "2024-11-26T17:45:34.154258Z",
     "iopub.status.idle": "2024-11-26T17:45:34.251703Z",
     "shell.execute_reply": "2024-11-26T17:45:34.250800Z"
    },
    "papermill": {
     "duration": 0.105129,
     "end_time": "2024-11-26T17:45:34.253520",
     "exception": false,
     "start_time": "2024-11-26T17:45:34.148391",
     "status": "completed"
    },
    "tags": []
   },
   "outputs": [],
   "source": [
    "from sklearn.ensemble import RandomForestClassifier\n",
    "from sklearn.feature_selection import SelectFromModel"
   ]
  },
  {
   "cell_type": "code",
   "execution_count": 23,
   "id": "efdec2bc",
   "metadata": {
    "execution": {
     "iopub.execute_input": "2024-11-26T17:45:34.264999Z",
     "iopub.status.busy": "2024-11-26T17:45:34.264677Z",
     "iopub.status.idle": "2024-11-26T17:45:34.268455Z",
     "shell.execute_reply": "2024-11-26T17:45:34.267831Z"
    },
    "papermill": {
     "duration": 0.01097,
     "end_time": "2024-11-26T17:45:34.269904",
     "exception": false,
     "start_time": "2024-11-26T17:45:34.258934",
     "status": "completed"
    },
    "tags": []
   },
   "outputs": [],
   "source": [
    "def train_random_forest(X, y):\n",
    "    rf = RandomForestClassifier()\n",
    "    rf.fit(X, y)\n",
    "    return rf"
   ]
  },
  {
   "cell_type": "code",
   "execution_count": 24,
   "id": "e343a729",
   "metadata": {
    "execution": {
     "iopub.execute_input": "2024-11-26T17:45:34.280720Z",
     "iopub.status.busy": "2024-11-26T17:45:34.280467Z",
     "iopub.status.idle": "2024-11-26T17:45:34.441866Z",
     "shell.execute_reply": "2024-11-26T17:45:34.440921Z"
    },
    "papermill": {
     "duration": 0.168696,
     "end_time": "2024-11-26T17:45:34.443486",
     "exception": false,
     "start_time": "2024-11-26T17:45:34.274790",
     "status": "completed"
    },
    "tags": []
   },
   "outputs": [
    {
     "data": {
      "text/html": [
       "<div>\n",
       "<style scoped>\n",
       "    .dataframe tbody tr th:only-of-type {\n",
       "        vertical-align: middle;\n",
       "    }\n",
       "\n",
       "    .dataframe tbody tr th {\n",
       "        vertical-align: top;\n",
       "    }\n",
       "\n",
       "    .dataframe thead th {\n",
       "        text-align: right;\n",
       "    }\n",
       "</style>\n",
       "<table border=\"1\" class=\"dataframe\">\n",
       "  <thead>\n",
       "    <tr style=\"text-align: right;\">\n",
       "      <th></th>\n",
       "      <th>IPV4_SRC_ADDR</th>\n",
       "      <th>L4_SRC_PORT</th>\n",
       "      <th>IPV4_DST_ADDR</th>\n",
       "      <th>L4_DST_PORT</th>\n",
       "      <th>PROTOCOL</th>\n",
       "      <th>L7_PROTO</th>\n",
       "      <th>IN_BYTES</th>\n",
       "      <th>IN_PKTS</th>\n",
       "      <th>OUT_BYTES</th>\n",
       "      <th>OUT_PKTS</th>\n",
       "      <th>...</th>\n",
       "      <th>NUM_PKTS_512_TO_1024_BYTES</th>\n",
       "      <th>NUM_PKTS_1024_TO_1514_BYTES</th>\n",
       "      <th>TCP_WIN_MAX_IN</th>\n",
       "      <th>TCP_WIN_MAX_OUT</th>\n",
       "      <th>ICMP_TYPE</th>\n",
       "      <th>ICMP_IPV4_TYPE</th>\n",
       "      <th>DNS_QUERY_ID</th>\n",
       "      <th>DNS_QUERY_TYPE</th>\n",
       "      <th>DNS_TTL_ANSWER</th>\n",
       "      <th>FTP_COMMAND_RET_CODE</th>\n",
       "    </tr>\n",
       "  </thead>\n",
       "  <tbody>\n",
       "    <tr>\n",
       "      <th>2829481</th>\n",
       "      <td>0.538815</td>\n",
       "      <td>0.393515</td>\n",
       "      <td>0.274445</td>\n",
       "      <td>0.001221</td>\n",
       "      <td>0.023529</td>\n",
       "      <td>0.028226</td>\n",
       "      <td>2.466209e-06</td>\n",
       "      <td>0.000003</td>\n",
       "      <td>0.000000e+00</td>\n",
       "      <td>0.000000</td>\n",
       "      <td>...</td>\n",
       "      <td>0.00000</td>\n",
       "      <td>0.0</td>\n",
       "      <td>0.007813</td>\n",
       "      <td>0.000000</td>\n",
       "      <td>0.0</td>\n",
       "      <td>0.0</td>\n",
       "      <td>0.0</td>\n",
       "      <td>0.0</td>\n",
       "      <td>0.0</td>\n",
       "      <td>0.0</td>\n",
       "    </tr>\n",
       "    <tr>\n",
       "      <th>1360815</th>\n",
       "      <td>0.538838</td>\n",
       "      <td>0.518914</td>\n",
       "      <td>0.274445</td>\n",
       "      <td>0.001221</td>\n",
       "      <td>0.023529</td>\n",
       "      <td>0.028226</td>\n",
       "      <td>2.466209e-06</td>\n",
       "      <td>0.000003</td>\n",
       "      <td>0.000000e+00</td>\n",
       "      <td>0.000000</td>\n",
       "      <td>...</td>\n",
       "      <td>0.00000</td>\n",
       "      <td>0.0</td>\n",
       "      <td>0.007813</td>\n",
       "      <td>0.000000</td>\n",
       "      <td>0.0</td>\n",
       "      <td>0.0</td>\n",
       "      <td>0.0</td>\n",
       "      <td>0.0</td>\n",
       "      <td>0.0</td>\n",
       "      <td>0.0</td>\n",
       "    </tr>\n",
       "    <tr>\n",
       "      <th>1566383</th>\n",
       "      <td>0.538792</td>\n",
       "      <td>0.685313</td>\n",
       "      <td>0.274746</td>\n",
       "      <td>0.001221</td>\n",
       "      <td>0.023529</td>\n",
       "      <td>0.028226</td>\n",
       "      <td>1.215233e-06</td>\n",
       "      <td>0.000000</td>\n",
       "      <td>2.050191e-07</td>\n",
       "      <td>0.000008</td>\n",
       "      <td>...</td>\n",
       "      <td>0.00000</td>\n",
       "      <td>0.0</td>\n",
       "      <td>0.007813</td>\n",
       "      <td>0.000000</td>\n",
       "      <td>0.0</td>\n",
       "      <td>0.0</td>\n",
       "      <td>0.0</td>\n",
       "      <td>0.0</td>\n",
       "      <td>0.0</td>\n",
       "      <td>0.0</td>\n",
       "    </tr>\n",
       "    <tr>\n",
       "      <th>505344</th>\n",
       "      <td>0.538815</td>\n",
       "      <td>0.452522</td>\n",
       "      <td>0.274595</td>\n",
       "      <td>0.001221</td>\n",
       "      <td>0.023529</td>\n",
       "      <td>0.028226</td>\n",
       "      <td>2.466209e-06</td>\n",
       "      <td>0.000003</td>\n",
       "      <td>0.000000e+00</td>\n",
       "      <td>0.000000</td>\n",
       "      <td>...</td>\n",
       "      <td>0.00000</td>\n",
       "      <td>0.0</td>\n",
       "      <td>0.007813</td>\n",
       "      <td>0.000000</td>\n",
       "      <td>0.0</td>\n",
       "      <td>0.0</td>\n",
       "      <td>0.0</td>\n",
       "      <td>0.0</td>\n",
       "      <td>0.0</td>\n",
       "      <td>0.0</td>\n",
       "    </tr>\n",
       "    <tr>\n",
       "      <th>3310944</th>\n",
       "      <td>0.538792</td>\n",
       "      <td>0.016663</td>\n",
       "      <td>0.274821</td>\n",
       "      <td>0.001221</td>\n",
       "      <td>0.023529</td>\n",
       "      <td>0.028226</td>\n",
       "      <td>2.466209e-06</td>\n",
       "      <td>0.000003</td>\n",
       "      <td>0.000000e+00</td>\n",
       "      <td>0.000000</td>\n",
       "      <td>...</td>\n",
       "      <td>0.00000</td>\n",
       "      <td>0.0</td>\n",
       "      <td>0.007813</td>\n",
       "      <td>0.000000</td>\n",
       "      <td>0.0</td>\n",
       "      <td>0.0</td>\n",
       "      <td>0.0</td>\n",
       "      <td>0.0</td>\n",
       "      <td>0.0</td>\n",
       "      <td>0.0</td>\n",
       "    </tr>\n",
       "    <tr>\n",
       "      <th>...</th>\n",
       "      <td>...</td>\n",
       "      <td>...</td>\n",
       "      <td>...</td>\n",
       "      <td>...</td>\n",
       "      <td>...</td>\n",
       "      <td>...</td>\n",
       "      <td>...</td>\n",
       "      <td>...</td>\n",
       "      <td>...</td>\n",
       "      <td>...</td>\n",
       "      <td>...</td>\n",
       "      <td>...</td>\n",
       "      <td>...</td>\n",
       "      <td>...</td>\n",
       "      <td>...</td>\n",
       "      <td>...</td>\n",
       "      <td>...</td>\n",
       "      <td>...</td>\n",
       "      <td>...</td>\n",
       "      <td>...</td>\n",
       "      <td>...</td>\n",
       "    </tr>\n",
       "    <tr>\n",
       "      <th>2276609</th>\n",
       "      <td>0.538815</td>\n",
       "      <td>0.806424</td>\n",
       "      <td>0.274445</td>\n",
       "      <td>0.001221</td>\n",
       "      <td>0.066667</td>\n",
       "      <td>0.758065</td>\n",
       "      <td>4.646480e-07</td>\n",
       "      <td>0.000003</td>\n",
       "      <td>0.000000e+00</td>\n",
       "      <td>0.000000</td>\n",
       "      <td>...</td>\n",
       "      <td>0.00000</td>\n",
       "      <td>0.0</td>\n",
       "      <td>0.000000</td>\n",
       "      <td>0.000000</td>\n",
       "      <td>0.0</td>\n",
       "      <td>0.0</td>\n",
       "      <td>0.0</td>\n",
       "      <td>0.0</td>\n",
       "      <td>0.0</td>\n",
       "      <td>0.0</td>\n",
       "    </tr>\n",
       "    <tr>\n",
       "      <th>3343964</th>\n",
       "      <td>0.347871</td>\n",
       "      <td>0.846952</td>\n",
       "      <td>0.234099</td>\n",
       "      <td>0.001221</td>\n",
       "      <td>0.023529</td>\n",
       "      <td>0.028226</td>\n",
       "      <td>4.682222e-06</td>\n",
       "      <td>0.000011</td>\n",
       "      <td>5.878924e-06</td>\n",
       "      <td>0.000038</td>\n",
       "      <td>...</td>\n",
       "      <td>0.00003</td>\n",
       "      <td>0.0</td>\n",
       "      <td>1.000000</td>\n",
       "      <td>0.410208</td>\n",
       "      <td>0.0</td>\n",
       "      <td>0.0</td>\n",
       "      <td>0.0</td>\n",
       "      <td>0.0</td>\n",
       "      <td>0.0</td>\n",
       "      <td>0.0</td>\n",
       "    </tr>\n",
       "    <tr>\n",
       "      <th>2814049</th>\n",
       "      <td>0.538518</td>\n",
       "      <td>0.524117</td>\n",
       "      <td>0.272036</td>\n",
       "      <td>0.096834</td>\n",
       "      <td>0.023529</td>\n",
       "      <td>0.000000</td>\n",
       "      <td>3.574216e-07</td>\n",
       "      <td>0.000000</td>\n",
       "      <td>2.050191e-07</td>\n",
       "      <td>0.000008</td>\n",
       "      <td>...</td>\n",
       "      <td>0.00000</td>\n",
       "      <td>0.0</td>\n",
       "      <td>0.015625</td>\n",
       "      <td>0.000000</td>\n",
       "      <td>0.0</td>\n",
       "      <td>0.0</td>\n",
       "      <td>0.0</td>\n",
       "      <td>0.0</td>\n",
       "      <td>0.0</td>\n",
       "      <td>0.0</td>\n",
       "    </tr>\n",
       "    <tr>\n",
       "      <th>175869</th>\n",
       "      <td>0.538792</td>\n",
       "      <td>0.898970</td>\n",
       "      <td>0.274595</td>\n",
       "      <td>0.001221</td>\n",
       "      <td>0.066667</td>\n",
       "      <td>0.758065</td>\n",
       "      <td>4.646480e-07</td>\n",
       "      <td>0.000003</td>\n",
       "      <td>0.000000e+00</td>\n",
       "      <td>0.000000</td>\n",
       "      <td>...</td>\n",
       "      <td>0.00000</td>\n",
       "      <td>0.0</td>\n",
       "      <td>0.000000</td>\n",
       "      <td>0.000000</td>\n",
       "      <td>0.0</td>\n",
       "      <td>0.0</td>\n",
       "      <td>0.0</td>\n",
       "      <td>0.0</td>\n",
       "      <td>0.0</td>\n",
       "      <td>0.0</td>\n",
       "    </tr>\n",
       "    <tr>\n",
       "      <th>351548</th>\n",
       "      <td>0.538860</td>\n",
       "      <td>0.611612</td>\n",
       "      <td>0.274445</td>\n",
       "      <td>0.001221</td>\n",
       "      <td>0.023529</td>\n",
       "      <td>0.028226</td>\n",
       "      <td>2.466209e-06</td>\n",
       "      <td>0.000003</td>\n",
       "      <td>0.000000e+00</td>\n",
       "      <td>0.000000</td>\n",
       "      <td>...</td>\n",
       "      <td>0.00000</td>\n",
       "      <td>0.0</td>\n",
       "      <td>0.007813</td>\n",
       "      <td>0.000000</td>\n",
       "      <td>0.0</td>\n",
       "      <td>0.0</td>\n",
       "      <td>0.0</td>\n",
       "      <td>0.0</td>\n",
       "      <td>0.0</td>\n",
       "      <td>0.0</td>\n",
       "    </tr>\n",
       "  </tbody>\n",
       "</table>\n",
       "<p>1947413 rows × 43 columns</p>\n",
       "</div>"
      ],
      "text/plain": [
       "         IPV4_SRC_ADDR  L4_SRC_PORT  IPV4_DST_ADDR  L4_DST_PORT  PROTOCOL  \\\n",
       "2829481       0.538815     0.393515       0.274445     0.001221  0.023529   \n",
       "1360815       0.538838     0.518914       0.274445     0.001221  0.023529   \n",
       "1566383       0.538792     0.685313       0.274746     0.001221  0.023529   \n",
       "505344        0.538815     0.452522       0.274595     0.001221  0.023529   \n",
       "3310944       0.538792     0.016663       0.274821     0.001221  0.023529   \n",
       "...                ...          ...            ...          ...       ...   \n",
       "2276609       0.538815     0.806424       0.274445     0.001221  0.066667   \n",
       "3343964       0.347871     0.846952       0.234099     0.001221  0.023529   \n",
       "2814049       0.538518     0.524117       0.272036     0.096834  0.023529   \n",
       "175869        0.538792     0.898970       0.274595     0.001221  0.066667   \n",
       "351548        0.538860     0.611612       0.274445     0.001221  0.023529   \n",
       "\n",
       "         L7_PROTO      IN_BYTES   IN_PKTS     OUT_BYTES  OUT_PKTS  ...  \\\n",
       "2829481  0.028226  2.466209e-06  0.000003  0.000000e+00  0.000000  ...   \n",
       "1360815  0.028226  2.466209e-06  0.000003  0.000000e+00  0.000000  ...   \n",
       "1566383  0.028226  1.215233e-06  0.000000  2.050191e-07  0.000008  ...   \n",
       "505344   0.028226  2.466209e-06  0.000003  0.000000e+00  0.000000  ...   \n",
       "3310944  0.028226  2.466209e-06  0.000003  0.000000e+00  0.000000  ...   \n",
       "...           ...           ...       ...           ...       ...  ...   \n",
       "2276609  0.758065  4.646480e-07  0.000003  0.000000e+00  0.000000  ...   \n",
       "3343964  0.028226  4.682222e-06  0.000011  5.878924e-06  0.000038  ...   \n",
       "2814049  0.000000  3.574216e-07  0.000000  2.050191e-07  0.000008  ...   \n",
       "175869   0.758065  4.646480e-07  0.000003  0.000000e+00  0.000000  ...   \n",
       "351548   0.028226  2.466209e-06  0.000003  0.000000e+00  0.000000  ...   \n",
       "\n",
       "         NUM_PKTS_512_TO_1024_BYTES  NUM_PKTS_1024_TO_1514_BYTES  \\\n",
       "2829481                     0.00000                          0.0   \n",
       "1360815                     0.00000                          0.0   \n",
       "1566383                     0.00000                          0.0   \n",
       "505344                      0.00000                          0.0   \n",
       "3310944                     0.00000                          0.0   \n",
       "...                             ...                          ...   \n",
       "2276609                     0.00000                          0.0   \n",
       "3343964                     0.00003                          0.0   \n",
       "2814049                     0.00000                          0.0   \n",
       "175869                      0.00000                          0.0   \n",
       "351548                      0.00000                          0.0   \n",
       "\n",
       "         TCP_WIN_MAX_IN  TCP_WIN_MAX_OUT  ICMP_TYPE  ICMP_IPV4_TYPE  \\\n",
       "2829481        0.007813         0.000000        0.0             0.0   \n",
       "1360815        0.007813         0.000000        0.0             0.0   \n",
       "1566383        0.007813         0.000000        0.0             0.0   \n",
       "505344         0.007813         0.000000        0.0             0.0   \n",
       "3310944        0.007813         0.000000        0.0             0.0   \n",
       "...                 ...              ...        ...             ...   \n",
       "2276609        0.000000         0.000000        0.0             0.0   \n",
       "3343964        1.000000         0.410208        0.0             0.0   \n",
       "2814049        0.015625         0.000000        0.0             0.0   \n",
       "175869         0.000000         0.000000        0.0             0.0   \n",
       "351548         0.007813         0.000000        0.0             0.0   \n",
       "\n",
       "         DNS_QUERY_ID  DNS_QUERY_TYPE  DNS_TTL_ANSWER  FTP_COMMAND_RET_CODE  \n",
       "2829481           0.0             0.0             0.0                   0.0  \n",
       "1360815           0.0             0.0             0.0                   0.0  \n",
       "1566383           0.0             0.0             0.0                   0.0  \n",
       "505344            0.0             0.0             0.0                   0.0  \n",
       "3310944           0.0             0.0             0.0                   0.0  \n",
       "...               ...             ...             ...                   ...  \n",
       "2276609           0.0             0.0             0.0                   0.0  \n",
       "3343964           0.0             0.0             0.0                   0.0  \n",
       "2814049           0.0             0.0             0.0                   0.0  \n",
       "175869            0.0             0.0             0.0                   0.0  \n",
       "351548            0.0             0.0             0.0                   0.0  \n",
       "\n",
       "[1947413 rows x 43 columns]"
      ]
     },
     "execution_count": 24,
     "metadata": {},
     "output_type": "execute_result"
    }
   ],
   "source": [
    "x_train_dl"
   ]
  },
  {
   "cell_type": "code",
   "execution_count": 25,
   "id": "39a15bb8",
   "metadata": {
    "execution": {
     "iopub.execute_input": "2024-11-26T17:45:34.455653Z",
     "iopub.status.busy": "2024-11-26T17:45:34.455368Z",
     "iopub.status.idle": "2024-11-26T17:45:34.459157Z",
     "shell.execute_reply": "2024-11-26T17:45:34.458338Z"
    },
    "papermill": {
     "duration": 0.011586,
     "end_time": "2024-11-26T17:45:34.460674",
     "exception": false,
     "start_time": "2024-11-26T17:45:34.449088",
     "status": "completed"
    },
    "tags": []
   },
   "outputs": [],
   "source": [
    "from sklearn.feature_selection import RFE\n",
    "from sklearn.ensemble import RandomForestClassifier"
   ]
  },
  {
   "cell_type": "code",
   "execution_count": 26,
   "id": "90f012d8",
   "metadata": {
    "execution": {
     "iopub.execute_input": "2024-11-26T17:45:34.472653Z",
     "iopub.status.busy": "2024-11-26T17:45:34.472400Z",
     "iopub.status.idle": "2024-11-26T17:45:34.477510Z",
     "shell.execute_reply": "2024-11-26T17:45:34.476665Z"
    },
    "papermill": {
     "duration": 0.012727,
     "end_time": "2024-11-26T17:45:34.479005",
     "exception": false,
     "start_time": "2024-11-26T17:45:34.466278",
     "status": "completed"
    },
    "tags": []
   },
   "outputs": [],
   "source": [
    "selected_features={\n",
    "    'Benign': ['IPV4_SRC_ADDR','IPV4_DST_ADDR','L4_DST_PORT','L7_PROTO','OUT_BYTES','OUT_PKTS','FLOW_DURATION_MILLISECONDS','DURATION_IN','MIN_TTL','MAX_TTL','LONGEST_FLOW_PKT','MIN_IP_PKT_LEN','DST_TO_SRC_AVG_THROUGHPUT','TCP_WIN_MAX_IN','TCP_WIN_MAX_OUT'],\n",
    "    'DDoS': ['IPV4_SRC_ADDR','L4_DST_PORT','L7_PROTO','IN_PKTS','OUT_BYTES','OUT_PKTS','DURATION_OUT','MIN_TTL','MAX_TTL','LONGEST_FLOW_PKT','MAX_IP_PKT_LEN','SRC_TO_DST_AVG_THROUGHPUT','DST_TO_SRC_AVG_THROUGHPUT','NUM_PKTS_UP_TO_128_BYTES','NUM_PKTS_128_TO_256_BYTES'],\n",
    "    'DoS': ['IPV4_DST_ADDR','L4_DST_PORT','PROTOCOL','L7_PROTO','TCP_FLAGS','FLOW_DURATION_MILLISECONDS','DURATION_OUT','LONGEST_FLOW_PKT','SHORTEST_FLOW_PKT','MAX_IP_PKT_LEN','SRC_TO_DST_AVG_THROUGHPUT', 'NUM_PKTS_UP_TO_128_BYTES','NUM_PKTS_128_TO_256_BYTES','TCP_WIN_MAX_IN','TCP_WIN_MAX_OUT'],\n",
    "    'Brute Force': ['IPV4_SRC_ADDR','IPV4_DST_ADDR','OUT_BYTES','OUT_PKTS','CLIENT_TCP_FLAGS','FLOW_DURATION_MILLISECONDS','DURATION_IN','LONGEST_FLOW_PKT','SHORTEST_FLOW_PKT','MAX_IP_PKT_LEN','SRC_TO_DST_AVG_THROUGHPUT','DST_TO_SRC_AVG_THROUGHPUT','NUM_PKTS_UP_TO_128_BYTES','NUM_PKTS_128_TO_256_BYTES','TCP_WIN_MAX_IN'],\n",
    "}"
   ]
  },
  {
   "cell_type": "code",
   "execution_count": 27,
   "id": "9019786a",
   "metadata": {
    "execution": {
     "iopub.execute_input": "2024-11-26T17:45:34.491033Z",
     "iopub.status.busy": "2024-11-26T17:45:34.490730Z",
     "iopub.status.idle": "2024-11-26T17:45:34.495881Z",
     "shell.execute_reply": "2024-11-26T17:45:34.495077Z"
    },
    "papermill": {
     "duration": 0.013102,
     "end_time": "2024-11-26T17:45:34.497443",
     "exception": false,
     "start_time": "2024-11-26T17:45:34.484341",
     "status": "completed"
    },
    "tags": []
   },
   "outputs": [
    {
     "data": {
      "text/plain": [
       "['IPV4_SRC_ADDR',\n",
       " 'IPV4_DST_ADDR',\n",
       " 'OUT_BYTES',\n",
       " 'OUT_PKTS',\n",
       " 'CLIENT_TCP_FLAGS',\n",
       " 'FLOW_DURATION_MILLISECONDS',\n",
       " 'DURATION_IN',\n",
       " 'LONGEST_FLOW_PKT',\n",
       " 'SHORTEST_FLOW_PKT',\n",
       " 'MAX_IP_PKT_LEN',\n",
       " 'SRC_TO_DST_AVG_THROUGHPUT',\n",
       " 'DST_TO_SRC_AVG_THROUGHPUT',\n",
       " 'NUM_PKTS_UP_TO_128_BYTES',\n",
       " 'NUM_PKTS_128_TO_256_BYTES',\n",
       " 'TCP_WIN_MAX_IN']"
      ]
     },
     "execution_count": 27,
     "metadata": {},
     "output_type": "execute_result"
    }
   ],
   "source": [
    "selected_features[classes[1]]"
   ]
  },
  {
   "cell_type": "code",
   "execution_count": 28,
   "id": "40b56615",
   "metadata": {
    "execution": {
     "iopub.execute_input": "2024-11-26T17:45:34.509577Z",
     "iopub.status.busy": "2024-11-26T17:45:34.509293Z",
     "iopub.status.idle": "2024-11-26T17:45:34.513093Z",
     "shell.execute_reply": "2024-11-26T17:45:34.512216Z"
    },
    "papermill": {
     "duration": 0.011825,
     "end_time": "2024-11-26T17:45:34.514732",
     "exception": false,
     "start_time": "2024-11-26T17:45:34.502907",
     "status": "completed"
    },
    "tags": []
   },
   "outputs": [],
   "source": [
    "models={}"
   ]
  },
  {
   "cell_type": "code",
   "execution_count": 29,
   "id": "cd147538",
   "metadata": {
    "execution": {
     "iopub.execute_input": "2024-11-26T17:45:34.526716Z",
     "iopub.status.busy": "2024-11-26T17:45:34.526462Z",
     "iopub.status.idle": "2024-11-26T19:43:00.873081Z",
     "shell.execute_reply": "2024-11-26T19:43:00.872088Z"
    },
    "papermill": {
     "duration": 7046.354409,
     "end_time": "2024-11-26T19:43:00.874738",
     "exception": false,
     "start_time": "2024-11-26T17:45:34.520329",
     "status": "completed"
    },
    "tags": []
   },
   "outputs": [
    {
     "name": "stdout",
     "output_type": "stream",
     "text": [
      "Training for Benign\n",
      "Selecting features\n",
      "Training CNN model\n",
      "Epoch 1/100\n",
      "\u001b[1m7608/7608\u001b[0m \u001b[32m━━━━━━━━━━━━━━━━━━━━\u001b[0m\u001b[37m\u001b[0m \u001b[1m57s\u001b[0m 7ms/step - accuracy: 0.9616 - loss: 0.0982 - val_accuracy: 0.9812 - val_loss: 0.0416\n",
      "Epoch 2/100\n",
      "\u001b[1m7608/7608\u001b[0m \u001b[32m━━━━━━━━━━━━━━━━━━━━\u001b[0m\u001b[37m\u001b[0m \u001b[1m52s\u001b[0m 7ms/step - accuracy: 0.9817 - loss: 0.0443 - val_accuracy: 0.9866 - val_loss: 0.0345\n",
      "Epoch 3/100\n",
      "\u001b[1m7608/7608\u001b[0m \u001b[32m━━━━━━━━━━━━━━━━━━━━\u001b[0m\u001b[37m\u001b[0m \u001b[1m52s\u001b[0m 7ms/step - accuracy: 0.9897 - loss: 0.0278 - val_accuracy: 0.9680 - val_loss: 0.0680\n",
      "Epoch 4/100\n",
      "\u001b[1m7608/7608\u001b[0m \u001b[32m━━━━━━━━━━━━━━━━━━━━\u001b[0m\u001b[37m\u001b[0m \u001b[1m52s\u001b[0m 7ms/step - accuracy: 0.9926 - loss: 0.0209 - val_accuracy: 0.9946 - val_loss: 0.0165\n",
      "Epoch 5/100\n",
      "\u001b[1m7608/7608\u001b[0m \u001b[32m━━━━━━━━━━━━━━━━━━━━\u001b[0m\u001b[37m\u001b[0m \u001b[1m52s\u001b[0m 7ms/step - accuracy: 0.9935 - loss: 0.0182 - val_accuracy: 0.9941 - val_loss: 0.0170\n",
      "Epoch 6/100\n",
      "\u001b[1m7608/7608\u001b[0m \u001b[32m━━━━━━━━━━━━━━━━━━━━\u001b[0m\u001b[37m\u001b[0m \u001b[1m53s\u001b[0m 7ms/step - accuracy: 0.9941 - loss: 0.0168 - val_accuracy: 0.9952 - val_loss: 0.0144\n",
      "Epoch 7/100\n",
      "\u001b[1m7608/7608\u001b[0m \u001b[32m━━━━━━━━━━━━━━━━━━━━\u001b[0m\u001b[37m\u001b[0m \u001b[1m52s\u001b[0m 7ms/step - accuracy: 0.9945 - loss: 0.0155 - val_accuracy: 0.9954 - val_loss: 0.0129\n",
      "Epoch 8/100\n",
      "\u001b[1m7608/7608\u001b[0m \u001b[32m━━━━━━━━━━━━━━━━━━━━\u001b[0m\u001b[37m\u001b[0m \u001b[1m53s\u001b[0m 7ms/step - accuracy: 0.9949 - loss: 0.0141 - val_accuracy: 0.9857 - val_loss: 0.0357\n",
      "Epoch 9/100\n",
      "\u001b[1m7608/7608\u001b[0m \u001b[32m━━━━━━━━━━━━━━━━━━━━\u001b[0m\u001b[37m\u001b[0m \u001b[1m52s\u001b[0m 7ms/step - accuracy: 0.9949 - loss: 0.0142 - val_accuracy: 0.9960 - val_loss: 0.0109\n",
      "Epoch 10/100\n",
      "\u001b[1m7608/7608\u001b[0m \u001b[32m━━━━━━━━━━━━━━━━━━━━\u001b[0m\u001b[37m\u001b[0m \u001b[1m53s\u001b[0m 7ms/step - accuracy: 0.9952 - loss: 0.0131 - val_accuracy: 0.9959 - val_loss: 0.0106\n",
      "Epoch 11/100\n",
      "\u001b[1m7608/7608\u001b[0m \u001b[32m━━━━━━━━━━━━━━━━━━━━\u001b[0m\u001b[37m\u001b[0m \u001b[1m53s\u001b[0m 7ms/step - accuracy: 0.9955 - loss: 0.0124 - val_accuracy: 0.9956 - val_loss: 0.0132\n",
      "Epoch 12/100\n",
      "\u001b[1m7608/7608\u001b[0m \u001b[32m━━━━━━━━━━━━━━━━━━━━\u001b[0m\u001b[37m\u001b[0m \u001b[1m53s\u001b[0m 7ms/step - accuracy: 0.9955 - loss: 0.0122 - val_accuracy: 0.9962 - val_loss: 0.0109\n",
      "Epoch 13/100\n",
      "\u001b[1m7608/7608\u001b[0m \u001b[32m━━━━━━━━━━━━━━━━━━━━\u001b[0m\u001b[37m\u001b[0m \u001b[1m53s\u001b[0m 7ms/step - accuracy: 0.9957 - loss: 0.0117 - val_accuracy: 0.9965 - val_loss: 0.0094\n",
      "Epoch 14/100\n",
      "\u001b[1m7608/7608\u001b[0m \u001b[32m━━━━━━━━━━━━━━━━━━━━\u001b[0m\u001b[37m\u001b[0m \u001b[1m53s\u001b[0m 7ms/step - accuracy: 0.9958 - loss: 0.0115 - val_accuracy: 0.9963 - val_loss: 0.0097\n",
      "Epoch 15/100\n",
      "\u001b[1m7608/7608\u001b[0m \u001b[32m━━━━━━━━━━━━━━━━━━━━\u001b[0m\u001b[37m\u001b[0m \u001b[1m53s\u001b[0m 7ms/step - accuracy: 0.9959 - loss: 0.0110 - val_accuracy: 0.9967 - val_loss: 0.0091\n",
      "Epoch 16/100\n",
      "\u001b[1m7608/7608\u001b[0m \u001b[32m━━━━━━━━━━━━━━━━━━━━\u001b[0m\u001b[37m\u001b[0m \u001b[1m53s\u001b[0m 7ms/step - accuracy: 0.9959 - loss: 0.0110 - val_accuracy: 0.9968 - val_loss: 0.0091\n",
      "Epoch 17/100\n",
      "\u001b[1m7608/7608\u001b[0m \u001b[32m━━━━━━━━━━━━━━━━━━━━\u001b[0m\u001b[37m\u001b[0m \u001b[1m53s\u001b[0m 7ms/step - accuracy: 0.9961 - loss: 0.0107 - val_accuracy: 0.9964 - val_loss: 0.0094\n",
      "Epoch 18/100\n",
      "\u001b[1m7608/7608\u001b[0m \u001b[32m━━━━━━━━━━━━━━━━━━━━\u001b[0m\u001b[37m\u001b[0m \u001b[1m53s\u001b[0m 7ms/step - accuracy: 0.9961 - loss: 0.0105 - val_accuracy: 0.9963 - val_loss: 0.0094\n",
      "Epoch 19/100\n",
      "\u001b[1m7608/7608\u001b[0m \u001b[32m━━━━━━━━━━━━━━━━━━━━\u001b[0m\u001b[37m\u001b[0m \u001b[1m53s\u001b[0m 7ms/step - accuracy: 0.9961 - loss: 0.0104 - val_accuracy: 0.9967 - val_loss: 0.0089\n",
      "Epoch 20/100\n",
      "\u001b[1m7608/7608\u001b[0m \u001b[32m━━━━━━━━━━━━━━━━━━━━\u001b[0m\u001b[37m\u001b[0m \u001b[1m53s\u001b[0m 7ms/step - accuracy: 0.9962 - loss: 0.0103 - val_accuracy: 0.9967 - val_loss: 0.0091\n",
      "Epoch 21/100\n",
      "\u001b[1m7608/7608\u001b[0m \u001b[32m━━━━━━━━━━━━━━━━━━━━\u001b[0m\u001b[37m\u001b[0m \u001b[1m53s\u001b[0m 7ms/step - accuracy: 0.9963 - loss: 0.0101 - val_accuracy: 0.9969 - val_loss: 0.0086\n",
      "Epoch 22/100\n",
      "\u001b[1m7608/7608\u001b[0m \u001b[32m━━━━━━━━━━━━━━━━━━━━\u001b[0m\u001b[37m\u001b[0m \u001b[1m53s\u001b[0m 7ms/step - accuracy: 0.9964 - loss: 0.0100 - val_accuracy: 0.9968 - val_loss: 0.0086\n",
      "Epoch 23/100\n",
      "\u001b[1m7608/7608\u001b[0m \u001b[32m━━━━━━━━━━━━━━━━━━━━\u001b[0m\u001b[37m\u001b[0m \u001b[1m53s\u001b[0m 7ms/step - accuracy: 0.9962 - loss: 0.0101 - val_accuracy: 0.9970 - val_loss: 0.0084\n",
      "Epoch 24/100\n",
      "\u001b[1m7608/7608\u001b[0m \u001b[32m━━━━━━━━━━━━━━━━━━━━\u001b[0m\u001b[37m\u001b[0m \u001b[1m53s\u001b[0m 7ms/step - accuracy: 0.9965 - loss: 0.0097 - val_accuracy: 0.9964 - val_loss: 0.0092\n",
      "Epoch 25/100\n",
      "\u001b[1m7608/7608\u001b[0m \u001b[32m━━━━━━━━━━━━━━━━━━━━\u001b[0m\u001b[37m\u001b[0m \u001b[1m53s\u001b[0m 7ms/step - accuracy: 0.9965 - loss: 0.0096 - val_accuracy: 0.9966 - val_loss: 0.0090\n",
      "Epoch 26/100\n",
      "\u001b[1m7608/7608\u001b[0m \u001b[32m━━━━━━━━━━━━━━━━━━━━\u001b[0m\u001b[37m\u001b[0m \u001b[1m53s\u001b[0m 7ms/step - accuracy: 0.9964 - loss: 0.0097 - val_accuracy: 0.9965 - val_loss: 0.0093\n",
      "Epoch 27/100\n",
      "\u001b[1m7608/7608\u001b[0m \u001b[32m━━━━━━━━━━━━━━━━━━━━\u001b[0m\u001b[37m\u001b[0m \u001b[1m53s\u001b[0m 7ms/step - accuracy: 0.9965 - loss: 0.0096 - val_accuracy: 0.9968 - val_loss: 0.0086\n",
      "Epoch 28/100\n",
      "\u001b[1m7608/7608\u001b[0m \u001b[32m━━━━━━━━━━━━━━━━━━━━\u001b[0m\u001b[37m\u001b[0m \u001b[1m53s\u001b[0m 7ms/step - accuracy: 0.9965 - loss: 0.0094 - val_accuracy: 0.9968 - val_loss: 0.0083\n",
      "Epoch 29/100\n",
      "\u001b[1m7608/7608\u001b[0m \u001b[32m━━━━━━━━━━━━━━━━━━━━\u001b[0m\u001b[37m\u001b[0m \u001b[1m53s\u001b[0m 7ms/step - accuracy: 0.9966 - loss: 0.0093 - val_accuracy: 0.9968 - val_loss: 0.0086\n",
      "Epoch 30/100\n",
      "\u001b[1m7608/7608\u001b[0m \u001b[32m━━━━━━━━━━━━━━━━━━━━\u001b[0m\u001b[37m\u001b[0m \u001b[1m53s\u001b[0m 7ms/step - accuracy: 0.9965 - loss: 0.0094 - val_accuracy: 0.9969 - val_loss: 0.0084\n",
      "Epoch 31/100\n",
      "\u001b[1m7608/7608\u001b[0m \u001b[32m━━━━━━━━━━━━━━━━━━━━\u001b[0m\u001b[37m\u001b[0m \u001b[1m53s\u001b[0m 7ms/step - accuracy: 0.9965 - loss: 0.0094 - val_accuracy: 0.9969 - val_loss: 0.0082\n",
      "Epoch 32/100\n",
      "\u001b[1m7608/7608\u001b[0m \u001b[32m━━━━━━━━━━━━━━━━━━━━\u001b[0m\u001b[37m\u001b[0m \u001b[1m53s\u001b[0m 7ms/step - accuracy: 0.9967 - loss: 0.0092 - val_accuracy: 0.9971 - val_loss: 0.0080\n",
      "Epoch 33/100\n",
      "\u001b[1m7608/7608\u001b[0m \u001b[32m━━━━━━━━━━━━━━━━━━━━\u001b[0m\u001b[37m\u001b[0m \u001b[1m52s\u001b[0m 7ms/step - accuracy: 0.9966 - loss: 0.0093 - val_accuracy: 0.9968 - val_loss: 0.0085\n",
      "Epoch 34/100\n",
      "\u001b[1m7608/7608\u001b[0m \u001b[32m━━━━━━━━━━━━━━━━━━━━\u001b[0m\u001b[37m\u001b[0m \u001b[1m53s\u001b[0m 7ms/step - accuracy: 0.9967 - loss: 0.0090 - val_accuracy: 0.9970 - val_loss: 0.0087\n",
      "Epoch 35/100\n",
      "\u001b[1m7608/7608\u001b[0m \u001b[32m━━━━━━━━━━━━━━━━━━━━\u001b[0m\u001b[37m\u001b[0m \u001b[1m52s\u001b[0m 7ms/step - accuracy: 0.9967 - loss: 0.0092 - val_accuracy: 0.9971 - val_loss: 0.0081\n",
      "Epoch 36/100\n",
      "\u001b[1m7608/7608\u001b[0m \u001b[32m━━━━━━━━━━━━━━━━━━━━\u001b[0m\u001b[37m\u001b[0m \u001b[1m52s\u001b[0m 7ms/step - accuracy: 0.9967 - loss: 0.0090 - val_accuracy: 0.9972 - val_loss: 0.0082\n",
      "Epoch 37/100\n",
      "\u001b[1m7608/7608\u001b[0m \u001b[32m━━━━━━━━━━━━━━━━━━━━\u001b[0m\u001b[37m\u001b[0m \u001b[1m52s\u001b[0m 7ms/step - accuracy: 0.9967 - loss: 0.0090 - val_accuracy: 0.9969 - val_loss: 0.0083\n",
      "Epoch 38/100\n",
      "\u001b[1m7608/7608\u001b[0m \u001b[32m━━━━━━━━━━━━━━━━━━━━\u001b[0m\u001b[37m\u001b[0m \u001b[1m52s\u001b[0m 7ms/step - accuracy: 0.9968 - loss: 0.0088 - val_accuracy: 0.9970 - val_loss: 0.0081\n",
      "Epoch 39/100\n",
      "\u001b[1m7608/7608\u001b[0m \u001b[32m━━━━━━━━━━━━━━━━━━━━\u001b[0m\u001b[37m\u001b[0m \u001b[1m52s\u001b[0m 7ms/step - accuracy: 0.9967 - loss: 0.0091 - val_accuracy: 0.9971 - val_loss: 0.0078\n",
      "Epoch 40/100\n",
      "\u001b[1m7608/7608\u001b[0m \u001b[32m━━━━━━━━━━━━━━━━━━━━\u001b[0m\u001b[37m\u001b[0m \u001b[1m52s\u001b[0m 7ms/step - accuracy: 0.9968 - loss: 0.0086 - val_accuracy: 0.9970 - val_loss: 0.0083\n",
      "Epoch 41/100\n",
      "\u001b[1m7608/7608\u001b[0m \u001b[32m━━━━━━━━━━━━━━━━━━━━\u001b[0m\u001b[37m\u001b[0m \u001b[1m52s\u001b[0m 7ms/step - accuracy: 0.9968 - loss: 0.0087 - val_accuracy: 0.9971 - val_loss: 0.0078\n",
      "Epoch 42/100\n",
      "\u001b[1m7608/7608\u001b[0m \u001b[32m━━━━━━━━━━━━━━━━━━━━\u001b[0m\u001b[37m\u001b[0m \u001b[1m52s\u001b[0m 7ms/step - accuracy: 0.9967 - loss: 0.0088 - val_accuracy: 0.9971 - val_loss: 0.0077\n",
      "Epoch 43/100\n",
      "\u001b[1m7608/7608\u001b[0m \u001b[32m━━━━━━━━━━━━━━━━━━━━\u001b[0m\u001b[37m\u001b[0m \u001b[1m52s\u001b[0m 7ms/step - accuracy: 0.9968 - loss: 0.0086 - val_accuracy: 0.9971 - val_loss: 0.0079\n",
      "Epoch 44/100\n",
      "\u001b[1m7608/7608\u001b[0m \u001b[32m━━━━━━━━━━━━━━━━━━━━\u001b[0m\u001b[37m\u001b[0m \u001b[1m51s\u001b[0m 7ms/step - accuracy: 0.9968 - loss: 0.0086 - val_accuracy: 0.9971 - val_loss: 0.0081\n",
      "Epoch 45/100\n",
      "\u001b[1m7608/7608\u001b[0m \u001b[32m━━━━━━━━━━━━━━━━━━━━\u001b[0m\u001b[37m\u001b[0m \u001b[1m52s\u001b[0m 7ms/step - accuracy: 0.9969 - loss: 0.0085 - val_accuracy: 0.9969 - val_loss: 0.0081\n",
      "Epoch 46/100\n",
      "\u001b[1m7608/7608\u001b[0m \u001b[32m━━━━━━━━━━━━━━━━━━━━\u001b[0m\u001b[37m\u001b[0m \u001b[1m51s\u001b[0m 7ms/step - accuracy: 0.9969 - loss: 0.0083 - val_accuracy: 0.9970 - val_loss: 0.0079\n",
      "Epoch 47/100\n",
      "\u001b[1m7608/7608\u001b[0m \u001b[32m━━━━━━━━━━━━━━━━━━━━\u001b[0m\u001b[37m\u001b[0m \u001b[1m52s\u001b[0m 7ms/step - accuracy: 0.9969 - loss: 0.0083 - val_accuracy: 0.9968 - val_loss: 0.0080\n",
      "Epoch 48/100\n",
      "\u001b[1m7608/7608\u001b[0m \u001b[32m━━━━━━━━━━━━━━━━━━━━\u001b[0m\u001b[37m\u001b[0m \u001b[1m52s\u001b[0m 7ms/step - accuracy: 0.9968 - loss: 0.0082 - val_accuracy: 0.9973 - val_loss: 0.0088\n",
      "Epoch 49/100\n",
      "\u001b[1m7608/7608\u001b[0m \u001b[32m━━━━━━━━━━━━━━━━━━━━\u001b[0m\u001b[37m\u001b[0m \u001b[1m52s\u001b[0m 7ms/step - accuracy: 0.9968 - loss: 0.0082 - val_accuracy: 0.9979 - val_loss: 0.0088\n",
      "Epoch 50/100\n",
      "\u001b[1m7608/7608\u001b[0m \u001b[32m━━━━━━━━━━━━━━━━━━━━\u001b[0m\u001b[37m\u001b[0m \u001b[1m52s\u001b[0m 7ms/step - accuracy: 0.9970 - loss: 0.0079 - val_accuracy: 0.9957 - val_loss: 0.0106\n",
      "Epoch 51/100\n",
      "\u001b[1m7608/7608\u001b[0m \u001b[32m━━━━━━━━━━━━━━━━━━━━\u001b[0m\u001b[37m\u001b[0m \u001b[1m52s\u001b[0m 7ms/step - accuracy: 0.9970 - loss: 0.0079 - val_accuracy: 0.9979 - val_loss: 0.0068\n",
      "Epoch 52/100\n",
      "\u001b[1m7608/7608\u001b[0m \u001b[32m━━━━━━━━━━━━━━━━━━━━\u001b[0m\u001b[37m\u001b[0m \u001b[1m52s\u001b[0m 7ms/step - accuracy: 0.9972 - loss: 0.0077 - val_accuracy: 0.9979 - val_loss: 0.0066\n",
      "Epoch 53/100\n",
      "\u001b[1m7608/7608\u001b[0m \u001b[32m━━━━━━━━━━━━━━━━━━━━\u001b[0m\u001b[37m\u001b[0m \u001b[1m53s\u001b[0m 7ms/step - accuracy: 0.9972 - loss: 0.0076 - val_accuracy: 0.9980 - val_loss: 0.0066\n",
      "Epoch 54/100\n",
      "\u001b[1m7608/7608\u001b[0m \u001b[32m━━━━━━━━━━━━━━━━━━━━\u001b[0m\u001b[37m\u001b[0m \u001b[1m54s\u001b[0m 7ms/step - accuracy: 0.9973 - loss: 0.0074 - val_accuracy: 0.9942 - val_loss: 0.0097\n",
      "Epoch 55/100\n",
      "\u001b[1m7608/7608\u001b[0m \u001b[32m━━━━━━━━━━━━━━━━━━━━\u001b[0m\u001b[37m\u001b[0m \u001b[1m54s\u001b[0m 7ms/step - accuracy: 0.9973 - loss: 0.0073 - val_accuracy: 0.9973 - val_loss: 0.0070\n",
      "Epoch 56/100\n",
      "\u001b[1m7608/7608\u001b[0m \u001b[32m━━━━━━━━━━━━━━━━━━━━\u001b[0m\u001b[37m\u001b[0m \u001b[1m52s\u001b[0m 7ms/step - accuracy: 0.9974 - loss: 0.0071 - val_accuracy: 0.9980 - val_loss: 0.0057\n",
      "Epoch 57/100\n",
      "\u001b[1m7608/7608\u001b[0m \u001b[32m━━━━━━━━━━━━━━━━━━━━\u001b[0m\u001b[37m\u001b[0m \u001b[1m52s\u001b[0m 7ms/step - accuracy: 0.9975 - loss: 0.0067 - val_accuracy: 0.9973 - val_loss: 0.0057\n",
      "Epoch 58/100\n",
      "\u001b[1m7608/7608\u001b[0m \u001b[32m━━━━━━━━━━━━━━━━━━━━\u001b[0m\u001b[37m\u001b[0m \u001b[1m52s\u001b[0m 7ms/step - accuracy: 0.9976 - loss: 0.0065 - val_accuracy: 0.9988 - val_loss: 0.0059\n",
      "Epoch 59/100\n",
      "\u001b[1m7608/7608\u001b[0m \u001b[32m━━━━━━━━━━━━━━━━━━━━\u001b[0m\u001b[37m\u001b[0m \u001b[1m52s\u001b[0m 7ms/step - accuracy: 0.9978 - loss: 0.0061 - val_accuracy: 0.9984 - val_loss: 0.0057\n",
      "Epoch 60/100\n",
      "\u001b[1m7608/7608\u001b[0m \u001b[32m━━━━━━━━━━━━━━━━━━━━\u001b[0m\u001b[37m\u001b[0m \u001b[1m52s\u001b[0m 7ms/step - accuracy: 0.9979 - loss: 0.0060 - val_accuracy: 0.9981 - val_loss: 0.0045\n",
      "Epoch 61/100\n",
      "\u001b[1m7608/7608\u001b[0m \u001b[32m━━━━━━━━━━━━━━━━━━━━\u001b[0m\u001b[37m\u001b[0m \u001b[1m53s\u001b[0m 7ms/step - accuracy: 0.9981 - loss: 0.0055 - val_accuracy: 0.9984 - val_loss: 0.0046\n",
      "Epoch 62/100\n",
      "\u001b[1m7608/7608\u001b[0m \u001b[32m━━━━━━━━━━━━━━━━━━━━\u001b[0m\u001b[37m\u001b[0m \u001b[1m52s\u001b[0m 7ms/step - accuracy: 0.9982 - loss: 0.0054 - val_accuracy: 0.9987 - val_loss: 0.0041\n",
      "Epoch 63/100\n",
      "\u001b[1m7608/7608\u001b[0m \u001b[32m━━━━━━━━━━━━━━━━━━━━\u001b[0m\u001b[37m\u001b[0m \u001b[1m53s\u001b[0m 7ms/step - accuracy: 0.9983 - loss: 0.0050 - val_accuracy: 0.9988 - val_loss: 0.0038\n",
      "Epoch 64/100\n",
      "\u001b[1m7608/7608\u001b[0m \u001b[32m━━━━━━━━━━━━━━━━━━━━\u001b[0m\u001b[37m\u001b[0m \u001b[1m52s\u001b[0m 7ms/step - accuracy: 0.9984 - loss: 0.0049 - val_accuracy: 0.9990 - val_loss: 0.0038\n",
      "Epoch 65/100\n",
      "\u001b[1m7608/7608\u001b[0m \u001b[32m━━━━━━━━━━━━━━━━━━━━\u001b[0m\u001b[37m\u001b[0m \u001b[1m53s\u001b[0m 7ms/step - accuracy: 0.9984 - loss: 0.0047 - val_accuracy: 0.9989 - val_loss: 0.0034\n",
      "Epoch 66/100\n",
      "\u001b[1m7608/7608\u001b[0m \u001b[32m━━━━━━━━━━━━━━━━━━━━\u001b[0m\u001b[37m\u001b[0m \u001b[1m52s\u001b[0m 7ms/step - accuracy: 0.9985 - loss: 0.0048 - val_accuracy: 0.9989 - val_loss: 0.0038\n",
      "Epoch 67/100\n",
      "\u001b[1m7608/7608\u001b[0m \u001b[32m━━━━━━━━━━━━━━━━━━━━\u001b[0m\u001b[37m\u001b[0m \u001b[1m53s\u001b[0m 7ms/step - accuracy: 0.9985 - loss: 0.0046 - val_accuracy: 0.9990 - val_loss: 0.0035\n",
      "Epoch 68/100\n",
      "\u001b[1m7608/7608\u001b[0m \u001b[32m━━━━━━━━━━━━━━━━━━━━\u001b[0m\u001b[37m\u001b[0m \u001b[1m52s\u001b[0m 7ms/step - accuracy: 0.9986 - loss: 0.0044 - val_accuracy: 0.9981 - val_loss: 0.0042\n",
      "Epoch 69/100\n",
      "\u001b[1m7608/7608\u001b[0m \u001b[32m━━━━━━━━━━━━━━━━━━━━\u001b[0m\u001b[37m\u001b[0m \u001b[1m53s\u001b[0m 7ms/step - accuracy: 0.9986 - loss: 0.0044 - val_accuracy: 0.9990 - val_loss: 0.0034\n",
      "Epoch 70/100\n",
      "\u001b[1m7608/7608\u001b[0m \u001b[32m━━━━━━━━━━━━━━━━━━━━\u001b[0m\u001b[37m\u001b[0m \u001b[1m53s\u001b[0m 7ms/step - accuracy: 0.9986 - loss: 0.0043 - val_accuracy: 0.9988 - val_loss: 0.0036\n",
      "Epoch 71/100\n",
      "\u001b[1m7608/7608\u001b[0m \u001b[32m━━━━━━━━━━━━━━━━━━━━\u001b[0m\u001b[37m\u001b[0m \u001b[1m54s\u001b[0m 7ms/step - accuracy: 0.9986 - loss: 0.0044 - val_accuracy: 0.9988 - val_loss: 0.0036\n",
      "Epoch 72/100\n",
      "\u001b[1m7608/7608\u001b[0m \u001b[32m━━━━━━━━━━━━━━━━━━━━\u001b[0m\u001b[37m\u001b[0m \u001b[1m54s\u001b[0m 7ms/step - accuracy: 0.9986 - loss: 0.0043 - val_accuracy: 0.9990 - val_loss: 0.0034\n",
      "Epoch 73/100\n",
      "\u001b[1m7608/7608\u001b[0m \u001b[32m━━━━━━━━━━━━━━━━━━━━\u001b[0m\u001b[37m\u001b[0m \u001b[1m54s\u001b[0m 7ms/step - accuracy: 0.9987 - loss: 0.0041 - val_accuracy: 0.9990 - val_loss: 0.0036\n",
      "Epoch 74/100\n",
      "\u001b[1m7608/7608\u001b[0m \u001b[32m━━━━━━━━━━━━━━━━━━━━\u001b[0m\u001b[37m\u001b[0m \u001b[1m53s\u001b[0m 7ms/step - accuracy: 0.9986 - loss: 0.0042 - val_accuracy: 0.9991 - val_loss: 0.0035\n",
      "Epoch 75/100\n",
      "\u001b[1m7608/7608\u001b[0m \u001b[32m━━━━━━━━━━━━━━━━━━━━\u001b[0m\u001b[37m\u001b[0m \u001b[1m53s\u001b[0m 7ms/step - accuracy: 0.9986 - loss: 0.0043 - val_accuracy: 0.9989 - val_loss: 0.0034\n",
      "Epoch 76/100\n",
      "\u001b[1m7608/7608\u001b[0m \u001b[32m━━━━━━━━━━━━━━━━━━━━\u001b[0m\u001b[37m\u001b[0m \u001b[1m53s\u001b[0m 7ms/step - accuracy: 0.9987 - loss: 0.0041 - val_accuracy: 0.9990 - val_loss: 0.0031\n",
      "Epoch 77/100\n",
      "\u001b[1m7608/7608\u001b[0m \u001b[32m━━━━━━━━━━━━━━━━━━━━\u001b[0m\u001b[37m\u001b[0m \u001b[1m53s\u001b[0m 7ms/step - accuracy: 0.9987 - loss: 0.0041 - val_accuracy: 0.9989 - val_loss: 0.0034\n",
      "Epoch 78/100\n",
      "\u001b[1m7608/7608\u001b[0m \u001b[32m━━━━━━━━━━━━━━━━━━━━\u001b[0m\u001b[37m\u001b[0m \u001b[1m53s\u001b[0m 7ms/step - accuracy: 0.9987 - loss: 0.0041 - val_accuracy: 0.9991 - val_loss: 0.0034\n",
      "Epoch 79/100\n",
      "\u001b[1m7608/7608\u001b[0m \u001b[32m━━━━━━━━━━━━━━━━━━━━\u001b[0m\u001b[37m\u001b[0m \u001b[1m55s\u001b[0m 7ms/step - accuracy: 0.9986 - loss: 0.0043 - val_accuracy: 0.9990 - val_loss: 0.0031\n",
      "Epoch 80/100\n",
      "\u001b[1m7608/7608\u001b[0m \u001b[32m━━━━━━━━━━━━━━━━━━━━\u001b[0m\u001b[37m\u001b[0m \u001b[1m54s\u001b[0m 7ms/step - accuracy: 0.9987 - loss: 0.0041 - val_accuracy: 0.9990 - val_loss: 0.0032\n",
      "Epoch 81/100\n",
      "\u001b[1m7608/7608\u001b[0m \u001b[32m━━━━━━━━━━━━━━━━━━━━\u001b[0m\u001b[37m\u001b[0m \u001b[1m54s\u001b[0m 7ms/step - accuracy: 0.9987 - loss: 0.0040 - val_accuracy: 0.9990 - val_loss: 0.0033\n",
      "Epoch 82/100\n",
      "\u001b[1m7608/7608\u001b[0m \u001b[32m━━━━━━━━━━━━━━━━━━━━\u001b[0m\u001b[37m\u001b[0m \u001b[1m52s\u001b[0m 7ms/step - accuracy: 0.9987 - loss: 0.0040 - val_accuracy: 0.9989 - val_loss: 0.0038\n",
      "Epoch 83/100\n",
      "\u001b[1m7608/7608\u001b[0m \u001b[32m━━━━━━━━━━━━━━━━━━━━\u001b[0m\u001b[37m\u001b[0m \u001b[1m53s\u001b[0m 7ms/step - accuracy: 0.9987 - loss: 0.0041 - val_accuracy: 0.9990 - val_loss: 0.0032\n",
      "Epoch 84/100\n",
      "\u001b[1m7608/7608\u001b[0m \u001b[32m━━━━━━━━━━━━━━━━━━━━\u001b[0m\u001b[37m\u001b[0m \u001b[1m52s\u001b[0m 7ms/step - accuracy: 0.9988 - loss: 0.0038 - val_accuracy: 0.9990 - val_loss: 0.0033\n",
      "Epoch 85/100\n",
      "\u001b[1m7608/7608\u001b[0m \u001b[32m━━━━━━━━━━━━━━━━━━━━\u001b[0m\u001b[37m\u001b[0m \u001b[1m53s\u001b[0m 7ms/step - accuracy: 0.9988 - loss: 0.0039 - val_accuracy: 0.9990 - val_loss: 0.0031\n",
      "Epoch 86/100\n",
      "\u001b[1m7608/7608\u001b[0m \u001b[32m━━━━━━━━━━━━━━━━━━━━\u001b[0m\u001b[37m\u001b[0m \u001b[1m53s\u001b[0m 7ms/step - accuracy: 0.9988 - loss: 0.0039 - val_accuracy: 0.9989 - val_loss: 0.0034\n",
      "Epoch 87/100\n",
      "\u001b[1m7608/7608\u001b[0m \u001b[32m━━━━━━━━━━━━━━━━━━━━\u001b[0m\u001b[37m\u001b[0m \u001b[1m53s\u001b[0m 7ms/step - accuracy: 0.9988 - loss: 0.0038 - val_accuracy: 0.9988 - val_loss: 0.0037\n",
      "Epoch 88/100\n",
      "\u001b[1m7608/7608\u001b[0m \u001b[32m━━━━━━━━━━━━━━━━━━━━\u001b[0m\u001b[37m\u001b[0m \u001b[1m52s\u001b[0m 7ms/step - accuracy: 0.9988 - loss: 0.0039 - val_accuracy: 0.9981 - val_loss: 0.0043\n",
      "Epoch 89/100\n",
      "\u001b[1m7608/7608\u001b[0m \u001b[32m━━━━━━━━━━━━━━━━━━━━\u001b[0m\u001b[37m\u001b[0m \u001b[1m53s\u001b[0m 7ms/step - accuracy: 0.9987 - loss: 0.0041 - val_accuracy: 0.9989 - val_loss: 0.0034\n",
      "Evaluating Model\n",
      "\u001b[1m20286/20286\u001b[0m \u001b[32m━━━━━━━━━━━━━━━━━━━━\u001b[0m\u001b[37m\u001b[0m \u001b[1m48s\u001b[0m 2ms/step - accuracy: 0.9990 - loss: 0.0031\n",
      "Accuracy for Benign: 0.9989987015724182\n",
      "Saving Model\n",
      "Model Saved!\n",
      "Training for Brute Force\n",
      "Selecting features\n",
      "Training CNN model\n",
      "Epoch 1/100\n",
      "\u001b[1m7608/7608\u001b[0m \u001b[32m━━━━━━━━━━━━━━━━━━━━\u001b[0m\u001b[37m\u001b[0m \u001b[1m55s\u001b[0m 7ms/step - accuracy: 0.9984 - loss: 0.0118 - val_accuracy: 0.9998 - val_loss: 0.0010\n",
      "Epoch 2/100\n",
      "\u001b[1m7608/7608\u001b[0m \u001b[32m━━━━━━━━━━━━━━━━━━━━\u001b[0m\u001b[37m\u001b[0m \u001b[1m52s\u001b[0m 7ms/step - accuracy: 0.9997 - loss: 9.9912e-04 - val_accuracy: 0.9999 - val_loss: 8.2988e-04\n",
      "Epoch 3/100\n",
      "\u001b[1m7608/7608\u001b[0m \u001b[32m━━━━━━━━━━━━━━━━━━━━\u001b[0m\u001b[37m\u001b[0m \u001b[1m52s\u001b[0m 7ms/step - accuracy: 0.9998 - loss: 7.6399e-04 - val_accuracy: 0.9999 - val_loss: 5.9065e-04\n",
      "Epoch 4/100\n",
      "\u001b[1m7608/7608\u001b[0m \u001b[32m━━━━━━━━━━━━━━━━━━━━\u001b[0m\u001b[37m\u001b[0m \u001b[1m52s\u001b[0m 7ms/step - accuracy: 0.9998 - loss: 7.7541e-04 - val_accuracy: 0.9999 - val_loss: 5.0977e-04\n",
      "Epoch 5/100\n",
      "\u001b[1m7608/7608\u001b[0m \u001b[32m━━━━━━━━━━━━━━━━━━━━\u001b[0m\u001b[37m\u001b[0m \u001b[1m53s\u001b[0m 7ms/step - accuracy: 0.9999 - loss: 6.7445e-04 - val_accuracy: 0.9999 - val_loss: 4.9349e-04\n",
      "Epoch 6/100\n",
      "\u001b[1m7608/7608\u001b[0m \u001b[32m━━━━━━━━━━━━━━━━━━━━\u001b[0m\u001b[37m\u001b[0m \u001b[1m52s\u001b[0m 7ms/step - accuracy: 0.9999 - loss: 6.2770e-04 - val_accuracy: 0.9999 - val_loss: 5.2407e-04\n",
      "Epoch 7/100\n",
      "\u001b[1m7608/7608\u001b[0m \u001b[32m━━━━━━━━━━━━━━━━━━━━\u001b[0m\u001b[37m\u001b[0m \u001b[1m53s\u001b[0m 7ms/step - accuracy: 0.9999 - loss: 5.6133e-04 - val_accuracy: 0.9999 - val_loss: 4.1360e-04\n",
      "Epoch 8/100\n",
      "\u001b[1m7608/7608\u001b[0m \u001b[32m━━━━━━━━━━━━━━━━━━━━\u001b[0m\u001b[37m\u001b[0m \u001b[1m52s\u001b[0m 7ms/step - accuracy: 0.9999 - loss: 5.6518e-04 - val_accuracy: 0.9999 - val_loss: 6.7225e-04\n",
      "Epoch 9/100\n",
      "\u001b[1m7608/7608\u001b[0m \u001b[32m━━━━━━━━━━━━━━━━━━━━\u001b[0m\u001b[37m\u001b[0m \u001b[1m52s\u001b[0m 7ms/step - accuracy: 0.9999 - loss: 5.8421e-04 - val_accuracy: 0.9999 - val_loss: 4.4697e-04\n",
      "Epoch 10/100\n",
      "\u001b[1m7608/7608\u001b[0m \u001b[32m━━━━━━━━━━━━━━━━━━━━\u001b[0m\u001b[37m\u001b[0m \u001b[1m53s\u001b[0m 7ms/step - accuracy: 0.9999 - loss: 5.1807e-04 - val_accuracy: 0.9999 - val_loss: 3.9046e-04\n",
      "Epoch 11/100\n",
      "\u001b[1m7608/7608\u001b[0m \u001b[32m━━━━━━━━━━━━━━━━━━━━\u001b[0m\u001b[37m\u001b[0m \u001b[1m54s\u001b[0m 7ms/step - accuracy: 0.9999 - loss: 4.6517e-04 - val_accuracy: 0.9999 - val_loss: 4.1454e-04\n",
      "Epoch 12/100\n",
      "\u001b[1m7608/7608\u001b[0m \u001b[32m━━━━━━━━━━━━━━━━━━━━\u001b[0m\u001b[37m\u001b[0m \u001b[1m55s\u001b[0m 7ms/step - accuracy: 0.9999 - loss: 4.6776e-04 - val_accuracy: 0.9999 - val_loss: 3.9676e-04\n",
      "Epoch 13/100\n",
      "\u001b[1m7608/7608\u001b[0m \u001b[32m━━━━━━━━━━━━━━━━━━━━\u001b[0m\u001b[37m\u001b[0m \u001b[1m54s\u001b[0m 7ms/step - accuracy: 0.9999 - loss: 4.4089e-04 - val_accuracy: 0.9999 - val_loss: 4.1237e-04\n",
      "Epoch 14/100\n",
      "\u001b[1m7608/7608\u001b[0m \u001b[32m━━━━━━━━━━━━━━━━━━━━\u001b[0m\u001b[37m\u001b[0m \u001b[1m55s\u001b[0m 7ms/step - accuracy: 0.9999 - loss: 4.8268e-04 - val_accuracy: 0.9999 - val_loss: 4.3017e-04\n",
      "Epoch 15/100\n",
      "\u001b[1m7608/7608\u001b[0m \u001b[32m━━━━━━━━━━━━━━━━━━━━\u001b[0m\u001b[37m\u001b[0m \u001b[1m54s\u001b[0m 7ms/step - accuracy: 0.9999 - loss: 4.0236e-04 - val_accuracy: 0.9999 - val_loss: 4.5246e-04\n",
      "Epoch 16/100\n",
      "\u001b[1m7608/7608\u001b[0m \u001b[32m━━━━━━━━━━━━━━━━━━━━\u001b[0m\u001b[37m\u001b[0m \u001b[1m55s\u001b[0m 7ms/step - accuracy: 0.9999 - loss: 4.6793e-04 - val_accuracy: 0.9999 - val_loss: 4.1429e-04\n",
      "Epoch 17/100\n",
      "\u001b[1m7608/7608\u001b[0m \u001b[32m━━━━━━━━━━━━━━━━━━━━\u001b[0m\u001b[37m\u001b[0m \u001b[1m54s\u001b[0m 7ms/step - accuracy: 0.9999 - loss: 4.4501e-04 - val_accuracy: 0.9999 - val_loss: 4.0465e-04\n",
      "Epoch 18/100\n",
      "\u001b[1m7608/7608\u001b[0m \u001b[32m━━━━━━━━━━━━━━━━━━━━\u001b[0m\u001b[37m\u001b[0m \u001b[1m54s\u001b[0m 7ms/step - accuracy: 0.9999 - loss: 4.1846e-04 - val_accuracy: 0.9999 - val_loss: 3.9480e-04\n",
      "Epoch 19/100\n",
      "\u001b[1m7608/7608\u001b[0m \u001b[32m━━━━━━━━━━━━━━━━━━━━\u001b[0m\u001b[37m\u001b[0m \u001b[1m54s\u001b[0m 7ms/step - accuracy: 0.9999 - loss: 4.6625e-04 - val_accuracy: 0.9999 - val_loss: 4.1053e-04\n",
      "Epoch 20/100\n",
      "\u001b[1m7608/7608\u001b[0m \u001b[32m━━━━━━━━━━━━━━━━━━━━\u001b[0m\u001b[37m\u001b[0m \u001b[1m55s\u001b[0m 7ms/step - accuracy: 0.9999 - loss: 3.7942e-04 - val_accuracy: 0.9999 - val_loss: 4.1328e-04\n",
      "Evaluating Model\n",
      "\u001b[1m20286/20286\u001b[0m \u001b[32m━━━━━━━━━━━━━━━━━━━━\u001b[0m\u001b[37m\u001b[0m \u001b[1m50s\u001b[0m 2ms/step - accuracy: 0.9999 - loss: 4.1756e-04\n",
      "Accuracy for Brute Force: 0.9999167919158936\n",
      "Saving Model\n",
      "Model Saved!\n",
      "Training for DDoS\n",
      "Selecting features\n",
      "Training CNN model\n",
      "Epoch 1/100\n",
      "\u001b[1m7608/7608\u001b[0m \u001b[32m━━━━━━━━━━━━━━━━━━━━\u001b[0m\u001b[37m\u001b[0m \u001b[1m57s\u001b[0m 7ms/step - accuracy: 0.9617 - loss: 0.1283 - val_accuracy: 0.9775 - val_loss: 0.0810\n",
      "Epoch 2/100\n",
      "\u001b[1m7608/7608\u001b[0m \u001b[32m━━━━━━━━━━━━━━━━━━━━\u001b[0m\u001b[37m\u001b[0m \u001b[1m54s\u001b[0m 7ms/step - accuracy: 0.9794 - loss: 0.0825 - val_accuracy: 0.9808 - val_loss: 0.0775\n",
      "Epoch 3/100\n",
      "\u001b[1m7608/7608\u001b[0m \u001b[32m━━━━━━━━━━━━━━━━━━━━\u001b[0m\u001b[37m\u001b[0m \u001b[1m55s\u001b[0m 7ms/step - accuracy: 0.9803 - loss: 0.0797 - val_accuracy: 0.9760 - val_loss: 0.1362\n",
      "Epoch 4/100\n",
      "\u001b[1m7608/7608\u001b[0m \u001b[32m━━━━━━━━━━━━━━━━━━━━\u001b[0m\u001b[37m\u001b[0m \u001b[1m54s\u001b[0m 7ms/step - accuracy: 0.9807 - loss: 0.0788 - val_accuracy: 0.9823 - val_loss: 0.0736\n",
      "Epoch 5/100\n",
      "\u001b[1m7608/7608\u001b[0m \u001b[32m━━━━━━━━━━━━━━━━━━━━\u001b[0m\u001b[37m\u001b[0m \u001b[1m54s\u001b[0m 7ms/step - accuracy: 0.9817 - loss: 0.0759 - val_accuracy: 0.9825 - val_loss: 0.0734\n",
      "Epoch 6/100\n",
      "\u001b[1m7608/7608\u001b[0m \u001b[32m━━━━━━━━━━━━━━━━━━━━\u001b[0m\u001b[37m\u001b[0m \u001b[1m53s\u001b[0m 7ms/step - accuracy: 0.9818 - loss: 0.0754 - val_accuracy: 0.9825 - val_loss: 0.0733\n",
      "Epoch 7/100\n",
      "\u001b[1m7608/7608\u001b[0m \u001b[32m━━━━━━━━━━━━━━━━━━━━\u001b[0m\u001b[37m\u001b[0m \u001b[1m54s\u001b[0m 7ms/step - accuracy: 0.9820 - loss: 0.0750 - val_accuracy: 0.9825 - val_loss: 0.0733\n",
      "Epoch 8/100\n",
      "\u001b[1m7608/7608\u001b[0m \u001b[32m━━━━━━━━━━━━━━━━━━━━\u001b[0m\u001b[37m\u001b[0m \u001b[1m54s\u001b[0m 7ms/step - accuracy: 0.9822 - loss: 0.0744 - val_accuracy: 0.9828 - val_loss: 0.0726\n",
      "Epoch 9/100\n",
      "\u001b[1m7608/7608\u001b[0m \u001b[32m━━━━━━━━━━━━━━━━━━━━\u001b[0m\u001b[37m\u001b[0m \u001b[1m54s\u001b[0m 7ms/step - accuracy: 0.9823 - loss: 0.0738 - val_accuracy: 0.9778 - val_loss: 0.0766\n",
      "Epoch 10/100\n",
      "\u001b[1m7608/7608\u001b[0m \u001b[32m━━━━━━━━━━━━━━━━━━━━\u001b[0m\u001b[37m\u001b[0m \u001b[1m54s\u001b[0m 7ms/step - accuracy: 0.9821 - loss: 0.0744 - val_accuracy: 0.9828 - val_loss: 0.0727\n",
      "Evaluating Model\n",
      "\u001b[1m20286/20286\u001b[0m \u001b[32m━━━━━━━━━━━━━━━━━━━━\u001b[0m\u001b[37m\u001b[0m \u001b[1m48s\u001b[0m 2ms/step - accuracy: 0.9778 - loss: 0.0793\n",
      "Accuracy for DDoS: 0.9775394201278687\n",
      "Saving Model\n",
      "Model Saved!\n",
      "Training for DoS\n",
      "Selecting features\n",
      "Training CNN model\n",
      "Epoch 1/100\n",
      "\u001b[1m7608/7608\u001b[0m \u001b[32m━━━━━━━━━━━━━━━━━━━━\u001b[0m\u001b[37m\u001b[0m \u001b[1m55s\u001b[0m 7ms/step - accuracy: 0.9607 - loss: 0.1131 - val_accuracy: 0.9882 - val_loss: 0.0429\n",
      "Epoch 2/100\n",
      "\u001b[1m7608/7608\u001b[0m \u001b[32m━━━━━━━━━━━━━━━━━━━━\u001b[0m\u001b[37m\u001b[0m \u001b[1m54s\u001b[0m 7ms/step - accuracy: 0.9868 - loss: 0.0454 - val_accuracy: 0.9896 - val_loss: 0.0364\n",
      "Epoch 3/100\n",
      "\u001b[1m7608/7608\u001b[0m \u001b[32m━━━━━━━━━━━━━━━━━━━━\u001b[0m\u001b[37m\u001b[0m \u001b[1m54s\u001b[0m 7ms/step - accuracy: 0.9890 - loss: 0.0385 - val_accuracy: 0.9913 - val_loss: 0.0315\n",
      "Epoch 4/100\n",
      "\u001b[1m7608/7608\u001b[0m \u001b[32m━━━━━━━━━━━━━━━━━━━━\u001b[0m\u001b[37m\u001b[0m \u001b[1m55s\u001b[0m 7ms/step - accuracy: 0.9906 - loss: 0.0331 - val_accuracy: 0.9916 - val_loss: 0.0303\n",
      "Epoch 5/100\n",
      "\u001b[1m7608/7608\u001b[0m \u001b[32m━━━━━━━━━━━━━━━━━━━━\u001b[0m\u001b[37m\u001b[0m \u001b[1m54s\u001b[0m 7ms/step - accuracy: 0.9910 - loss: 0.0321 - val_accuracy: 0.9917 - val_loss: 0.0301\n",
      "Epoch 6/100\n",
      "\u001b[1m7608/7608\u001b[0m \u001b[32m━━━━━━━━━━━━━━━━━━━━\u001b[0m\u001b[37m\u001b[0m \u001b[1m54s\u001b[0m 7ms/step - accuracy: 0.9912 - loss: 0.0312 - val_accuracy: 0.9791 - val_loss: 0.0546\n",
      "Epoch 7/100\n",
      "\u001b[1m7608/7608\u001b[0m \u001b[32m━━━━━━━━━━━━━━━━━━━━\u001b[0m\u001b[37m\u001b[0m \u001b[1m55s\u001b[0m 7ms/step - accuracy: 0.9915 - loss: 0.0308 - val_accuracy: 0.9919 - val_loss: 0.0291\n",
      "Epoch 8/100\n",
      "\u001b[1m7608/7608\u001b[0m \u001b[32m━━━━━━━━━━━━━━━━━━━━\u001b[0m\u001b[37m\u001b[0m \u001b[1m54s\u001b[0m 7ms/step - accuracy: 0.9917 - loss: 0.0301 - val_accuracy: 0.9921 - val_loss: 0.0282\n",
      "Epoch 9/100\n",
      "\u001b[1m7608/7608\u001b[0m \u001b[32m━━━━━━━━━━━━━━━━━━━━\u001b[0m\u001b[37m\u001b[0m \u001b[1m54s\u001b[0m 7ms/step - accuracy: 0.9921 - loss: 0.0297 - val_accuracy: 0.9934 - val_loss: 0.0274\n",
      "Epoch 10/100\n",
      "\u001b[1m7608/7608\u001b[0m \u001b[32m━━━━━━━━━━━━━━━━━━━━\u001b[0m\u001b[37m\u001b[0m \u001b[1m53s\u001b[0m 7ms/step - accuracy: 0.9922 - loss: 0.0295 - val_accuracy: 0.9934 - val_loss: 0.0273\n",
      "Evaluating Model\n",
      "\u001b[1m20286/20286\u001b[0m \u001b[32m━━━━━━━━━━━━━━━━━━━━\u001b[0m\u001b[37m\u001b[0m \u001b[1m49s\u001b[0m 2ms/step - accuracy: 0.9884 - loss: 0.0423\n",
      "Accuracy for DoS: 0.9881596565246582\n",
      "Saving Model\n",
      "Model Saved!\n"
     ]
    }
   ],
   "source": [
    "# Train and evaluate for each attack type (OvR)\n",
    "for i in range(0,4):#, [model,attack] in enumerate(models):\n",
    "\n",
    "    attack=classes[i]\n",
    "    # Create OvR target variable\n",
    "    y_train_ovr = (y_train_dl == i).astype(int)\n",
    "    y_test_ovr = (y_test_dl == i).astype(int)\n",
    "    y_val_ovr = (y_val_dl == i).astype(int)\n",
    "    \n",
    "\n",
    "    print(f\"Training for {attack}\")\n",
    "    \n",
    "    print(\"Selecting features\")\n",
    "    X_train_selected=x_train_dl[selected_features[attack]]\n",
    "    X_test_selected=x_test_dl[selected_features[attack]]\n",
    "    X_val_selected=x_val_dl[selected_features[attack]]\n",
    "    \n",
    "    \n",
    "    x_train_dl_rs = X_train_selected.values.reshape(X_train_selected.shape[0], X_train_selected.shape[1],1)\n",
    "    x_val_dl_rs = X_val_selected.values.reshape(X_val_selected.shape[0], X_val_selected.shape[1],1)\n",
    "    x_test_dl_rs = X_test_selected.values.reshape(X_test_selected.shape[0], X_test_selected.shape[1],1)\n",
    "    \n",
    "    print(\"Training CNN model\")\n",
    "    input_feature=X_train_selected.shape[1]\n",
    "    output_classes=1#binary classification\n",
    "    model = CNN_Model(input_feature,output_classes)\n",
    "    model.fit(x_train_dl_rs, y_train_ovr, epochs=100, batch_size=256,validation_data=(x_val_dl_rs,y_val_ovr),callbacks=[early_stopping], verbose=1)  # Adjust epochs and batch size\n",
    "\n",
    "    # Evaluate the model\n",
    "    print(\"Evaluating Model\")\n",
    "    loss, accuracy = model.evaluate(x_test_dl_rs, y_test_ovr, verbose=1)\n",
    "    print(f\"Accuracy for {attack}: {accuracy}\")\n",
    "    models[attack]=model\n",
    "    \n",
    "    print(\"Saving Model\")\n",
    "    model.save(f\"model_{attack}.h5\")\n",
    "    print(\"Model Saved!\")\n"
   ]
  },
  {
   "cell_type": "code",
   "execution_count": 30,
   "id": "3cad2d37",
   "metadata": {
    "execution": {
     "iopub.execute_input": "2024-11-26T19:43:12.937281Z",
     "iopub.status.busy": "2024-11-26T19:43:12.936963Z",
     "iopub.status.idle": "2024-11-26T19:43:13.198806Z",
     "shell.execute_reply": "2024-11-26T19:43:13.197877Z"
    },
    "papermill": {
     "duration": 6.32095,
     "end_time": "2024-11-26T19:43:13.200871",
     "exception": false,
     "start_time": "2024-11-26T19:43:06.879921",
     "status": "completed"
    },
    "tags": []
   },
   "outputs": [],
   "source": [
    "import tensorflow as tf\n",
    "\n",
    "# Function to load a model from an h5 file\n",
    "def load_model_from_h5(file_path):\n",
    "    model = tf.keras.models.load_model(file_path)\n",
    "    return model\n",
    "\n",
    "# Load all models\n",
    "models = [load_model_from_h5(f\"/kaggle/working/model_{attack}.h5\") for attack in classes]\n",
    "\n",
    "# Function to make a prediction using the OvR models\n",
    "def predict_class(x):\n",
    "    predictions = []\n",
    "    i=0\n",
    "    for model in models:\n",
    "        x_sel=x[selected_features[classes[i]]]\n",
    "        prediction = model.predict(x_sel,verbose=0)\n",
    "        predictions.append(prediction)\n",
    "        i=i+1\n",
    "\n",
    "    # Convert predictions to class probabilities\n",
    "    probabilities = np.array(predictions)\n",
    "    \n",
    "    # Predict the class with the highest probability\n",
    "    predicted_classes = np.argmax(probabilities, axis=0)\n",
    "\n",
    "    return predicted_classes\n"
   ]
  },
  {
   "cell_type": "code",
   "execution_count": 31,
   "id": "3a12b934",
   "metadata": {
    "execution": {
     "iopub.execute_input": "2024-11-26T19:43:25.158576Z",
     "iopub.status.busy": "2024-11-26T19:43:25.157732Z",
     "iopub.status.idle": "2024-11-26T19:46:18.395215Z",
     "shell.execute_reply": "2024-11-26T19:46:18.394287Z"
    },
    "papermill": {
     "duration": 185.200021,
     "end_time": "2024-11-26T19:46:24.295476",
     "exception": false,
     "start_time": "2024-11-26T19:43:19.095455",
     "status": "completed"
    },
    "tags": []
   },
   "outputs": [
    {
     "name": "stdout",
     "output_type": "stream",
     "text": [
      "Predicted class: [[3]\n",
      " [3]\n",
      " [0]\n",
      " ...\n",
      " [2]\n",
      " [0]\n",
      " [3]]\n"
     ]
    }
   ],
   "source": [
    "predicted_class = predict_class(x_test_dl)\n",
    "print(\"Predicted class:\", predicted_class)"
   ]
  },
  {
   "cell_type": "code",
   "execution_count": 32,
   "id": "0e19487d",
   "metadata": {
    "execution": {
     "iopub.execute_input": "2024-11-26T19:46:36.330643Z",
     "iopub.status.busy": "2024-11-26T19:46:36.330295Z",
     "iopub.status.idle": "2024-11-26T19:46:37.494301Z",
     "shell.execute_reply": "2024-11-26T19:46:37.493146Z"
    },
    "papermill": {
     "duration": 7.208454,
     "end_time": "2024-11-26T19:46:37.496109",
     "exception": false,
     "start_time": "2024-11-26T19:46:30.287655",
     "status": "completed"
    },
    "tags": []
   },
   "outputs": [
    {
     "name": "stdout",
     "output_type": "stream",
     "text": [
      "Accuracy: 0.9935452862103281\n",
      "Precision: 0.9935524045250682\n",
      "Recall: 0.9935452862103281\n",
      "F1-Score: 0.9935468581062189\n",
      "Confusion Matrix:\n",
      " [[250799      2    128    322]\n",
      " [     3   1234     36      0]\n",
      " [   190      0 215811   1942]\n",
      " [   140      0   1427 177104]]\n"
     ]
    }
   ],
   "source": [
    "from sklearn.metrics import precision_score, recall_score, f1_score, confusion_matrix, classification_report\n",
    "# Evaluate the model\n",
    "accuracy = accuracy_score(y_test_dl, predicted_class)\n",
    "precision = precision_score(y_test_dl, predicted_class, average='weighted')\n",
    "recall = recall_score(y_test_dl, predicted_class, average='weighted')\n",
    "f1 = f1_score(y_test_dl, predicted_class, average='weighted')\n",
    "\n",
    "confusion_mat = confusion_matrix(y_test_dl, predicted_class)\n",
    "confusion_rep = classification_report(y_test_dl, predicted_class)\n",
    "\n",
    "print(\"Accuracy:\", accuracy)\n",
    "print(\"Precision:\", precision)\n",
    "print(\"Recall:\", recall)\n",
    "print(\"F1-Score:\", f1)\n",
    "print(\"Confusion Matrix:\\n\", confusion_mat)"
   ]
  },
  {
   "cell_type": "code",
   "execution_count": 33,
   "id": "d0732f2d",
   "metadata": {
    "execution": {
     "iopub.execute_input": "2024-11-26T19:46:49.569661Z",
     "iopub.status.busy": "2024-11-26T19:46:49.568959Z",
     "iopub.status.idle": "2024-11-26T19:46:49.573608Z",
     "shell.execute_reply": "2024-11-26T19:46:49.572739Z"
    },
    "papermill": {
     "duration": 5.989061,
     "end_time": "2024-11-26T19:46:49.575336",
     "exception": false,
     "start_time": "2024-11-26T19:46:43.586275",
     "status": "completed"
    },
    "tags": []
   },
   "outputs": [
    {
     "name": "stdout",
     "output_type": "stream",
     "text": [
      "              precision    recall  f1-score   support\n",
      "\n",
      "           0       1.00      1.00      1.00    251251\n",
      "           1       1.00      0.97      0.98      1273\n",
      "           2       0.99      0.99      0.99    217943\n",
      "           3       0.99      0.99      0.99    178671\n",
      "\n",
      "    accuracy                           0.99    649138\n",
      "   macro avg       0.99      0.99      0.99    649138\n",
      "weighted avg       0.99      0.99      0.99    649138\n",
      "\n"
     ]
    }
   ],
   "source": [
    "print(confusion_rep)"
   ]
  },
  {
   "cell_type": "code",
   "execution_count": null,
   "id": "f5b2ad83",
   "metadata": {
    "papermill": {
     "duration": 5.867704,
     "end_time": "2024-11-26T19:47:01.397347",
     "exception": false,
     "start_time": "2024-11-26T19:46:55.529643",
     "status": "completed"
    },
    "tags": []
   },
   "outputs": [],
   "source": []
  }
 ],
 "metadata": {
  "kaggle": {
   "accelerator": "gpu",
   "dataSources": [
    {
     "datasetId": 5864191,
     "sourceId": 9680689,
     "sourceType": "datasetVersion"
    }
   ],
   "dockerImageVersionId": 30787,
   "isGpuEnabled": true,
   "isInternetEnabled": true,
   "language": "python",
   "sourceType": "notebook"
  },
  "kernelspec": {
   "display_name": "Python 3",
   "language": "python",
   "name": "python3"
  },
  "language_info": {
   "codemirror_mode": {
    "name": "ipython",
    "version": 3
   },
   "file_extension": ".py",
   "mimetype": "text/x-python",
   "name": "python",
   "nbconvert_exporter": "python",
   "pygments_lexer": "ipython3",
   "version": "3.10.14"
  },
  "papermill": {
   "default_parameters": {},
   "duration": 7347.372965,
   "end_time": "2024-11-26T19:47:10.805097",
   "environment_variables": {},
   "exception": null,
   "input_path": "__notebook__.ipynb",
   "output_path": "__notebook__.ipynb",
   "parameters": {},
   "start_time": "2024-11-26T17:44:43.432132",
   "version": "2.6.0"
  }
 },
 "nbformat": 4,
 "nbformat_minor": 5
}
